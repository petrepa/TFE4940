{
  "nbformat": 4,
  "nbformat_minor": 0,
  "metadata": {
    "colab": {
      "name": "TFE4940_questionnaires_data_analysis.ipynb",
      "provenance": [],
      "collapsed_sections": [
        "n9n1ZInWdSVI",
        "gKBwjUdadaq-",
        "fXn7FibYdfs9"
      ],
      "toc_visible": true
    },
    "kernelspec": {
      "name": "python3",
      "display_name": "Python 3"
    },
    "language_info": {
      "name": "python"
    }
  },
  "cells": [
    {
      "cell_type": "markdown",
      "metadata": {
        "id": "ozZJz8tWgM4h"
      },
      "source": [
        "# TFE4940 Questionnaires Data Analysis 📊❓💻\n",
        "\n",
        "This notebook 📒 is a part of Peter Remøy Paulsens🙋‍♂️ master thesis, TFE4940.\n",
        "\n",
        "Here you can see the code used for the resulting subjective analysis part, used in the final project report 📚📖\n",
        "\n",
        "The participants of this experiment filled out a questionnaire where they saw 12 different videos processed by a machine learning based foreground extractor. They were asked to some questions for each video used to collect data on the quality of their experience.\n",
        "* How satisfied are you with the quality of the silhouette extraction?\n",
        "* Did you notice any artefacts with the silhouette extraction?\n",
        "* Do you think the artefacts were annoying?\n",
        "\n",
        "---\n",
        "We are going to utilize a CSV file export from this questionnaire. We are going to have to place this file in this directory each time we want to create a new runtime of this notebook. Upload it if it isn't in the directory.\n",
        "\n",
        "Lets check if the files are placed in our directory\n",
        "\n"
      ]
    },
    {
      "cell_type": "code",
      "metadata": {
        "colab": {
          "base_uri": "https://localhost:8080/"
        },
        "id": "85fS7tkRDYGf",
        "outputId": "f3384e6f-39cd-4cd9-c344-523d5138be93"
      },
      "source": [
        "import os\n",
        "\n",
        "print(os.getcwd())      # Tells us which directory we are in\n",
        "print(os.listdir())     # Lists all of the contents in our directory"
      ],
      "execution_count": null,
      "outputs": [
        {
          "output_type": "stream",
          "name": "stdout",
          "text": [
            "/content\n",
            "['.config', '30nov2021_final.csv', 'average_objective_stats.csv', 'sample_data']\n"
          ]
        }
      ]
    },
    {
      "cell_type": "markdown",
      "metadata": {
        "id": "g7r4Cz3QGSGA"
      },
      "source": [
        "You should see something like this printed out:\n",
        "```\n",
        "['.config', 'questionnaire.csv', 'sampledata']\n",
        "```\n",
        "---\n",
        "## Analyzing Tool 🕵️‍♀️🐼🔎\n",
        "### Importing Data 🤏\n",
        "We will use [pandas](https://pandas.pydata.org) as our analyzing tool. We import this and name it **pd**."
      ]
    },
    {
      "cell_type": "code",
      "metadata": {
        "id": "jTBI3xFIF5js"
      },
      "source": [
        "import pandas as pd"
      ],
      "execution_count": null,
      "outputs": []
    },
    {
      "cell_type": "markdown",
      "metadata": {
        "id": "pjd_uRpoGFZn"
      },
      "source": [
        "From here we make a panda DataFrame which reads our csv file.\n",
        "\n",
        "We read the csv file and checks if it outputs the correct data"
      ]
    },
    {
      "cell_type": "code",
      "metadata": {
        "colab": {
          "base_uri": "https://localhost:8080/",
          "height": 695
        },
        "id": "gaN7TOYsGObI",
        "outputId": "e63db72f-b5fa-4f93-a121-243cfe3d4b07"
      },
      "source": [
        "df = pd.read_csv('30nov2021_final.csv')\n",
        "df.head()"
      ],
      "execution_count": null,
      "outputs": [
        {
          "output_type": "execute_result",
          "data": {
            "text/html": [
              "<div>\n",
              "<style scoped>\n",
              "    .dataframe tbody tr th:only-of-type {\n",
              "        vertical-align: middle;\n",
              "    }\n",
              "\n",
              "    .dataframe tbody tr th {\n",
              "        vertical-align: top;\n",
              "    }\n",
              "\n",
              "    .dataframe thead th {\n",
              "        text-align: right;\n",
              "    }\n",
              "</style>\n",
              "<table border=\"1\" class=\"dataframe\">\n",
              "  <thead>\n",
              "    <tr style=\"text-align: right;\">\n",
              "      <th></th>\n",
              "      <th>Tidsmerke</th>\n",
              "      <th>Have you signed the consent form?</th>\n",
              "      <th>How old are you?</th>\n",
              "      <th>Gender</th>\n",
              "      <th>Education</th>\n",
              "      <th>What is your occupation? If you are a student, please state the category most fitting to your study. Don't answer if you're not working.</th>\n",
              "      <th>How satisfied are you with the quality of the silhouette extraction?</th>\n",
              "      <th>Did you notice any artefacts with the silhouette extraction?</th>\n",
              "      <th>Do you think the artefacts were annoying?</th>\n",
              "      <th>How satisfied are you with the quality of the silhouette extraction?.1</th>\n",
              "      <th>Did you notice any artefacts with the silhouette extraction?.1</th>\n",
              "      <th>Do you think the artefacts were annoying?.1</th>\n",
              "      <th>How satisfied are you with the quality of the silhouette extraction?.2</th>\n",
              "      <th>Did you notice any artefacts with the silhouette extraction?.2</th>\n",
              "      <th>Do you think the artefacts were annoying?.2</th>\n",
              "      <th>How satisfied are you with the quality of the silhouette extraction?.3</th>\n",
              "      <th>Did you notice any artefacts with the silhouette extraction?.3</th>\n",
              "      <th>Do you think the artefacts were annoying?.3</th>\n",
              "      <th>How satisfied are you with the quality of the silhouette extraction?.4</th>\n",
              "      <th>Did you notice any artefacts with the silhouette extraction?.4</th>\n",
              "      <th>Do you think the artefacts were annoying?.4</th>\n",
              "      <th>How satisfied are you with the quality of the silhouette extraction?.5</th>\n",
              "      <th>Did you notice any artefacts with the silhouette extraction?.5</th>\n",
              "      <th>Do you think the artefacts were annoying?.5</th>\n",
              "      <th>How satisfied are you with the quality of the silhouette extraction?.6</th>\n",
              "      <th>Did you notice any artefacts with the silhouette extraction?.6</th>\n",
              "      <th>Do you think the artefacts were annoying?.6</th>\n",
              "      <th>How satisfied are you with the quality of the silhouette extraction?.7</th>\n",
              "      <th>Did you notice any artefacts with the silhouette extraction?.7</th>\n",
              "      <th>Do you think the artefacts were annoying?.7</th>\n",
              "      <th>How satisfied are you with the quality of the silhouette extraction?.8</th>\n",
              "      <th>Did you notice any artefacts with the silhouette extraction?.8</th>\n",
              "      <th>Do you think the artefacts were annoying?.8</th>\n",
              "      <th>How satisfied are you with the quality of the silhouette extraction?.9</th>\n",
              "      <th>Did you notice any artefacts with the silhouette extraction?.9</th>\n",
              "      <th>Do you think the artefacts were annoying?.9</th>\n",
              "      <th>How satisfied are you with the quality of the silhouette extraction?.10</th>\n",
              "      <th>Did you notice any artefacts with the silhouette extraction?.10</th>\n",
              "      <th>Do you think the artefacts were annoying?.10</th>\n",
              "      <th>How satisfied are you with the quality of the silhouette extraction?.11</th>\n",
              "      <th>Did you notice any artefacts with the silhouette extraction?.11</th>\n",
              "      <th>Do you think the artefacts were annoying?.11</th>\n",
              "      <th>Do you have any additional feedback on the contents of the videos? What is your general impression? Any feedback is welcome. Du kan skrive på norsk om du vil.</th>\n",
              "    </tr>\n",
              "  </thead>\n",
              "  <tbody>\n",
              "    <tr>\n",
              "      <th>0</th>\n",
              "      <td>2021/11/15 11:15:03 a.m. CET</td>\n",
              "      <td>Yes</td>\n",
              "      <td>35 - 44</td>\n",
              "      <td>Male</td>\n",
              "      <td>Higher than master's degree</td>\n",
              "      <td>IT and computers</td>\n",
              "      <td>Slightly satisfied</td>\n",
              "      <td>Very noticable</td>\n",
              "      <td>Very annoying</td>\n",
              "      <td>Very satisfied</td>\n",
              "      <td>Slightly noticable</td>\n",
              "      <td>Slightly annoying</td>\n",
              "      <td>Very satisfied</td>\n",
              "      <td>Slightly noticable</td>\n",
              "      <td>Slightly annoying</td>\n",
              "      <td>Moderately satisfied</td>\n",
              "      <td>Very noticable</td>\n",
              "      <td>Moderately annoying</td>\n",
              "      <td>Very satisfied</td>\n",
              "      <td>Not at all noticable</td>\n",
              "      <td>Not at all annoying</td>\n",
              "      <td>Slightly satisfied</td>\n",
              "      <td>Very noticable</td>\n",
              "      <td>Very annoying</td>\n",
              "      <td>Moderately satisfied</td>\n",
              "      <td>Very noticable</td>\n",
              "      <td>Very annoying</td>\n",
              "      <td>Very satisfied</td>\n",
              "      <td>Slightly noticable</td>\n",
              "      <td>Not at all annoying</td>\n",
              "      <td>Moderately satisfied</td>\n",
              "      <td>Moderately noticable</td>\n",
              "      <td>Moderately annoying</td>\n",
              "      <td>Moderately satisfied</td>\n",
              "      <td>Very noticable</td>\n",
              "      <td>Moderately annoying</td>\n",
              "      <td>Moderately satisfied</td>\n",
              "      <td>Very noticable</td>\n",
              "      <td>Very annoying</td>\n",
              "      <td>Moderately satisfied</td>\n",
              "      <td>Very noticable</td>\n",
              "      <td>Moderately annoying</td>\n",
              "      <td>The examples are good</td>\n",
              "    </tr>\n",
              "    <tr>\n",
              "      <th>1</th>\n",
              "      <td>2021/11/15 4:42:21 p.m. CET</td>\n",
              "      <td>Yes</td>\n",
              "      <td>25 - 34</td>\n",
              "      <td>Male</td>\n",
              "      <td>Master's degree</td>\n",
              "      <td>Electronics</td>\n",
              "      <td>Slightly satisfied</td>\n",
              "      <td>Extremely noticable</td>\n",
              "      <td>Very annoying</td>\n",
              "      <td>Moderately satisfied</td>\n",
              "      <td>Very noticable</td>\n",
              "      <td>Moderately annoying</td>\n",
              "      <td>Slightly satisfied</td>\n",
              "      <td>Extremely noticable</td>\n",
              "      <td>Very annoying</td>\n",
              "      <td>Not at all satisfied</td>\n",
              "      <td>Extremely noticable</td>\n",
              "      <td>Extremely annoying</td>\n",
              "      <td>Very satisfied</td>\n",
              "      <td>Slightly noticable</td>\n",
              "      <td>Slightly annoying</td>\n",
              "      <td>Not at all satisfied</td>\n",
              "      <td>Extremely noticable</td>\n",
              "      <td>Extremely annoying</td>\n",
              "      <td>Not at all satisfied</td>\n",
              "      <td>Extremely noticable</td>\n",
              "      <td>Extremely annoying</td>\n",
              "      <td>Very satisfied</td>\n",
              "      <td>Slightly noticable</td>\n",
              "      <td>Slightly annoying</td>\n",
              "      <td>Slightly satisfied</td>\n",
              "      <td>Very noticable</td>\n",
              "      <td>Very annoying</td>\n",
              "      <td>Slightly satisfied</td>\n",
              "      <td>Extremely noticable</td>\n",
              "      <td>Very annoying</td>\n",
              "      <td>Slightly satisfied</td>\n",
              "      <td>Extremely noticable</td>\n",
              "      <td>Very annoying</td>\n",
              "      <td>Slightly satisfied</td>\n",
              "      <td>Extremely noticable</td>\n",
              "      <td>Very annoying</td>\n",
              "      <td>NaN</td>\n",
              "    </tr>\n",
              "    <tr>\n",
              "      <th>2</th>\n",
              "      <td>2021/11/15 5:43:32 p.m. CET</td>\n",
              "      <td>Yes</td>\n",
              "      <td>18 - 24</td>\n",
              "      <td>Male</td>\n",
              "      <td>Some higher education, no degree</td>\n",
              "      <td>Science</td>\n",
              "      <td>Moderately satisfied</td>\n",
              "      <td>Very noticable</td>\n",
              "      <td>Moderately annoying</td>\n",
              "      <td>Very satisfied</td>\n",
              "      <td>Slightly noticable</td>\n",
              "      <td>Slightly annoying</td>\n",
              "      <td>Moderately satisfied</td>\n",
              "      <td>Very noticable</td>\n",
              "      <td>Moderately annoying</td>\n",
              "      <td>Not at all satisfied</td>\n",
              "      <td>Extremely noticable</td>\n",
              "      <td>Very annoying</td>\n",
              "      <td>Completely satisfied</td>\n",
              "      <td>Not at all noticable</td>\n",
              "      <td>Not at all annoying</td>\n",
              "      <td>Not at all satisfied</td>\n",
              "      <td>Extremely noticable</td>\n",
              "      <td>Very annoying</td>\n",
              "      <td>Slightly satisfied</td>\n",
              "      <td>Extremely noticable</td>\n",
              "      <td>Moderately annoying</td>\n",
              "      <td>Very satisfied</td>\n",
              "      <td>Moderately noticable</td>\n",
              "      <td>Not at all annoying</td>\n",
              "      <td>Slightly satisfied</td>\n",
              "      <td>Extremely noticable</td>\n",
              "      <td>Moderately annoying</td>\n",
              "      <td>Moderately satisfied</td>\n",
              "      <td>Very noticable</td>\n",
              "      <td>Slightly annoying</td>\n",
              "      <td>Slightly satisfied</td>\n",
              "      <td>Very noticable</td>\n",
              "      <td>Very annoying</td>\n",
              "      <td>Slightly satisfied</td>\n",
              "      <td>Extremely noticable</td>\n",
              "      <td>Very annoying</td>\n",
              "      <td>Likte dansen</td>\n",
              "    </tr>\n",
              "    <tr>\n",
              "      <th>3</th>\n",
              "      <td>2021/11/15 7:42:10 p.m. CET</td>\n",
              "      <td>Yes</td>\n",
              "      <td>45 - 54</td>\n",
              "      <td>Male</td>\n",
              "      <td>Bachelor's degree</td>\n",
              "      <td>Oil, gass and energy</td>\n",
              "      <td>Moderately satisfied</td>\n",
              "      <td>Moderately noticable</td>\n",
              "      <td>Moderately annoying</td>\n",
              "      <td>Moderately satisfied</td>\n",
              "      <td>Moderately noticable</td>\n",
              "      <td>Moderately annoying</td>\n",
              "      <td>Slightly satisfied</td>\n",
              "      <td>Very noticable</td>\n",
              "      <td>Very annoying</td>\n",
              "      <td>Slightly satisfied</td>\n",
              "      <td>Very noticable</td>\n",
              "      <td>Very annoying</td>\n",
              "      <td>Completely satisfied</td>\n",
              "      <td>Not at all noticable</td>\n",
              "      <td>Not at all annoying</td>\n",
              "      <td>Slightly satisfied</td>\n",
              "      <td>Extremely noticable</td>\n",
              "      <td>Very annoying</td>\n",
              "      <td>Slightly satisfied</td>\n",
              "      <td>Very noticable</td>\n",
              "      <td>Very annoying</td>\n",
              "      <td>Completely satisfied</td>\n",
              "      <td>Not at all noticable</td>\n",
              "      <td>Not at all annoying</td>\n",
              "      <td>Slightly satisfied</td>\n",
              "      <td>Very noticable</td>\n",
              "      <td>Very annoying</td>\n",
              "      <td>Moderately satisfied</td>\n",
              "      <td>Very noticable</td>\n",
              "      <td>Moderately annoying</td>\n",
              "      <td>Slightly satisfied</td>\n",
              "      <td>Very noticable</td>\n",
              "      <td>Very annoying</td>\n",
              "      <td>Moderately satisfied</td>\n",
              "      <td>Very noticable</td>\n",
              "      <td>Very annoying</td>\n",
              "      <td>NaN</td>\n",
              "    </tr>\n",
              "    <tr>\n",
              "      <th>4</th>\n",
              "      <td>2021/11/15 7:43:37 p.m. CET</td>\n",
              "      <td>Yes</td>\n",
              "      <td>18 - 24</td>\n",
              "      <td>Female</td>\n",
              "      <td>High school or equivalent</td>\n",
              "      <td>NaN</td>\n",
              "      <td>Very satisfied</td>\n",
              "      <td>Moderately noticable</td>\n",
              "      <td>Slightly annoying</td>\n",
              "      <td>Completely satisfied</td>\n",
              "      <td>Slightly noticable</td>\n",
              "      <td>Not at all annoying</td>\n",
              "      <td>Moderately satisfied</td>\n",
              "      <td>Very noticable</td>\n",
              "      <td>Slightly annoying</td>\n",
              "      <td>Moderately satisfied</td>\n",
              "      <td>Very noticable</td>\n",
              "      <td>Moderately annoying</td>\n",
              "      <td>Completely satisfied</td>\n",
              "      <td>Not at all noticable</td>\n",
              "      <td>Not at all annoying</td>\n",
              "      <td>Moderately satisfied</td>\n",
              "      <td>Extremely noticable</td>\n",
              "      <td>Very annoying</td>\n",
              "      <td>Slightly satisfied</td>\n",
              "      <td>Extremely noticable</td>\n",
              "      <td>Very annoying</td>\n",
              "      <td>Completely satisfied</td>\n",
              "      <td>Not at all noticable</td>\n",
              "      <td>Not at all annoying</td>\n",
              "      <td>Very satisfied</td>\n",
              "      <td>Slightly noticable</td>\n",
              "      <td>Slightly annoying</td>\n",
              "      <td>Very satisfied</td>\n",
              "      <td>Moderately noticable</td>\n",
              "      <td>Slightly annoying</td>\n",
              "      <td>Moderately satisfied</td>\n",
              "      <td>Moderately noticable</td>\n",
              "      <td>Slightly annoying</td>\n",
              "      <td>Moderately satisfied</td>\n",
              "      <td>Moderately noticable</td>\n",
              "      <td>Slightly annoying</td>\n",
              "      <td>NaN</td>\n",
              "    </tr>\n",
              "  </tbody>\n",
              "</table>\n",
              "</div>"
            ],
            "text/plain": [
              "                      Tidsmerke  ... Do you have any additional feedback on the contents of the videos? What is your general impression? Any feedback is welcome. Du kan skrive på norsk om du vil.\n",
              "0  2021/11/15 11:15:03 a.m. CET  ...                              The examples are good                                                                                                            \n",
              "1   2021/11/15 4:42:21 p.m. CET  ...                                                NaN                                                                                                            \n",
              "2   2021/11/15 5:43:32 p.m. CET  ...                                       Likte dansen                                                                                                            \n",
              "3   2021/11/15 7:42:10 p.m. CET  ...                                                NaN                                                                                                            \n",
              "4   2021/11/15 7:43:37 p.m. CET  ...                                                NaN                                                                                                            \n",
              "\n",
              "[5 rows x 43 columns]"
            ]
          },
          "metadata": {},
          "execution_count": 3
        }
      ]
    },
    {
      "cell_type": "markdown",
      "metadata": {
        "id": "wKH0IdBcGqs5"
      },
      "source": [
        "### Demographic (pre-testing) 💁‍♂️👵🌍👧🙋‍♀️\n",
        "Lets see the demographic of the participants in the experimentation.\n",
        "\n",
        "##### Distribution of Age"
      ]
    },
    {
      "cell_type": "markdown",
      "metadata": {
        "id": "l4t5KQ5cLTwB"
      },
      "source": [
        "Here we will count the number of participants of different age ranges. \n",
        "By default, pandas sort by the highest number, but we want the ages to be shown from lowest age to highest age. That's why we are reindexing the age."
      ]
    },
    {
      "cell_type": "code",
      "metadata": {
        "colab": {
          "base_uri": "https://localhost:8080/"
        },
        "id": "mgLrsp0gG5ER",
        "outputId": "4080f13a-884b-42ed-c7ab-8d32ae86cef6"
      },
      "source": [
        "age = df['How old are you?'].value_counts()\n",
        "\n",
        "age_sorted = age.reindex(['Under 18', '18 - 24', '25 - 34', '35 - 44', '45 - 54', '55 - 64', 'Older than 65'])\n",
        "\n",
        "print(age_sorted)"
      ],
      "execution_count": null,
      "outputs": [
        {
          "output_type": "stream",
          "name": "stdout",
          "text": [
            "Under 18          1\n",
            "18 - 24          17\n",
            "25 - 34          17\n",
            "35 - 44           3\n",
            "45 - 54           6\n",
            "55 - 64           9\n",
            "Older than 65     1\n",
            "Name: How old are you?, dtype: int64\n"
          ]
        }
      ]
    },
    {
      "cell_type": "markdown",
      "metadata": {
        "id": "XIhnCBNOPbnQ"
      },
      "source": [
        "We want the plot axis to be less crowded. That's why we rename some of the indices to shorten them"
      ]
    },
    {
      "cell_type": "code",
      "metadata": {
        "colab": {
          "base_uri": "https://localhost:8080/"
        },
        "id": "_UCsXlEmPcqJ",
        "outputId": "3765eda1-c70d-497e-d1ea-d105f51aafc5"
      },
      "source": [
        "\n",
        "age_sorted = age_sorted.rename(index={'Under 18': '<18'}) \n",
        "age_sorted = age_sorted.rename(index={'Older than 65': '>65'}) \n",
        "\n",
        "print(age_sorted)"
      ],
      "execution_count": null,
      "outputs": [
        {
          "output_type": "stream",
          "name": "stdout",
          "text": [
            "<18         1\n",
            "18 - 24    17\n",
            "25 - 34    17\n",
            "35 - 44     3\n",
            "45 - 54     6\n",
            "55 - 64     9\n",
            ">65         1\n",
            "Name: How old are you?, dtype: int64\n"
          ]
        }
      ]
    },
    {
      "cell_type": "markdown",
      "metadata": {
        "id": "raHLf-tRPsjs"
      },
      "source": [
        "Now we can plot the ages"
      ]
    },
    {
      "cell_type": "code",
      "metadata": {
        "colab": {
          "base_uri": "https://localhost:8080/",
          "height": 295
        },
        "id": "7flSdNhLPSx5",
        "outputId": "3c52cc6a-1c94-4834-9534-1947fbe21db6"
      },
      "source": [
        "age_plot = age_sorted.plot(kind=\"bar\", title=\"Age Distribution\", ylabel=\"Number of participants\", xlabel=\"Age\", rot=0)\n"
      ],
      "execution_count": null,
      "outputs": [
        {
          "output_type": "display_data",
          "data": {
            "image/png": "[encoded data removed]",
            "text/plain": [
              "<Figure size 432x288 with 1 Axes>"
            ]
          },
          "metadata": {
            "needs_background": "light"
          }
        }
      ]
    },
    {
      "cell_type": "markdown",
      "metadata": {
        "id": "5ittwbxZPv5e"
      },
      "source": [
        "And save the figure"
      ]
    },
    {
      "cell_type": "code",
      "metadata": {
        "id": "UdSNo546PUL3"
      },
      "source": [
        "age_plot.figure.savefig('age_plot.pdf')"
      ],
      "execution_count": null,
      "outputs": []
    },
    {
      "cell_type": "markdown",
      "metadata": {
        "id": "4q-J6kagQdyE"
      },
      "source": [
        "##### Distribution of gender"
      ]
    },
    {
      "cell_type": "code",
      "metadata": {
        "colab": {
          "base_uri": "https://localhost:8080/"
        },
        "id": "V0Ztx5awQeXD",
        "outputId": "0214ca3d-2d57-47e6-854f-2b7c358e40d0"
      },
      "source": [
        "gender = df['Gender'].value_counts()\n",
        "\n",
        "print(gender)\n",
        "\n"
      ],
      "execution_count": null,
      "outputs": [
        {
          "output_type": "stream",
          "name": "stdout",
          "text": [
            "Male      29\n",
            "Female    25\n",
            "Name: Gender, dtype: int64\n"
          ]
        }
      ]
    },
    {
      "cell_type": "code",
      "metadata": {
        "colab": {
          "base_uri": "https://localhost:8080/",
          "height": 295
        },
        "id": "06tB3mj_UfRN",
        "outputId": "59feabba-2b91-4281-b65d-b84ce361192d"
      },
      "source": [
        "gender_plot = gender.plot(kind=\"bar\", title=\"Gender Distribution\", ylabel=\"Number of participants\", xlabel=\"Gender\", rot=0, x=\"Gender\", y=\"Number of participants\")\n",
        "gender_plot.locator_params(nbins=20, axis='y')"
      ],
      "execution_count": null,
      "outputs": [
        {
          "output_type": "display_data",
          "data": {
            "image/png": "[encoded data removed]",
            "text/plain": [
              "<Figure size 432x288 with 1 Axes>"
            ]
          },
          "metadata": {
            "needs_background": "light"
          }
        }
      ]
    },
    {
      "cell_type": "code",
      "metadata": {
        "id": "2svAOKyTUhwj"
      },
      "source": [
        "gender_plot.figure.savefig('gender_plot.pdf')"
      ],
      "execution_count": null,
      "outputs": []
    },
    {
      "cell_type": "markdown",
      "metadata": {
        "id": "1CUQOs24VK91"
      },
      "source": [
        "##### Distribution of education and work"
      ]
    },
    {
      "cell_type": "code",
      "metadata": {
        "colab": {
          "base_uri": "https://localhost:8080/"
        },
        "id": "Ukqp2ZcGVd_r",
        "outputId": "c40cf706-5e32-4ed0-9907-4b627df7fda9"
      },
      "source": [
        "education = df['Education'].value_counts()\n",
        "\n",
        "print(education)"
      ],
      "execution_count": null,
      "outputs": [
        {
          "output_type": "stream",
          "name": "stdout",
          "text": [
            "Master's degree                     19\n",
            "Bachelor's degree                   17\n",
            "Some higher education, no degree    10\n",
            "High school or equivalent            4\n",
            "Two year-degree                      2\n",
            "Higher than master's degree          1\n",
            "Primary school                       1\n",
            "Name: Education, dtype: int64\n"
          ]
        }
      ]
    },
    {
      "cell_type": "code",
      "metadata": {
        "colab": {
          "base_uri": "https://localhost:8080/",
          "height": 264
        },
        "id": "uT92HWa7WcU0",
        "outputId": "36cd7dd7-afc9-46a0-baba-6a801e226dee"
      },
      "source": [
        "education_plot = education.plot(kind=\"pie\", title=\"Education Distribution\", ylabel=\"\")\n",
        "\n",
        "education_plot.figure.savefig('education.pdf')"
      ],
      "execution_count": null,
      "outputs": [
        {
          "output_type": "display_data",
          "data": {
            "image/png": "[encoded data removed]",
            "text/plain": [
              "<Figure size 432x288 with 1 Axes>"
            ]
          },
          "metadata": {}
        }
      ]
    },
    {
      "cell_type": "code",
      "metadata": {
        "colab": {
          "base_uri": "https://localhost:8080/"
        },
        "id": "FSYCvqq-WB4x",
        "outputId": "4609ab13-242f-48d7-9228-37435272eceb"
      },
      "source": [
        "occupation = df[\"What is your occupation? If you are a student, please state the category most fitting to your study. Don't answer if you're not working.\"].value_counts()\n",
        "\n",
        "print(occupation)"
      ],
      "execution_count": null,
      "outputs": [
        {
          "output_type": "stream",
          "name": "stdout",
          "text": [
            "Electronics                  10\n",
            "IT and computers              7\n",
            "Health                        6\n",
            "Pedagogy                      4\n",
            "Oil, gass and energy          4\n",
            "Children                      2\n",
            "Technology                    2\n",
            "Shipping                      2\n",
            "Industry                      2\n",
            "Economics                     2\n",
            "Sales and service             2\n",
            "Design                        2\n",
            "History                       1\n",
            "Climate and environment       1\n",
            "Aviation                      1\n",
            "People                        1\n",
            "Fishing and aquaculture       1\n",
            "Construction                  1\n",
            "Office and administration     1\n",
            "Science                       1\n",
            "Name: What is your occupation? If you are a student, please state the category most fitting to your study. Don't answer if you're not working., dtype: int64\n"
          ]
        }
      ]
    },
    {
      "cell_type": "code",
      "metadata": {
        "colab": {
          "base_uri": "https://localhost:8080/",
          "height": 264
        },
        "id": "SgVejsyzWufq",
        "outputId": "01c096e6-fd4d-443a-e9d1-2a6b0e4d5ea1"
      },
      "source": [
        "occupation_plot = occupation.plot(kind=\"pie\", title=\"Occupation Distribution\", ylabel=\"\", xlabel=\"\")\n",
        "#autopct='%1.1f%%' if you want to add percentage to the pie chart, add this to the plot()\n",
        "\n",
        "occupation_plot.figure.savefig('occupations.pdf')\n"
      ],
      "execution_count": null,
      "outputs": [
        {
          "output_type": "display_data",
          "data": {
            "image/png": "[encoded data removed]",
            "text/plain": [
              "<Figure size 432x288 with 1 Axes>"
            ]
          },
          "metadata": {}
        }
      ]
    },
    {
      "cell_type": "markdown",
      "metadata": {
        "id": "Mbv4V6U9XuSh"
      },
      "source": [
        "## Video rating 🧐🤯🤔\n",
        "\n",
        "Lets now take a look on the questionnaire answers for the rating of the videos.\n",
        "\n",
        "#### Making answers numerical 🔢\n",
        "A small problem with the original answers, is that the answers has text answers. This was to make it easier for the participants to answer the questionnaire. But, to make it easier to analyze the , we'll have to convert the data to numerical values\n",
        "\n",
        "| Number | Question 1           | Question 2           | Question 3          |\n",
        "|--------|----------------------|----------------------|---------------------|\n",
        "| 1      | Completely satisfied | Extremely noticeable | Extremely annoying  |\n",
        "| 2      | Very satisfied       | Very noticeable      | Very annoying       |\n",
        "| 3      | Moderately satisfied | Moderately noticeable| Moderately annoying |\n",
        "| 4      | Slightly satisfied   | Slightly noticeable  | Slightly annoying   |\n",
        "| 5      | Not at all satisfied | Not at all noticeable| Not at all annoying |\n",
        "\n",
        "\n",
        "We will export this to a new CSV file with numerical values, to not ruin the original CSV file"
      ]
    },
    {
      "cell_type": "code",
      "metadata": {
        "id": "dVTcByjeOEuS"
      },
      "source": [
        "# Converting the text answers from Question 1 to numbers\n",
        "df.replace(to_replace=\"Completely satisfied\", value=5, inplace=True)\n",
        "df.replace(to_replace=\"Very satisfied\", value=4, inplace=True)\n",
        "df.replace(to_replace=\"Moderately satisfied\", value=3, inplace=True)\n",
        "df.replace(to_replace=\"Slightly satisfied\", value=2, inplace=True)\n",
        "df.replace(to_replace=\"Not at all satisfied\", value=1, inplace=True)\n",
        "\n",
        "# Converting the text answers from Question 2 to numbers\n",
        "# BTW the questionnaire has a writing error in it. Noticeable have been written noticable\n",
        "df.replace(to_replace=\"Extremely noticable\", value=5, inplace=True)\n",
        "df.replace(to_replace=\"Very noticable\", value=4, inplace=True)\n",
        "df.replace(to_replace=\"Moderately noticable\", value=3, inplace=True)\n",
        "df.replace(to_replace=\"Slightly noticable\", value=2, inplace=True)\n",
        "df.replace(to_replace=\"Not at all noticable\", value=1, inplace=True)\n",
        "\n",
        "# Converting the text answers from Question 3 to numbers\n",
        "# BTW the questionnaire has a writing error in it. Noticeable have been written noticable\n",
        "df.replace(to_replace=\"Extremely annoying\", value=5, inplace=True)\n",
        "df.replace(to_replace=\"Very annoying\", value=4, inplace=True)\n",
        "df.replace(to_replace=\"Moderately annoying\", value=3, inplace=True)\n",
        "df.replace(to_replace=\"Slightly annoying\", value=2, inplace=True)\n",
        "df.replace(to_replace=\"Not at all annoying\", value=1, inplace=True)\n",
        "\n",
        "\n",
        "# Exporting to a new numerical csv file\n",
        "df.to_csv('questionnaire_numerical.csv', index=False)"
      ],
      "execution_count": null,
      "outputs": []
    },
    {
      "cell_type": "markdown",
      "metadata": {
        "id": "YEJ-IjooPSo2"
      },
      "source": [
        "Let's make a new DataFrame with the numerical CSV sheet"
      ]
    },
    {
      "cell_type": "code",
      "metadata": {
        "id": "KS7VsLOcPZFF"
      },
      "source": [
        "df_num = pd.read_csv('questionnaire_numerical.csv')"
      ],
      "execution_count": null,
      "outputs": []
    },
    {
      "cell_type": "code",
      "metadata": {
        "colab": {
          "base_uri": "https://localhost:8080/",
          "height": 298
        },
        "id": "MpVitek4QRUE",
        "outputId": "cd408c77-bb2b-4e04-8b8b-3cc919463396"
      },
      "source": [
        "df_num.plot(kind=\"bar\", title=\"Rating Numerical\", ylabel=\"Rating\", rot=0, legend=False)"
      ],
      "execution_count": null,
      "outputs": [
        {
          "output_type": "execute_result",
          "data": {
            "text/plain": [
              "<matplotlib.axes._subplots.AxesSubplot at 0x7f7f1e916ed0>"
            ]
          },
          "metadata": {},
          "execution_count": 17
        },
        {
          "output_type": "display_data",
          "data": {
            "image/png": "[encoded data removed]",
            "text/plain": [
              "<Figure size 432x288 with 1 Axes>"
            ]
          },
          "metadata": {
            "needs_background": "light"
          }
        }
      ]
    },
    {
      "cell_type": "markdown",
      "metadata": {
        "id": "P-dWMONBxlXr"
      },
      "source": [
        "### Analysis\n",
        "We will now plot all of the questions to each video"
      ]
    },
    {
      "cell_type": "markdown",
      "metadata": {
        "id": "s43Epj0siyW-"
      },
      "source": [
        "We import numpy to easier manipulate the dataframes to be able to retrieve the coloumns in our dataframe to get the corresponding questions for the videos\n",
        "\n",
        "---\n",
        "\n"
      ]
    },
    {
      "cell_type": "code",
      "metadata": {
        "id": "RLwdLvXsRt8T"
      },
      "source": [
        "import numpy as np"
      ],
      "execution_count": null,
      "outputs": []
    },
    {
      "cell_type": "markdown",
      "metadata": {
        "id": "9vP8VQOhjUPy"
      },
      "source": [
        "We also need to remember that the videos were randomized in the Google Forms sheet. This table shows the order in the questionnaire\n",
        "\n",
        "|               |         |         |         |         |         |        |       |         |         |         |         |         |\n",
        "|---------------|---------|---------|---------|---------|---------|--------|-------|---------|---------|---------|---------|---------|\n",
        "| Original List | 1       | 2       | 3       | 4       | 5       | 6      | 7     | 8       | 9       | 10      | 11      | 12      |\n",
        "| Shuffled List | 10      | 9       | 3       | 7       | 6       | 2      | 1     | 12      | 8       | 4       | 11      | 5       |\n",
        "| Coloumn Range | [33:36] | [30:33] | [12:15] | [24:27] | [21:24] | [9:12] | [6:9] | [39:42] | [27:30] | [15:18] | [36:39] | [18:21] |\n",
        "\n",
        "\n",
        "The next code block creates an arranged version of our dataframe."
      ]
    },
    {
      "cell_type": "code",
      "metadata": {
        "id": "4IER4I6iHyd7"
      },
      "source": [
        "df_arranged = df.iloc[:,np.r_[33:36,30:33,12:15,24:27,21:24,9:12,6:9,39:42,27:30,15:18,36:39,18:21]]\n",
        "#display(df_arranged)"
      ],
      "execution_count": null,
      "outputs": []
    },
    {
      "cell_type": "markdown",
      "metadata": {
        "id": "Ub4m4X1ot_iF"
      },
      "source": [
        "We will make the folder where our objective plots will be placed"
      ]
    },
    {
      "cell_type": "code",
      "metadata": {
        "id": "ocFrwIpGuDgc"
      },
      "source": [
        "import os\n",
        "\n",
        "if not os.path.exists('rating'):\n",
        "  os.mkdir('rating')"
      ],
      "execution_count": null,
      "outputs": []
    },
    {
      "cell_type": "markdown",
      "metadata": {
        "id": "1IF1nPMri2F0"
      },
      "source": [
        "Let's make a function which will be able to plot our selected questions from the dataset by defining which ranges of coloums we want to have plotted. The video index parameter let us set the video title index of the plot."
      ]
    },
    {
      "cell_type": "code",
      "metadata": {
        "id": "Zv70kqUmfrBx"
      },
      "source": [
        "def plot_videoQ(coloumn_start, coloumn_end, video_index):\n",
        "  xlabels = []\n",
        "\n",
        "  for i in range(1, 4):\n",
        "    xlabels.append(\"Q\"+str(i))\n",
        "  \n",
        "  video = df_num.iloc[:, coloumn_start:coloumn_end]\n",
        "  video_trans_mean = video.transpose().mean(axis=1)\n",
        "\n",
        "  print(list(video.columns.values))\n",
        "\n",
        "  plt = video_trans_mean.plot(kind=\"bar\", yerr=std_dev(coloumn_start, coloumn_end)) \n",
        "\n",
        "  plt.set_title(\"Mean scores from video \" + str(video_index))\n",
        "  plt.set_xlabel(\"Questions\")\n",
        "  plt.set_ylabel(\"Score\")\n",
        "  plt.set_ylim(0, 5)\n",
        "  plt.set_xticklabels( xlabels, rotation=0 )\n",
        "\n",
        "  plot = plt.figure\n",
        "  plot.savefig('rating/video_'+str(video_index)+'.pdf')\n",
        "  \n",
        "  plot.show()\n",
        "  return True\n"
      ],
      "execution_count": null,
      "outputs": []
    },
    {
      "cell_type": "markdown",
      "metadata": {
        "id": "dcAm9cpquRZQ"
      },
      "source": [
        "We also need to know the standard deviation for our answers to see the spread in them."
      ]
    },
    {
      "cell_type": "code",
      "metadata": {
        "id": "DNLynqawuVlY"
      },
      "source": [
        "def std_dev(coloumn_start, coloumn_end):\n",
        "  std = df_num.iloc[:, coloumn_start:coloumn_end].std()\n",
        "\n",
        "  return std"
      ],
      "execution_count": null,
      "outputs": []
    },
    {
      "cell_type": "code",
      "metadata": {
        "id": "moskoYif0zWE"
      },
      "source": [
        "def rating_stats(coloumn_start, coloumn_end):\n",
        "  video = df_num.iloc[:, coloumn_start:coloumn_end]\n",
        "  video_trans_mean = video.transpose().mean(axis=1)\n",
        "\n",
        "  stats_series = video_trans_mean.rename(\"Mean\")\n",
        "\n",
        "  stats_series_percentage = stats_series.iloc[:]/5*100\n",
        "  percentage = stats_series_percentage.rename(\"Percentage of 5\")\n",
        "\n",
        "  standard_deviation_series = std_dev(coloumn_start, coloumn_end)\n",
        "  standard_dev = standard_deviation_series.rename(\"Standard Deviation\")\n",
        "\n",
        "  stats = pd.concat([stats_series, percentage, standard_dev], axis=1)\n",
        "  \n",
        "  return display(stats)"
      ],
      "execution_count": null,
      "outputs": []
    },
    {
      "cell_type": "code",
      "metadata": {
        "id": "N0xtC523uqAc"
      },
      "source": [
        "def analysis(coloumn_start, coloumn_end, video_index):\n",
        "  std_dev(coloumn_start, coloumn_end)\n",
        "  plot_videoQ(coloumn_start, coloumn_end, video_index)\n",
        "  #print(rating_stats(coloumn_start, coloumn_end))\n",
        "  rating_stats(coloumn_start, coloumn_end)\n",
        "\n",
        "  return True"
      ],
      "execution_count": null,
      "outputs": []
    },
    {
      "cell_type": "markdown",
      "metadata": {
        "id": "8ErC1edcqIlO"
      },
      "source": [
        "#### Analysis of video 1\n",
        "The questions for video 1 is in coloumn 33, 34 and 35"
      ]
    },
    {
      "cell_type": "code",
      "metadata": {
        "colab": {
          "base_uri": "https://localhost:8080/",
          "height": 476
        },
        "id": "X1Y5WbNUqO6U",
        "outputId": "ddb3e858-0c5d-4573-e11d-f2aab1503d5e"
      },
      "source": [
        "analysis(33, 36, 1)"
      ],
      "execution_count": null,
      "outputs": [
        {
          "output_type": "stream",
          "name": "stdout",
          "text": [
            "['How satisfied are you with the quality of the silhouette extraction?.9', 'Did you notice any artefacts with the silhouette extraction?.9', 'Do you think the artefacts were annoying?.9']\n"
          ]
        },
        {
          "output_type": "display_data",
          "data": {
            "text/html": [
              "<div>\n",
              "<style scoped>\n",
              "    .dataframe tbody tr th:only-of-type {\n",
              "        vertical-align: middle;\n",
              "    }\n",
              "\n",
              "    .dataframe tbody tr th {\n",
              "        vertical-align: top;\n",
              "    }\n",
              "\n",
              "    .dataframe thead th {\n",
              "        text-align: right;\n",
              "    }\n",
              "</style>\n",
              "<table border=\"1\" class=\"dataframe\">\n",
              "  <thead>\n",
              "    <tr style=\"text-align: right;\">\n",
              "      <th></th>\n",
              "      <th>Mean</th>\n",
              "      <th>Percentage of 5</th>\n",
              "      <th>Standard Deviation</th>\n",
              "    </tr>\n",
              "  </thead>\n",
              "  <tbody>\n",
              "    <tr>\n",
              "      <th>How satisfied are you with the quality of the silhouette extraction?.9</th>\n",
              "      <td>2.759259</td>\n",
              "      <td>55.185185</td>\n",
              "      <td>0.775453</td>\n",
              "    </tr>\n",
              "    <tr>\n",
              "      <th>Did you notice any artefacts with the silhouette extraction?.9</th>\n",
              "      <td>3.444444</td>\n",
              "      <td>68.888889</td>\n",
              "      <td>0.839287</td>\n",
              "    </tr>\n",
              "    <tr>\n",
              "      <th>Do you think the artefacts were annoying?.9</th>\n",
              "      <td>3.055556</td>\n",
              "      <td>61.111111</td>\n",
              "      <td>0.919735</td>\n",
              "    </tr>\n",
              "  </tbody>\n",
              "</table>\n",
              "</div>"
            ],
            "text/plain": [
              "                                                        Mean  ...  Standard Deviation\n",
              "How satisfied are you with the quality of the s...  2.759259  ...            0.775453\n",
              "Did you notice any artefacts with the silhouett...  3.444444  ...            0.839287\n",
              "Do you think the artefacts were annoying?.9         3.055556  ...            0.919735\n",
              "\n",
              "[3 rows x 3 columns]"
            ]
          },
          "metadata": {}
        },
        {
          "output_type": "execute_result",
          "data": {
            "text/plain": [
              "True"
            ]
          },
          "metadata": {},
          "execution_count": 25
        },
        {
          "output_type": "display_data",
          "data": {
            "image/png": "[encoded data removed]",
            "text/plain": [
              "<Figure size 432x288 with 1 Axes>"
            ]
          },
          "metadata": {
            "needs_background": "light"
          }
        }
      ]
    },
    {
      "cell_type": "markdown",
      "metadata": {
        "id": "IXeVeMtfq6fL"
      },
      "source": [
        "#### Analysis of video 2\n",
        "The questions for video 2 is in coloumn 30, 31 and 32"
      ]
    },
    {
      "cell_type": "code",
      "metadata": {
        "colab": {
          "base_uri": "https://localhost:8080/",
          "height": 476
        },
        "id": "DRmxDs1brFeJ",
        "outputId": "05fed086-c2eb-4492-b33a-805605c335e1"
      },
      "source": [
        "analysis(30, 33, 2)"
      ],
      "execution_count": null,
      "outputs": [
        {
          "output_type": "stream",
          "name": "stdout",
          "text": [
            "['How satisfied are you with the quality of the silhouette extraction?.8', 'Did you notice any artefacts with the silhouette extraction?.8', 'Do you think the artefacts were annoying?.8']\n"
          ]
        },
        {
          "output_type": "display_data",
          "data": {
            "text/html": [
              "<div>\n",
              "<style scoped>\n",
              "    .dataframe tbody tr th:only-of-type {\n",
              "        vertical-align: middle;\n",
              "    }\n",
              "\n",
              "    .dataframe tbody tr th {\n",
              "        vertical-align: top;\n",
              "    }\n",
              "\n",
              "    .dataframe thead th {\n",
              "        text-align: right;\n",
              "    }\n",
              "</style>\n",
              "<table border=\"1\" class=\"dataframe\">\n",
              "  <thead>\n",
              "    <tr style=\"text-align: right;\">\n",
              "      <th></th>\n",
              "      <th>Mean</th>\n",
              "      <th>Percentage of 5</th>\n",
              "      <th>Standard Deviation</th>\n",
              "    </tr>\n",
              "  </thead>\n",
              "  <tbody>\n",
              "    <tr>\n",
              "      <th>How satisfied are you with the quality of the silhouette extraction?.8</th>\n",
              "      <td>2.592593</td>\n",
              "      <td>51.851852</td>\n",
              "      <td>0.789519</td>\n",
              "    </tr>\n",
              "    <tr>\n",
              "      <th>Did you notice any artefacts with the silhouette extraction?.8</th>\n",
              "      <td>3.574074</td>\n",
              "      <td>71.481481</td>\n",
              "      <td>0.716434</td>\n",
              "    </tr>\n",
              "    <tr>\n",
              "      <th>Do you think the artefacts were annoying?.8</th>\n",
              "      <td>2.981481</td>\n",
              "      <td>59.629630</td>\n",
              "      <td>0.835323</td>\n",
              "    </tr>\n",
              "  </tbody>\n",
              "</table>\n",
              "</div>"
            ],
            "text/plain": [
              "                                                        Mean  ...  Standard Deviation\n",
              "How satisfied are you with the quality of the s...  2.592593  ...            0.789519\n",
              "Did you notice any artefacts with the silhouett...  3.574074  ...            0.716434\n",
              "Do you think the artefacts were annoying?.8         2.981481  ...            0.835323\n",
              "\n",
              "[3 rows x 3 columns]"
            ]
          },
          "metadata": {}
        },
        {
          "output_type": "execute_result",
          "data": {
            "text/plain": [
              "True"
            ]
          },
          "metadata": {},
          "execution_count": 26
        },
        {
          "output_type": "display_data",
          "data": {
            "image/png": "[encoded data removed]",
            "text/plain": [
              "<Figure size 432x288 with 1 Axes>"
            ]
          },
          "metadata": {
            "needs_background": "light"
          }
        }
      ]
    },
    {
      "cell_type": "markdown",
      "metadata": {
        "id": "-GKiHZOcrLgc"
      },
      "source": [
        "#### Analysis of video 3\n",
        "The questions for video 3 is in coloumn 12, 13 and 14"
      ]
    },
    {
      "cell_type": "code",
      "metadata": {
        "colab": {
          "base_uri": "https://localhost:8080/",
          "height": 476
        },
        "id": "KBkYKqxgrPxz",
        "outputId": "209dda71-802f-44c3-a81c-360a2d31cfbb"
      },
      "source": [
        "analysis(12, 15, 3)"
      ],
      "execution_count": null,
      "outputs": [
        {
          "output_type": "stream",
          "name": "stdout",
          "text": [
            "['How satisfied are you with the quality of the silhouette extraction?.2', 'Did you notice any artefacts with the silhouette extraction?.2', 'Do you think the artefacts were annoying?.2']\n"
          ]
        },
        {
          "output_type": "display_data",
          "data": {
            "text/html": [
              "<div>\n",
              "<style scoped>\n",
              "    .dataframe tbody tr th:only-of-type {\n",
              "        vertical-align: middle;\n",
              "    }\n",
              "\n",
              "    .dataframe tbody tr th {\n",
              "        vertical-align: top;\n",
              "    }\n",
              "\n",
              "    .dataframe thead th {\n",
              "        text-align: right;\n",
              "    }\n",
              "</style>\n",
              "<table border=\"1\" class=\"dataframe\">\n",
              "  <thead>\n",
              "    <tr style=\"text-align: right;\">\n",
              "      <th></th>\n",
              "      <th>Mean</th>\n",
              "      <th>Percentage of 5</th>\n",
              "      <th>Standard Deviation</th>\n",
              "    </tr>\n",
              "  </thead>\n",
              "  <tbody>\n",
              "    <tr>\n",
              "      <th>How satisfied are you with the quality of the silhouette extraction?.2</th>\n",
              "      <td>2.870370</td>\n",
              "      <td>57.407407</td>\n",
              "      <td>0.847778</td>\n",
              "    </tr>\n",
              "    <tr>\n",
              "      <th>Did you notice any artefacts with the silhouette extraction?.2</th>\n",
              "      <td>3.407407</td>\n",
              "      <td>68.148148</td>\n",
              "      <td>0.921822</td>\n",
              "    </tr>\n",
              "    <tr>\n",
              "      <th>Do you think the artefacts were annoying?.2</th>\n",
              "      <td>2.925926</td>\n",
              "      <td>58.518519</td>\n",
              "      <td>0.928619</td>\n",
              "    </tr>\n",
              "  </tbody>\n",
              "</table>\n",
              "</div>"
            ],
            "text/plain": [
              "                                                        Mean  ...  Standard Deviation\n",
              "How satisfied are you with the quality of the s...  2.870370  ...            0.847778\n",
              "Did you notice any artefacts with the silhouett...  3.407407  ...            0.921822\n",
              "Do you think the artefacts were annoying?.2         2.925926  ...            0.928619\n",
              "\n",
              "[3 rows x 3 columns]"
            ]
          },
          "metadata": {}
        },
        {
          "output_type": "execute_result",
          "data": {
            "text/plain": [
              "True"
            ]
          },
          "metadata": {},
          "execution_count": 27
        },
        {
          "output_type": "display_data",
          "data": {
            "image/png": "[encoded data removed]",
            "text/plain": [
              "<Figure size 432x288 with 1 Axes>"
            ]
          },
          "metadata": {
            "needs_background": "light"
          }
        }
      ]
    },
    {
      "cell_type": "markdown",
      "metadata": {
        "id": "e8c3cQq8rq9p"
      },
      "source": [
        "#### Analysis of video 4\n",
        "The questions for video 4 is in coloumn 24, 25 and 26"
      ]
    },
    {
      "cell_type": "code",
      "metadata": {
        "colab": {
          "base_uri": "https://localhost:8080/",
          "height": 476
        },
        "id": "iVrb0C_mrx1T",
        "outputId": "a9015981-213f-40f9-ed33-3d7d856bccc8"
      },
      "source": [
        "analysis(24, 27, 4)"
      ],
      "execution_count": null,
      "outputs": [
        {
          "output_type": "stream",
          "name": "stdout",
          "text": [
            "['How satisfied are you with the quality of the silhouette extraction?.6', 'Did you notice any artefacts with the silhouette extraction?.6', 'Do you think the artefacts were annoying?.6']\n"
          ]
        },
        {
          "output_type": "display_data",
          "data": {
            "text/html": [
              "<div>\n",
              "<style scoped>\n",
              "    .dataframe tbody tr th:only-of-type {\n",
              "        vertical-align: middle;\n",
              "    }\n",
              "\n",
              "    .dataframe tbody tr th {\n",
              "        vertical-align: top;\n",
              "    }\n",
              "\n",
              "    .dataframe thead th {\n",
              "        text-align: right;\n",
              "    }\n",
              "</style>\n",
              "<table border=\"1\" class=\"dataframe\">\n",
              "  <thead>\n",
              "    <tr style=\"text-align: right;\">\n",
              "      <th></th>\n",
              "      <th>Mean</th>\n",
              "      <th>Percentage of 5</th>\n",
              "      <th>Standard Deviation</th>\n",
              "    </tr>\n",
              "  </thead>\n",
              "  <tbody>\n",
              "    <tr>\n",
              "      <th>How satisfied are you with the quality of the silhouette extraction?.6</th>\n",
              "      <td>1.685185</td>\n",
              "      <td>33.703704</td>\n",
              "      <td>0.796788</td>\n",
              "    </tr>\n",
              "    <tr>\n",
              "      <th>Did you notice any artefacts with the silhouette extraction?.6</th>\n",
              "      <td>4.444444</td>\n",
              "      <td>88.888889</td>\n",
              "      <td>0.743948</td>\n",
              "    </tr>\n",
              "    <tr>\n",
              "      <th>Do you think the artefacts were annoying?.6</th>\n",
              "      <td>3.981481</td>\n",
              "      <td>79.629630</td>\n",
              "      <td>0.980773</td>\n",
              "    </tr>\n",
              "  </tbody>\n",
              "</table>\n",
              "</div>"
            ],
            "text/plain": [
              "                                                        Mean  ...  Standard Deviation\n",
              "How satisfied are you with the quality of the s...  1.685185  ...            0.796788\n",
              "Did you notice any artefacts with the silhouett...  4.444444  ...            0.743948\n",
              "Do you think the artefacts were annoying?.6         3.981481  ...            0.980773\n",
              "\n",
              "[3 rows x 3 columns]"
            ]
          },
          "metadata": {}
        },
        {
          "output_type": "execute_result",
          "data": {
            "text/plain": [
              "True"
            ]
          },
          "metadata": {},
          "execution_count": 28
        },
        {
          "output_type": "display_data",
          "data": {
            "image/png": "[encoded data removed]",
            "text/plain": [
              "<Figure size 432x288 with 1 Axes>"
            ]
          },
          "metadata": {
            "needs_background": "light"
          }
        }
      ]
    },
    {
      "cell_type": "markdown",
      "metadata": {
        "id": "8moKtB9ar8Av"
      },
      "source": [
        "#### Analysis of video 5\n",
        "The questions for video 5 is in coloumn 21, 22 and 23"
      ]
    },
    {
      "cell_type": "code",
      "metadata": {
        "colab": {
          "base_uri": "https://localhost:8080/",
          "height": 476
        },
        "id": "bZd3x_5dsAW8",
        "outputId": "a2b12388-75cc-401b-a320-3a71351db859"
      },
      "source": [
        "analysis(21, 24, 5)"
      ],
      "execution_count": null,
      "outputs": [
        {
          "output_type": "stream",
          "name": "stdout",
          "text": [
            "['How satisfied are you with the quality of the silhouette extraction?.5', 'Did you notice any artefacts with the silhouette extraction?.5', 'Do you think the artefacts were annoying?.5']\n"
          ]
        },
        {
          "output_type": "display_data",
          "data": {
            "text/html": [
              "<div>\n",
              "<style scoped>\n",
              "    .dataframe tbody tr th:only-of-type {\n",
              "        vertical-align: middle;\n",
              "    }\n",
              "\n",
              "    .dataframe tbody tr th {\n",
              "        vertical-align: top;\n",
              "    }\n",
              "\n",
              "    .dataframe thead th {\n",
              "        text-align: right;\n",
              "    }\n",
              "</style>\n",
              "<table border=\"1\" class=\"dataframe\">\n",
              "  <thead>\n",
              "    <tr style=\"text-align: right;\">\n",
              "      <th></th>\n",
              "      <th>Mean</th>\n",
              "      <th>Percentage of 5</th>\n",
              "      <th>Standard Deviation</th>\n",
              "    </tr>\n",
              "  </thead>\n",
              "  <tbody>\n",
              "    <tr>\n",
              "      <th>How satisfied are you with the quality of the silhouette extraction?.5</th>\n",
              "      <td>1.685185</td>\n",
              "      <td>33.703704</td>\n",
              "      <td>0.772745</td>\n",
              "    </tr>\n",
              "    <tr>\n",
              "      <th>Did you notice any artefacts with the silhouette extraction?.5</th>\n",
              "      <td>4.574074</td>\n",
              "      <td>91.481481</td>\n",
              "      <td>0.569735</td>\n",
              "    </tr>\n",
              "    <tr>\n",
              "      <th>Do you think the artefacts were annoying?.5</th>\n",
              "      <td>4.113208</td>\n",
              "      <td>82.264151</td>\n",
              "      <td>0.776094</td>\n",
              "    </tr>\n",
              "  </tbody>\n",
              "</table>\n",
              "</div>"
            ],
            "text/plain": [
              "                                                        Mean  ...  Standard Deviation\n",
              "How satisfied are you with the quality of the s...  1.685185  ...            0.772745\n",
              "Did you notice any artefacts with the silhouett...  4.574074  ...            0.569735\n",
              "Do you think the artefacts were annoying?.5         4.113208  ...            0.776094\n",
              "\n",
              "[3 rows x 3 columns]"
            ]
          },
          "metadata": {}
        },
        {
          "output_type": "execute_result",
          "data": {
            "text/plain": [
              "True"
            ]
          },
          "metadata": {},
          "execution_count": 29
        },
        {
          "output_type": "display_data",
          "data": {
            "image/png": "[encoded data removed]",
            "text/plain": [
              "<Figure size 432x288 with 1 Axes>"
            ]
          },
          "metadata": {
            "needs_background": "light"
          }
        }
      ]
    },
    {
      "cell_type": "markdown",
      "metadata": {
        "id": "y4854cgEsHRF"
      },
      "source": [
        "#### Analysis of video 6\n",
        "The questions for video 6 is in coloumn 9, 10 and 11"
      ]
    },
    {
      "cell_type": "code",
      "metadata": {
        "colab": {
          "base_uri": "https://localhost:8080/",
          "height": 476
        },
        "id": "VEpgY1vIsTPb",
        "outputId": "2620195c-c099-4f48-f636-e1c42c399fdb"
      },
      "source": [
        "analysis(9, 12, 6)"
      ],
      "execution_count": null,
      "outputs": [
        {
          "output_type": "stream",
          "name": "stdout",
          "text": [
            "['How satisfied are you with the quality of the silhouette extraction?.1', 'Did you notice any artefacts with the silhouette extraction?.1', 'Do you think the artefacts were annoying?.1']\n"
          ]
        },
        {
          "output_type": "display_data",
          "data": {
            "text/html": [
              "<div>\n",
              "<style scoped>\n",
              "    .dataframe tbody tr th:only-of-type {\n",
              "        vertical-align: middle;\n",
              "    }\n",
              "\n",
              "    .dataframe tbody tr th {\n",
              "        vertical-align: top;\n",
              "    }\n",
              "\n",
              "    .dataframe thead th {\n",
              "        text-align: right;\n",
              "    }\n",
              "</style>\n",
              "<table border=\"1\" class=\"dataframe\">\n",
              "  <thead>\n",
              "    <tr style=\"text-align: right;\">\n",
              "      <th></th>\n",
              "      <th>Mean</th>\n",
              "      <th>Percentage of 5</th>\n",
              "      <th>Standard Deviation</th>\n",
              "    </tr>\n",
              "  </thead>\n",
              "  <tbody>\n",
              "    <tr>\n",
              "      <th>How satisfied are you with the quality of the silhouette extraction?.1</th>\n",
              "      <td>3.814815</td>\n",
              "      <td>76.296296</td>\n",
              "      <td>0.778825</td>\n",
              "    </tr>\n",
              "    <tr>\n",
              "      <th>Did you notice any artefacts with the silhouette extraction?.1</th>\n",
              "      <td>2.314815</td>\n",
              "      <td>46.296296</td>\n",
              "      <td>0.842818</td>\n",
              "    </tr>\n",
              "    <tr>\n",
              "      <th>Do you think the artefacts were annoying?.1</th>\n",
              "      <td>1.796296</td>\n",
              "      <td>35.925926</td>\n",
              "      <td>0.855165</td>\n",
              "    </tr>\n",
              "  </tbody>\n",
              "</table>\n",
              "</div>"
            ],
            "text/plain": [
              "                                                        Mean  ...  Standard Deviation\n",
              "How satisfied are you with the quality of the s...  3.814815  ...            0.778825\n",
              "Did you notice any artefacts with the silhouett...  2.314815  ...            0.842818\n",
              "Do you think the artefacts were annoying?.1         1.796296  ...            0.855165\n",
              "\n",
              "[3 rows x 3 columns]"
            ]
          },
          "metadata": {}
        },
        {
          "output_type": "execute_result",
          "data": {
            "text/plain": [
              "True"
            ]
          },
          "metadata": {},
          "execution_count": 30
        },
        {
          "output_type": "display_data",
          "data": {
            "image/png": "[encoded data removed]",
            "text/plain": [
              "<Figure size 432x288 with 1 Axes>"
            ]
          },
          "metadata": {
            "needs_background": "light"
          }
        }
      ]
    },
    {
      "cell_type": "markdown",
      "metadata": {
        "id": "QGvBZPefjF8U"
      },
      "source": [
        "#### Analysis of video 7\n",
        "The questions for video 7 is in coloumn 6, 7 and 8"
      ]
    },
    {
      "cell_type": "code",
      "metadata": {
        "colab": {
          "base_uri": "https://localhost:8080/",
          "height": 476
        },
        "id": "9Yl7s5UYh_Uk",
        "outputId": "45cc0113-0d13-4f65-9820-89da5aecd99e"
      },
      "source": [
        "analysis(6, 9, 7) # Video 1"
      ],
      "execution_count": null,
      "outputs": [
        {
          "output_type": "stream",
          "name": "stdout",
          "text": [
            "['How satisfied are you with the quality of the silhouette extraction?', 'Did you notice any artefacts with the silhouette extraction?', 'Do you think the artefacts were annoying?']\n"
          ]
        },
        {
          "output_type": "display_data",
          "data": {
            "text/html": [
              "<div>\n",
              "<style scoped>\n",
              "    .dataframe tbody tr th:only-of-type {\n",
              "        vertical-align: middle;\n",
              "    }\n",
              "\n",
              "    .dataframe tbody tr th {\n",
              "        vertical-align: top;\n",
              "    }\n",
              "\n",
              "    .dataframe thead th {\n",
              "        text-align: right;\n",
              "    }\n",
              "</style>\n",
              "<table border=\"1\" class=\"dataframe\">\n",
              "  <thead>\n",
              "    <tr style=\"text-align: right;\">\n",
              "      <th></th>\n",
              "      <th>Mean</th>\n",
              "      <th>Percentage of 5</th>\n",
              "      <th>Standard Deviation</th>\n",
              "    </tr>\n",
              "  </thead>\n",
              "  <tbody>\n",
              "    <tr>\n",
              "      <th>How satisfied are you with the quality of the silhouette extraction?</th>\n",
              "      <td>2.592593</td>\n",
              "      <td>51.851852</td>\n",
              "      <td>0.858224</td>\n",
              "    </tr>\n",
              "    <tr>\n",
              "      <th>Did you notice any artefacts with the silhouette extraction?</th>\n",
              "      <td>3.851852</td>\n",
              "      <td>77.037037</td>\n",
              "      <td>0.939840</td>\n",
              "    </tr>\n",
              "    <tr>\n",
              "      <th>Do you think the artefacts were annoying?</th>\n",
              "      <td>3.185185</td>\n",
              "      <td>63.703704</td>\n",
              "      <td>0.912680</td>\n",
              "    </tr>\n",
              "  </tbody>\n",
              "</table>\n",
              "</div>"
            ],
            "text/plain": [
              "                                                        Mean  ...  Standard Deviation\n",
              "How satisfied are you with the quality of the s...  2.592593  ...            0.858224\n",
              "Did you notice any artefacts with the silhouett...  3.851852  ...            0.939840\n",
              "Do you think the artefacts were annoying?           3.185185  ...            0.912680\n",
              "\n",
              "[3 rows x 3 columns]"
            ]
          },
          "metadata": {}
        },
        {
          "output_type": "execute_result",
          "data": {
            "text/plain": [
              "True"
            ]
          },
          "metadata": {},
          "execution_count": 31
        },
        {
          "output_type": "display_data",
          "data": {
            "image/png": "[encoded data removed]",
            "text/plain": [
              "<Figure size 432x288 with 1 Axes>"
            ]
          },
          "metadata": {
            "needs_background": "light"
          }
        }
      ]
    },
    {
      "cell_type": "markdown",
      "metadata": {
        "id": "_FFpMWPisakh"
      },
      "source": [
        "#### Analysis of video 8\n",
        "The questions for video 8 is in coloumn 39, 40 and 41"
      ]
    },
    {
      "cell_type": "code",
      "metadata": {
        "colab": {
          "base_uri": "https://localhost:8080/",
          "height": 476
        },
        "id": "p9BpJYOVmoy1",
        "outputId": "90754511-ffa0-4770-8f9b-9275f29d529c"
      },
      "source": [
        "analysis(39, 42, 8)"
      ],
      "execution_count": null,
      "outputs": [
        {
          "output_type": "stream",
          "name": "stdout",
          "text": [
            "['How satisfied are you with the quality of the silhouette extraction?.11', 'Did you notice any artefacts with the silhouette extraction?.11', 'Do you think the artefacts were annoying?.11']\n"
          ]
        },
        {
          "output_type": "display_data",
          "data": {
            "text/html": [
              "<div>\n",
              "<style scoped>\n",
              "    .dataframe tbody tr th:only-of-type {\n",
              "        vertical-align: middle;\n",
              "    }\n",
              "\n",
              "    .dataframe tbody tr th {\n",
              "        vertical-align: top;\n",
              "    }\n",
              "\n",
              "    .dataframe thead th {\n",
              "        text-align: right;\n",
              "    }\n",
              "</style>\n",
              "<table border=\"1\" class=\"dataframe\">\n",
              "  <thead>\n",
              "    <tr style=\"text-align: right;\">\n",
              "      <th></th>\n",
              "      <th>Mean</th>\n",
              "      <th>Percentage of 5</th>\n",
              "      <th>Standard Deviation</th>\n",
              "    </tr>\n",
              "  </thead>\n",
              "  <tbody>\n",
              "    <tr>\n",
              "      <th>How satisfied are you with the quality of the silhouette extraction?.11</th>\n",
              "      <td>2.500000</td>\n",
              "      <td>50.000000</td>\n",
              "      <td>0.841158</td>\n",
              "    </tr>\n",
              "    <tr>\n",
              "      <th>Did you notice any artefacts with the silhouette extraction?.11</th>\n",
              "      <td>3.833333</td>\n",
              "      <td>76.666667</td>\n",
              "      <td>0.746059</td>\n",
              "    </tr>\n",
              "    <tr>\n",
              "      <th>Do you think the artefacts were annoying?.11</th>\n",
              "      <td>3.314815</td>\n",
              "      <td>66.296296</td>\n",
              "      <td>0.948168</td>\n",
              "    </tr>\n",
              "  </tbody>\n",
              "</table>\n",
              "</div>"
            ],
            "text/plain": [
              "                                                        Mean  ...  Standard Deviation\n",
              "How satisfied are you with the quality of the s...  2.500000  ...            0.841158\n",
              "Did you notice any artefacts with the silhouett...  3.833333  ...            0.746059\n",
              "Do you think the artefacts were annoying?.11        3.314815  ...            0.948168\n",
              "\n",
              "[3 rows x 3 columns]"
            ]
          },
          "metadata": {}
        },
        {
          "output_type": "execute_result",
          "data": {
            "text/plain": [
              "True"
            ]
          },
          "metadata": {},
          "execution_count": 32
        },
        {
          "output_type": "display_data",
          "data": {
            "image/png": "[encoded data removed]",
            "text/plain": [
              "<Figure size 432x288 with 1 Axes>"
            ]
          },
          "metadata": {
            "needs_background": "light"
          }
        }
      ]
    },
    {
      "cell_type": "markdown",
      "metadata": {
        "id": "4zIdYWiVsiXd"
      },
      "source": [
        "#### Analysis of video 9\n",
        "The questions for video 9 is in coloumn 27, 28 and 29"
      ]
    },
    {
      "cell_type": "code",
      "metadata": {
        "colab": {
          "base_uri": "https://localhost:8080/",
          "height": 476
        },
        "id": "FdSna7-ysoIC",
        "outputId": "a6317c7e-e8a9-4a58-8e8e-b37994ec8aad"
      },
      "source": [
        "analysis(27, 30, 9)"
      ],
      "execution_count": null,
      "outputs": [
        {
          "output_type": "stream",
          "name": "stdout",
          "text": [
            "['How satisfied are you with the quality of the silhouette extraction?.7', 'Did you notice any artefacts with the silhouette extraction?.7', 'Do you think the artefacts were annoying?.7']\n"
          ]
        },
        {
          "output_type": "display_data",
          "data": {
            "text/html": [
              "<div>\n",
              "<style scoped>\n",
              "    .dataframe tbody tr th:only-of-type {\n",
              "        vertical-align: middle;\n",
              "    }\n",
              "\n",
              "    .dataframe tbody tr th {\n",
              "        vertical-align: top;\n",
              "    }\n",
              "\n",
              "    .dataframe thead th {\n",
              "        text-align: right;\n",
              "    }\n",
              "</style>\n",
              "<table border=\"1\" class=\"dataframe\">\n",
              "  <thead>\n",
              "    <tr style=\"text-align: right;\">\n",
              "      <th></th>\n",
              "      <th>Mean</th>\n",
              "      <th>Percentage of 5</th>\n",
              "      <th>Standard Deviation</th>\n",
              "    </tr>\n",
              "  </thead>\n",
              "  <tbody>\n",
              "    <tr>\n",
              "      <th>How satisfied are you with the quality of the silhouette extraction?.7</th>\n",
              "      <td>3.907407</td>\n",
              "      <td>78.148148</td>\n",
              "      <td>0.807244</td>\n",
              "    </tr>\n",
              "    <tr>\n",
              "      <th>Did you notice any artefacts with the silhouette extraction?.7</th>\n",
              "      <td>2.018519</td>\n",
              "      <td>40.370370</td>\n",
              "      <td>0.788855</td>\n",
              "    </tr>\n",
              "    <tr>\n",
              "      <th>Do you think the artefacts were annoying?.7</th>\n",
              "      <td>1.481481</td>\n",
              "      <td>29.629630</td>\n",
              "      <td>0.794812</td>\n",
              "    </tr>\n",
              "  </tbody>\n",
              "</table>\n",
              "</div>"
            ],
            "text/plain": [
              "                                                        Mean  ...  Standard Deviation\n",
              "How satisfied are you with the quality of the s...  3.907407  ...            0.807244\n",
              "Did you notice any artefacts with the silhouett...  2.018519  ...            0.788855\n",
              "Do you think the artefacts were annoying?.7         1.481481  ...            0.794812\n",
              "\n",
              "[3 rows x 3 columns]"
            ]
          },
          "metadata": {}
        },
        {
          "output_type": "execute_result",
          "data": {
            "text/plain": [
              "True"
            ]
          },
          "metadata": {},
          "execution_count": 33
        },
        {
          "output_type": "display_data",
          "data": {
            "image/png": "[encoded data removed]",
            "text/plain": [
              "<Figure size 432x288 with 1 Axes>"
            ]
          },
          "metadata": {
            "needs_background": "light"
          }
        }
      ]
    },
    {
      "cell_type": "markdown",
      "metadata": {
        "id": "EsDBi5m0ssTM"
      },
      "source": [
        "#### Analysis of video 10\n",
        "The questions for video 10 is in coloumn 15, 16 and 17"
      ]
    },
    {
      "cell_type": "code",
      "metadata": {
        "colab": {
          "base_uri": "https://localhost:8080/",
          "height": 476
        },
        "id": "vnN6KLmhsv0N",
        "outputId": "ffefd612-2d10-4f34-ebcb-f518826ff6fb"
      },
      "source": [
        "analysis(15, 18, 10)"
      ],
      "execution_count": null,
      "outputs": [
        {
          "output_type": "stream",
          "name": "stdout",
          "text": [
            "['How satisfied are you with the quality of the silhouette extraction?.3', 'Did you notice any artefacts with the silhouette extraction?.3', 'Do you think the artefacts were annoying?.3']\n"
          ]
        },
        {
          "output_type": "display_data",
          "data": {
            "text/html": [
              "<div>\n",
              "<style scoped>\n",
              "    .dataframe tbody tr th:only-of-type {\n",
              "        vertical-align: middle;\n",
              "    }\n",
              "\n",
              "    .dataframe tbody tr th {\n",
              "        vertical-align: top;\n",
              "    }\n",
              "\n",
              "    .dataframe thead th {\n",
              "        text-align: right;\n",
              "    }\n",
              "</style>\n",
              "<table border=\"1\" class=\"dataframe\">\n",
              "  <thead>\n",
              "    <tr style=\"text-align: right;\">\n",
              "      <th></th>\n",
              "      <th>Mean</th>\n",
              "      <th>Percentage of 5</th>\n",
              "      <th>Standard Deviation</th>\n",
              "    </tr>\n",
              "  </thead>\n",
              "  <tbody>\n",
              "    <tr>\n",
              "      <th>How satisfied are you with the quality of the silhouette extraction?.3</th>\n",
              "      <td>1.759259</td>\n",
              "      <td>35.185185</td>\n",
              "      <td>0.698656</td>\n",
              "    </tr>\n",
              "    <tr>\n",
              "      <th>Did you notice any artefacts with the silhouette extraction?.3</th>\n",
              "      <td>4.444444</td>\n",
              "      <td>88.888889</td>\n",
              "      <td>0.718139</td>\n",
              "    </tr>\n",
              "    <tr>\n",
              "      <th>Do you think the artefacts were annoying?.3</th>\n",
              "      <td>3.962963</td>\n",
              "      <td>79.259259</td>\n",
              "      <td>0.776129</td>\n",
              "    </tr>\n",
              "  </tbody>\n",
              "</table>\n",
              "</div>"
            ],
            "text/plain": [
              "                                                        Mean  ...  Standard Deviation\n",
              "How satisfied are you with the quality of the s...  1.759259  ...            0.698656\n",
              "Did you notice any artefacts with the silhouett...  4.444444  ...            0.718139\n",
              "Do you think the artefacts were annoying?.3         3.962963  ...            0.776129\n",
              "\n",
              "[3 rows x 3 columns]"
            ]
          },
          "metadata": {}
        },
        {
          "output_type": "execute_result",
          "data": {
            "text/plain": [
              "True"
            ]
          },
          "metadata": {},
          "execution_count": 34
        },
        {
          "output_type": "display_data",
          "data": {
            "image/png": "[encoded data removed]",
            "text/plain": [
              "<Figure size 432x288 with 1 Axes>"
            ]
          },
          "metadata": {
            "needs_background": "light"
          }
        }
      ]
    },
    {
      "cell_type": "markdown",
      "metadata": {
        "id": "Y4ue205Hszfi"
      },
      "source": [
        "#### Analysis of video 11\n",
        "The questions for video 11 is in coloumn 36, 37 and 38"
      ]
    },
    {
      "cell_type": "code",
      "metadata": {
        "colab": {
          "base_uri": "https://localhost:8080/",
          "height": 476
        },
        "id": "YKDIMQCus6A8",
        "outputId": "82fea90c-5b64-435c-c976-d52ca96be1da"
      },
      "source": [
        "analysis(36, 39, 11)"
      ],
      "execution_count": null,
      "outputs": [
        {
          "output_type": "stream",
          "name": "stdout",
          "text": [
            "['How satisfied are you with the quality of the silhouette extraction?.10', 'Did you notice any artefacts with the silhouette extraction?.10', 'Do you think the artefacts were annoying?.10']\n"
          ]
        },
        {
          "output_type": "display_data",
          "data": {
            "text/html": [
              "<div>\n",
              "<style scoped>\n",
              "    .dataframe tbody tr th:only-of-type {\n",
              "        vertical-align: middle;\n",
              "    }\n",
              "\n",
              "    .dataframe tbody tr th {\n",
              "        vertical-align: top;\n",
              "    }\n",
              "\n",
              "    .dataframe thead th {\n",
              "        text-align: right;\n",
              "    }\n",
              "</style>\n",
              "<table border=\"1\" class=\"dataframe\">\n",
              "  <thead>\n",
              "    <tr style=\"text-align: right;\">\n",
              "      <th></th>\n",
              "      <th>Mean</th>\n",
              "      <th>Percentage of 5</th>\n",
              "      <th>Standard Deviation</th>\n",
              "    </tr>\n",
              "  </thead>\n",
              "  <tbody>\n",
              "    <tr>\n",
              "      <th>How satisfied are you with the quality of the silhouette extraction?.10</th>\n",
              "      <td>2.370370</td>\n",
              "      <td>47.407407</td>\n",
              "      <td>0.830919</td>\n",
              "    </tr>\n",
              "    <tr>\n",
              "      <th>Did you notice any artefacts with the silhouette extraction?.10</th>\n",
              "      <td>3.685185</td>\n",
              "      <td>73.703704</td>\n",
              "      <td>0.796788</td>\n",
              "    </tr>\n",
              "    <tr>\n",
              "      <th>Do you think the artefacts were annoying?.10</th>\n",
              "      <td>3.351852</td>\n",
              "      <td>67.037037</td>\n",
              "      <td>0.893528</td>\n",
              "    </tr>\n",
              "  </tbody>\n",
              "</table>\n",
              "</div>"
            ],
            "text/plain": [
              "                                                        Mean  ...  Standard Deviation\n",
              "How satisfied are you with the quality of the s...  2.370370  ...            0.830919\n",
              "Did you notice any artefacts with the silhouett...  3.685185  ...            0.796788\n",
              "Do you think the artefacts were annoying?.10        3.351852  ...            0.893528\n",
              "\n",
              "[3 rows x 3 columns]"
            ]
          },
          "metadata": {}
        },
        {
          "output_type": "execute_result",
          "data": {
            "text/plain": [
              "True"
            ]
          },
          "metadata": {},
          "execution_count": 35
        },
        {
          "output_type": "display_data",
          "data": {
            "image/png": "[encoded data removed]",
            "text/plain": [
              "<Figure size 432x288 with 1 Axes>"
            ]
          },
          "metadata": {
            "needs_background": "light"
          }
        }
      ]
    },
    {
      "cell_type": "markdown",
      "metadata": {
        "id": "7qSAwLpLs_dV"
      },
      "source": [
        "#### Analysis of video 12\n",
        "The questions for video 12 is in coloumn 18, 19 and 20"
      ]
    },
    {
      "cell_type": "code",
      "metadata": {
        "colab": {
          "base_uri": "https://localhost:8080/",
          "height": 476
        },
        "id": "zqEHK5aZtChS",
        "outputId": "1a058990-121f-4c02-ca2c-bc99e898c426"
      },
      "source": [
        "analysis(18, 21, 12)"
      ],
      "execution_count": null,
      "outputs": [
        {
          "output_type": "stream",
          "name": "stdout",
          "text": [
            "['How satisfied are you with the quality of the silhouette extraction?.4', 'Did you notice any artefacts with the silhouette extraction?.4', 'Do you think the artefacts were annoying?.4']\n"
          ]
        },
        {
          "output_type": "display_data",
          "data": {
            "text/html": [
              "<div>\n",
              "<style scoped>\n",
              "    .dataframe tbody tr th:only-of-type {\n",
              "        vertical-align: middle;\n",
              "    }\n",
              "\n",
              "    .dataframe tbody tr th {\n",
              "        vertical-align: top;\n",
              "    }\n",
              "\n",
              "    .dataframe thead th {\n",
              "        text-align: right;\n",
              "    }\n",
              "</style>\n",
              "<table border=\"1\" class=\"dataframe\">\n",
              "  <thead>\n",
              "    <tr style=\"text-align: right;\">\n",
              "      <th></th>\n",
              "      <th>Mean</th>\n",
              "      <th>Percentage of 5</th>\n",
              "      <th>Standard Deviation</th>\n",
              "    </tr>\n",
              "  </thead>\n",
              "  <tbody>\n",
              "    <tr>\n",
              "      <th>How satisfied are you with the quality of the silhouette extraction?.4</th>\n",
              "      <td>4.685185</td>\n",
              "      <td>93.703704</td>\n",
              "      <td>0.507457</td>\n",
              "    </tr>\n",
              "    <tr>\n",
              "      <th>Did you notice any artefacts with the silhouette extraction?.4</th>\n",
              "      <td>1.240741</td>\n",
              "      <td>24.814815</td>\n",
              "      <td>0.580669</td>\n",
              "    </tr>\n",
              "    <tr>\n",
              "      <th>Do you think the artefacts were annoying?.4</th>\n",
              "      <td>1.074074</td>\n",
              "      <td>21.481481</td>\n",
              "      <td>0.328050</td>\n",
              "    </tr>\n",
              "  </tbody>\n",
              "</table>\n",
              "</div>"
            ],
            "text/plain": [
              "                                                        Mean  ...  Standard Deviation\n",
              "How satisfied are you with the quality of the s...  4.685185  ...            0.507457\n",
              "Did you notice any artefacts with the silhouett...  1.240741  ...            0.580669\n",
              "Do you think the artefacts were annoying?.4         1.074074  ...            0.328050\n",
              "\n",
              "[3 rows x 3 columns]"
            ]
          },
          "metadata": {}
        },
        {
          "output_type": "execute_result",
          "data": {
            "text/plain": [
              "True"
            ]
          },
          "metadata": {},
          "execution_count": 36
        },
        {
          "output_type": "display_data",
          "data": {
            "image/png": "[encoded data removed]",
            "text/plain": [
              "<Figure size 432x288 with 1 Axes>"
            ]
          },
          "metadata": {
            "needs_background": "light"
          }
        }
      ]
    },
    {
      "cell_type": "markdown",
      "metadata": {
        "id": "g3veBj0XBDSh"
      },
      "source": [
        "### Comparison of videos\n",
        "\n",
        "We want to plot each question for each of the videos to easily see which videos got the best score"
      ]
    },
    {
      "cell_type": "code",
      "metadata": {
        "id": "ENd3LDJnBS9i"
      },
      "source": [
        "def plot_questions(question):\n",
        "  \n",
        "  if question == 'How satisfied are you with the quality of the silhouette extraction?':\n",
        "    question_number = '1'\n",
        "  if question == 'Did you notice any artefacts with the silhouette extraction?':\n",
        "    question_number = '2'\n",
        "  if question == 'Do you think the artefacts were annoying?':\n",
        "    question_number = '3'\n",
        "\n",
        "  xlabels = []\n",
        "\n",
        "  for i in range(1, 12+1):\n",
        "    xlabels.append(str(i))\n",
        "  \n",
        "  Q = df_arranged.filter(regex=question).mean()\n",
        "\n",
        "  display(Q)\n",
        "  plt = Q.plot(kind=\"bar\", legend=False)\n",
        "\n",
        "  plt.set_title(\"Mean scores of question \" + str(question_number) + \" on all videos\")\n",
        "  plt.set_xlabel(\"Video number\")\n",
        "  plt.set_ylabel(\"Score\")\n",
        "  plt.set_ylim(0, 5)\n",
        "  plt.set_xticklabels( xlabels, rotation=0 )\n",
        "\n",
        "  plot = plt.figure\n",
        "  plot.savefig('rating/question_' + str(question_number) + '.pdf')\n",
        "  \n",
        "  plot.show()\n",
        "  return True\n",
        "\n"
      ],
      "execution_count": null,
      "outputs": []
    },
    {
      "cell_type": "markdown",
      "metadata": {
        "id": "n9n1ZInWdSVI"
      },
      "source": [
        "#### Mean score of question 1\n",
        "'How satisfied are you with the quality of the silhouette extraction?'"
      ]
    },
    {
      "cell_type": "code",
      "metadata": {
        "colab": {
          "base_uri": "https://localhost:8080/",
          "height": 538
        },
        "id": "FtSXfg4uR2uI",
        "outputId": "9d179fb0-99da-4a83-cce4-740d39835442"
      },
      "source": [
        "plot_questions('How satisfied are you with the quality of the silhouette extraction?')\n"
      ],
      "execution_count": null,
      "outputs": [
        {
          "output_type": "display_data",
          "data": {
            "text/plain": [
              "How satisfied are you with the quality of the silhouette extraction?.9     2.759259\n",
              "How satisfied are you with the quality of the silhouette extraction?.8     2.592593\n",
              "How satisfied are you with the quality of the silhouette extraction?.2     2.870370\n",
              "How satisfied are you with the quality of the silhouette extraction?.6     1.685185\n",
              "How satisfied are you with the quality of the silhouette extraction?.5     1.685185\n",
              "How satisfied are you with the quality of the silhouette extraction?.1     3.814815\n",
              "How satisfied are you with the quality of the silhouette extraction?       2.592593\n",
              "How satisfied are you with the quality of the silhouette extraction?.11    2.500000\n",
              "How satisfied are you with the quality of the silhouette extraction?.7     3.907407\n",
              "How satisfied are you with the quality of the silhouette extraction?.3     1.759259\n",
              "How satisfied are you with the quality of the silhouette extraction?.10    2.370370\n",
              "How satisfied are you with the quality of the silhouette extraction?.4     4.685185\n",
              "dtype: float64"
            ]
          },
          "metadata": {}
        },
        {
          "output_type": "execute_result",
          "data": {
            "text/plain": [
              "True"
            ]
          },
          "metadata": {},
          "execution_count": 38
        },
        {
          "output_type": "display_data",
          "data": {
            "image/png": "[encoded data removed]",
            "text/plain": [
              "<Figure size 432x288 with 1 Axes>"
            ]
          },
          "metadata": {
            "needs_background": "light"
          }
        }
      ]
    },
    {
      "cell_type": "markdown",
      "metadata": {
        "id": "gKBwjUdadaq-"
      },
      "source": [
        "#### Mean score of quesiton 2 \n",
        "'Did you notice any artefacts with the silhouette extraction?'"
      ]
    },
    {
      "cell_type": "code",
      "metadata": {
        "colab": {
          "base_uri": "https://localhost:8080/"
        },
        "id": "Vlh_3DXLR5zU",
        "outputId": "30ef72d4-1429-4628-9fcf-014b886a524d"
      },
      "source": [
        "plot_questions('Did you notice any artefacts with the silhouette extraction?')"
      ],
      "execution_count": null,
      "outputs": [
        {
          "output_type": "display_data",
          "data": {
            "text/plain": [
              "Did you notice any artefacts with the silhouette extraction?.9     3.444444\n",
              "Did you notice any artefacts with the silhouette extraction?.8     3.574074\n",
              "Did you notice any artefacts with the silhouette extraction?.2     3.407407\n",
              "Did you notice any artefacts with the silhouette extraction?.6     4.444444\n",
              "Did you notice any artefacts with the silhouette extraction?.5     4.574074\n",
              "Did you notice any artefacts with the silhouette extraction?.1     2.314815\n",
              "Did you notice any artefacts with the silhouette extraction?       3.851852\n",
              "Did you notice any artefacts with the silhouette extraction?.11    3.833333\n",
              "Did you notice any artefacts with the silhouette extraction?.7     2.018519\n",
              "Did you notice any artefacts with the silhouette extraction?.3     4.444444\n",
              "Did you notice any artefacts with the silhouette extraction?.10    3.685185\n",
              "Did you notice any artefacts with the silhouette extraction?.4     1.240741\n",
              "dtype: float64"
            ]
          },
          "metadata": {}
        },
        {
          "output_type": "execute_result",
          "data": {
            "text/plain": [
              "True"
            ]
          },
          "metadata": {},
          "execution_count": 39
        },
        {
          "output_type": "display_data",
          "data": {
            "image/png": "[encoded data removed]",
            "text/plain": [
              "<Figure size 432x288 with 1 Axes>"
            ]
          },
          "metadata": {
            "needs_background": "light"
          }
        }
      ]
    },
    {
      "cell_type": "markdown",
      "metadata": {
        "id": "fXn7FibYdfs9"
      },
      "source": [
        "#### Mean score of question 3\n",
        "'Do you think the artefacts were annoying?'"
      ]
    },
    {
      "cell_type": "code",
      "metadata": {
        "colab": {
          "base_uri": "https://localhost:8080/"
        },
        "id": "EhUa3eUCR8pU",
        "outputId": "b2aee957-8b03-470f-8561-6973b962abba"
      },
      "source": [
        "plot_questions('Do you think the artefacts were annoying?') "
      ],
      "execution_count": null,
      "outputs": [
        {
          "output_type": "display_data",
          "data": {
            "text/plain": [
              "Do you think the artefacts were annoying?.9     3.055556\n",
              "Do you think the artefacts were annoying?.8     2.981481\n",
              "Do you think the artefacts were annoying?.2     2.925926\n",
              "Do you think the artefacts were annoying?.6     3.981481\n",
              "Do you think the artefacts were annoying?.5     4.113208\n",
              "Do you think the artefacts were annoying?.1     1.796296\n",
              "Do you think the artefacts were annoying?       3.185185\n",
              "Do you think the artefacts were annoying?.11    3.314815\n",
              "Do you think the artefacts were annoying?.7     1.481481\n",
              "Do you think the artefacts were annoying?.3     3.962963\n",
              "Do you think the artefacts were annoying?.10    3.351852\n",
              "Do you think the artefacts were annoying?.4     1.074074\n",
              "dtype: float64"
            ]
          },
          "metadata": {}
        },
        {
          "output_type": "execute_result",
          "data": {
            "text/plain": [
              "True"
            ]
          },
          "metadata": {},
          "execution_count": 40
        },
        {
          "output_type": "display_data",
          "data": {
            "image/png": "[encoded data removed]",
            "text/plain": [
              "<Figure size 432x288 with 1 Axes>"
            ]
          },
          "metadata": {
            "needs_background": "light"
          }
        }
      ]
    },
    {
      "cell_type": "markdown",
      "metadata": {
        "id": "2jM5jpNZdue1"
      },
      "source": [
        "### Objective Measures\n"
      ]
    },
    {
      "cell_type": "code",
      "metadata": {
        "colab": {
          "base_uri": "https://localhost:8080/",
          "height": 206
        },
        "id": "gdu0PdmDdy2O",
        "outputId": "a4ded8f4-0535-4825-8301-352c94004003"
      },
      "source": [
        "df_objective = pd.read_csv('average_objective_stats.csv')\n",
        "df_objective.head()"
      ],
      "execution_count": null,
      "outputs": [
        {
          "output_type": "execute_result",
          "data": {
            "text/html": [
              "<div>\n",
              "<style scoped>\n",
              "    .dataframe tbody tr th:only-of-type {\n",
              "        vertical-align: middle;\n",
              "    }\n",
              "\n",
              "    .dataframe tbody tr th {\n",
              "        vertical-align: top;\n",
              "    }\n",
              "\n",
              "    .dataframe thead th {\n",
              "        text-align: right;\n",
              "    }\n",
              "</style>\n",
              "<table border=\"1\" class=\"dataframe\">\n",
              "  <thead>\n",
              "    <tr style=\"text-align: right;\">\n",
              "      <th></th>\n",
              "      <th>video_number</th>\n",
              "      <th>IoU</th>\n",
              "      <th>DC</th>\n",
              "      <th>PA</th>\n",
              "      <th>TP</th>\n",
              "      <th>TN</th>\n",
              "      <th>FPN</th>\n",
              "    </tr>\n",
              "  </thead>\n",
              "  <tbody>\n",
              "    <tr>\n",
              "      <th>0</th>\n",
              "      <td>1</td>\n",
              "      <td>0.935903</td>\n",
              "      <td>0.966676</td>\n",
              "      <td>0.992202</td>\n",
              "      <td>232890.245847</td>\n",
              "      <td>1.824539e+06</td>\n",
              "      <td>16170.830565</td>\n",
              "    </tr>\n",
              "    <tr>\n",
              "      <th>1</th>\n",
              "      <td>2</td>\n",
              "      <td>0.940968</td>\n",
              "      <td>0.969439</td>\n",
              "      <td>0.992814</td>\n",
              "      <td>234287.923588</td>\n",
              "      <td>1.824411e+06</td>\n",
              "      <td>14900.611296</td>\n",
              "    </tr>\n",
              "    <tr>\n",
              "      <th>2</th>\n",
              "      <td>3</td>\n",
              "      <td>0.950964</td>\n",
              "      <td>0.974862</td>\n",
              "      <td>0.994063</td>\n",
              "      <td>237918.983389</td>\n",
              "      <td>1.823370e+06</td>\n",
              "      <td>12310.750831</td>\n",
              "    </tr>\n",
              "    <tr>\n",
              "      <th>3</th>\n",
              "      <td>4</td>\n",
              "      <td>0.947189</td>\n",
              "      <td>0.972868</td>\n",
              "      <td>0.993536</td>\n",
              "      <td>240444.003322</td>\n",
              "      <td>1.819753e+06</td>\n",
              "      <td>13402.730897</td>\n",
              "    </tr>\n",
              "    <tr>\n",
              "      <th>4</th>\n",
              "      <td>5</td>\n",
              "      <td>0.948122</td>\n",
              "      <td>0.973362</td>\n",
              "      <td>0.993658</td>\n",
              "      <td>240427.262458</td>\n",
              "      <td>1.820023e+06</td>\n",
              "      <td>13150.106312</td>\n",
              "    </tr>\n",
              "  </tbody>\n",
              "</table>\n",
              "</div>"
            ],
            "text/plain": [
              "   video_number       IoU        DC  ...             TP            TN           FPN\n",
              "0             1  0.935903  0.966676  ...  232890.245847  1.824539e+06  16170.830565\n",
              "1             2  0.940968  0.969439  ...  234287.923588  1.824411e+06  14900.611296\n",
              "2             3  0.950964  0.974862  ...  237918.983389  1.823370e+06  12310.750831\n",
              "3             4  0.947189  0.972868  ...  240444.003322  1.819753e+06  13402.730897\n",
              "4             5  0.948122  0.973362  ...  240427.262458  1.820023e+06  13150.106312\n",
              "\n",
              "[5 rows x 7 columns]"
            ]
          },
          "metadata": {},
          "execution_count": 41
        }
      ]
    },
    {
      "cell_type": "code",
      "metadata": {
        "id": "ZMl0fbY-eBB7"
      },
      "source": [
        "def plot_objective(parameter):\n",
        "  xlabels = []\n",
        "  offset = 0.0025\n",
        "\n",
        "  for i in range(1, 12+1):\n",
        "    xlabels.append(str(i))\n",
        "  \n",
        "  param = df_objective[parameter]  \n",
        "  max_value = param.max()\n",
        "  min_value = param.min()\n",
        "\n",
        "  display(param)\n",
        "  plt = param.plot(kind=\"bar\", legend=False)\n",
        "\n",
        "  plt.set_title(str(parameter) + \" scores\")\n",
        "  plt.set_xlabel(\"Video number\")\n",
        "  plt.set_ylabel(\"Score\")\n",
        "  plt.set_ylim(min_value-offset, max_value+offset)\n",
        "  plt.set_xticklabels( xlabels, rotation=0 )\n",
        "\n",
        "  plot = plt.figure\n",
        "  plot.savefig('rating/' + str(parameter) + '.pdf')\n",
        "  \n",
        "  plot.show()\n",
        "  return True"
      ],
      "execution_count": null,
      "outputs": []
    },
    {
      "cell_type": "code",
      "metadata": {
        "colab": {
          "base_uri": "https://localhost:8080/",
          "height": 538
        },
        "id": "EQQh24vEiE_O",
        "outputId": "6ea1d127-8aeb-4299-8a0e-4aab0710ebb0"
      },
      "source": [
        "plot_objective(\"IoU\")\n"
      ],
      "execution_count": null,
      "outputs": [
        {
          "output_type": "display_data",
          "data": {
            "text/plain": [
              "0     0.935903\n",
              "1     0.940968\n",
              "2     0.950964\n",
              "3     0.947189\n",
              "4     0.948122\n",
              "5     0.942386\n",
              "6     0.939088\n",
              "7     0.947485\n",
              "8     0.936874\n",
              "9     0.939815\n",
              "10    0.941655\n",
              "11    0.938447\n",
              "Name: IoU, dtype: float64"
            ]
          },
          "metadata": {}
        },
        {
          "output_type": "execute_result",
          "data": {
            "text/plain": [
              "True"
            ]
          },
          "metadata": {},
          "execution_count": 43
        },
        {
          "output_type": "display_data",
          "data": {
            "image/png": "[encoded data removed]",
            "text/plain": [
              "<Figure size 432x288 with 1 Axes>"
            ]
          },
          "metadata": {
            "needs_background": "light"
          }
        }
      ]
    },
    {
      "cell_type": "code",
      "metadata": {
        "colab": {
          "base_uri": "https://localhost:8080/",
          "height": 538
        },
        "id": "tuW8xbC5iF-f",
        "outputId": "7ea9297e-dba8-432b-ba10-38dc1b4f0b24"
      },
      "source": [
        "plot_objective(\"DC\")\n"
      ],
      "execution_count": null,
      "outputs": [
        {
          "output_type": "display_data",
          "data": {
            "text/plain": [
              "0     0.966676\n",
              "1     0.969439\n",
              "2     0.974862\n",
              "3     0.972868\n",
              "4     0.973362\n",
              "5     0.970329\n",
              "6     0.968551\n",
              "7     0.973031\n",
              "8     0.967404\n",
              "9     0.968972\n",
              "10    0.969947\n",
              "11    0.968245\n",
              "Name: DC, dtype: float64"
            ]
          },
          "metadata": {}
        },
        {
          "output_type": "execute_result",
          "data": {
            "text/plain": [
              "True"
            ]
          },
          "metadata": {},
          "execution_count": 44
        },
        {
          "output_type": "display_data",
          "data": {
            "image/png": "[encoded data removed]",
            "text/plain": [
              "<Figure size 432x288 with 1 Axes>"
            ]
          },
          "metadata": {
            "needs_background": "light"
          }
        }
      ]
    },
    {
      "cell_type": "code",
      "metadata": {
        "colab": {
          "base_uri": "https://localhost:8080/",
          "height": 538
        },
        "id": "T_vLTIl2iHdM",
        "outputId": "ed6cc0b0-ef07-41c7-f509-32d43a28c231"
      },
      "source": [
        "plot_objective(\"PA\")\n"
      ],
      "execution_count": null,
      "outputs": [
        {
          "output_type": "display_data",
          "data": {
            "text/plain": [
              "0     0.992202\n",
              "1     0.992814\n",
              "2     0.994063\n",
              "3     0.993536\n",
              "4     0.993658\n",
              "5     0.992917\n",
              "6     0.992161\n",
              "7     0.993323\n",
              "8     0.991866\n",
              "9     0.992404\n",
              "10    0.992651\n",
              "11    0.992205\n",
              "Name: PA, dtype: float64"
            ]
          },
          "metadata": {}
        },
        {
          "output_type": "execute_result",
          "data": {
            "text/plain": [
              "True"
            ]
          },
          "metadata": {},
          "execution_count": 45
        },
        {
          "output_type": "display_data",
          "data": {
            "image/png": "[encoded data removed]",
            "text/plain": [
              "<Figure size 432x288 with 1 Axes>"
            ]
          },
          "metadata": {
            "needs_background": "light"
          }
        }
      ]
    },
    {
      "cell_type": "code",
      "metadata": {
        "colab": {
          "base_uri": "https://localhost:8080/"
        },
        "id": "wISR3-cY6Rkh",
        "outputId": "7d45fd46-8895-4c89-b3c1-e421ec54099c"
      },
      "source": [
        "!zip -r rating.zip rating\n"
      ],
      "execution_count": null,
      "outputs": [
        {
          "output_type": "stream",
          "name": "stdout",
          "text": [
            "  adding: rating/ (stored 0%)\n",
            "  adding: rating/video_11.pdf (deflated 33%)\n",
            "  adding: rating/DC.pdf (deflated 31%)\n",
            "  adding: rating/video_2.pdf (deflated 33%)\n",
            "  adding: rating/video_1.pdf (deflated 33%)\n",
            "  adding: rating/video_4.pdf (deflated 33%)\n",
            "  adding: rating/video_12.pdf (deflated 33%)\n",
            "  adding: rating/video_8.pdf (deflated 32%)\n",
            "  adding: rating/video_10.pdf (deflated 33%)\n",
            "  adding: rating/question_3.pdf (deflated 31%)\n",
            "  adding: rating/question_1.pdf (deflated 31%)\n",
            "  adding: rating/IoU.pdf (deflated 31%)\n",
            "  adding: rating/PA.pdf (deflated 31%)\n",
            "  adding: rating/video_7.pdf (deflated 33%)\n",
            "  adding: rating/video_5.pdf (deflated 33%)\n",
            "  adding: rating/video_3.pdf (deflated 33%)\n",
            "  adding: rating/video_9.pdf (deflated 32%)\n",
            "  adding: rating/video_6.pdf (deflated 32%)\n",
            "  adding: rating/question_2.pdf (deflated 31%)\n"
          ]
        }
      ]
    },
    {
      "cell_type": "markdown",
      "source": [
        "## Correlation📊📈📉\n",
        "Let's try to see if there is any statistical correlation between our objective and subjective measures.\n",
        "\n",
        "As we know, we have a couple of hypotheses to support our research question: \n",
        "\n",
        "> $H_0$: There is __a__ correlation between the objective and subjective measures.\n",
        "\n",
        "> $H_1$: There is __no__ correlation between the objective and subjective measures.\n",
        "\n",
        "First we make some functions which let's us retrieve our data coloumns from our dataframes."
      ],
      "metadata": {
        "id": "ZfEUxGEQHY3p"
      }
    },
    {
      "cell_type": "code",
      "source": [
        "def stats_questions(question):\n",
        "  \n",
        "  if question == 'How satisfied are you with the quality of the silhouette extraction?':\n",
        "    question_number = '1'\n",
        "  if question == 'Did you notice any artefacts with the silhouette extraction?':\n",
        "    question_number = '2'\n",
        "  if question == 'Do you think the artefacts were annoying?':\n",
        "    question_number = '3'\n",
        "  \n",
        "  print(question)\n",
        "  \n",
        "  video_mean = df_arranged.filter(regex=question).mean()\n",
        "  mean = video_mean.mean()\n",
        "\n",
        "  return video_mean\n",
        "\n",
        "stats_questions('How satisfied are you with the quality of the silhouette extraction?')"
      ],
      "metadata": {
        "colab": {
          "base_uri": "https://localhost:8080/"
        },
        "id": "RY_0srdnGyqV",
        "outputId": "b5a9077a-4f93-48b3-e23a-c1582502687b"
      },
      "execution_count": null,
      "outputs": [
        {
          "output_type": "stream",
          "name": "stdout",
          "text": [
            "How satisfied are you with the quality of the silhouette extraction?\n"
          ]
        },
        {
          "output_type": "execute_result",
          "data": {
            "text/plain": [
              "How satisfied are you with the quality of the silhouette extraction?.9     2.759259\n",
              "How satisfied are you with the quality of the silhouette extraction?.8     2.592593\n",
              "How satisfied are you with the quality of the silhouette extraction?.2     2.870370\n",
              "How satisfied are you with the quality of the silhouette extraction?.6     1.685185\n",
              "How satisfied are you with the quality of the silhouette extraction?.5     1.685185\n",
              "How satisfied are you with the quality of the silhouette extraction?.1     3.814815\n",
              "How satisfied are you with the quality of the silhouette extraction?       2.592593\n",
              "How satisfied are you with the quality of the silhouette extraction?.11    2.500000\n",
              "How satisfied are you with the quality of the silhouette extraction?.7     3.907407\n",
              "How satisfied are you with the quality of the silhouette extraction?.3     1.759259\n",
              "How satisfied are you with the quality of the silhouette extraction?.10    2.370370\n",
              "How satisfied are you with the quality of the silhouette extraction?.4     4.685185\n",
              "dtype: float64"
            ]
          },
          "metadata": {},
          "execution_count": 47
        }
      ]
    },
    {
      "cell_type": "code",
      "source": [
        "def stats_objective(parameter):\n",
        "  xlabels = []\n",
        "  \n",
        "  param = df_objective[parameter]  \n",
        "  \n",
        "  display(parameter)\n",
        "  \n",
        "  return param\n",
        "\n",
        "stats_objective(\"DC\")"
      ],
      "metadata": {
        "colab": {
          "base_uri": "https://localhost:8080/",
          "height": 261
        },
        "id": "nYKSitH8Och5",
        "outputId": "8f7fc122-d41e-4f9e-b24b-0d80eeed6a6c"
      },
      "execution_count": null,
      "outputs": [
        {
          "output_type": "display_data",
          "data": {
            "application/vnd.google.colaboratory.intrinsic+json": {
              "type": "string"
            },
            "text/plain": [
              "'DC'"
            ]
          },
          "metadata": {}
        },
        {
          "output_type": "execute_result",
          "data": {
            "text/plain": [
              "0     0.966676\n",
              "1     0.969439\n",
              "2     0.974862\n",
              "3     0.972868\n",
              "4     0.973362\n",
              "5     0.970329\n",
              "6     0.968551\n",
              "7     0.973031\n",
              "8     0.967404\n",
              "9     0.968972\n",
              "10    0.969947\n",
              "11    0.968245\n",
              "Name: DC, dtype: float64"
            ]
          },
          "metadata": {},
          "execution_count": 111
        }
      ]
    },
    {
      "cell_type": "code",
      "source": [
        "stats_objective(\"IoU\")"
      ],
      "metadata": {
        "colab": {
          "base_uri": "https://localhost:8080/",
          "height": 261
        },
        "id": "EkBOs7Evc2M1",
        "outputId": "4539f3e8-92d3-4451-a36a-4561d30e488c"
      },
      "execution_count": null,
      "outputs": [
        {
          "output_type": "display_data",
          "data": {
            "application/vnd.google.colaboratory.intrinsic+json": {
              "type": "string"
            },
            "text/plain": [
              "'IoU'"
            ]
          },
          "metadata": {}
        },
        {
          "output_type": "execute_result",
          "data": {
            "text/plain": [
              "0     0.935903\n",
              "1     0.940968\n",
              "2     0.950964\n",
              "3     0.947189\n",
              "4     0.948122\n",
              "5     0.942386\n",
              "6     0.939088\n",
              "7     0.947485\n",
              "8     0.936874\n",
              "9     0.939815\n",
              "10    0.941655\n",
              "11    0.938447\n",
              "Name: IoU, dtype: float64"
            ]
          },
          "metadata": {},
          "execution_count": 112
        }
      ]
    },
    {
      "cell_type": "markdown",
      "source": [
        "The following information has been learned from [How to Calculate Correlation Between Variables in Python](https://machinelearningmastery.com/how-to-use-correlation-to-understand-the-relationship-between-variables/).\n",
        "\n",
        "Thanks for the lovely information, [James Brownlee](https://machinelearningmastery.com/about/) 🥰"
      ],
      "metadata": {
        "id": "lMtxoFN_qmAR"
      }
    },
    {
      "cell_type": "markdown",
      "source": [
        "### Covariance\n",
        "The average of the product between the values from each sample, where the values have been centered.\n",
        "\n",
        "Gives a measure of whether the two variables change in the same direction. Magnitude of the results can be hard to interpret. "
      ],
      "metadata": {
        "id": "oyxXRxJbUJXK"
      }
    },
    {
      "cell_type": "code",
      "source": [
        "\n",
        "def covariance(subjective, objective):\n",
        "  data1 = np.asarray(stats_questions(subjective), dtype=float)\n",
        "  data2 = np.asarray(stats_objective(objective), dtype=float)\n",
        "\n",
        "  display(data1)\n",
        "  display(data2)\n",
        "\n",
        "  covariance = np.cov(data1, data2)\n",
        "  display(covariance)\n",
        "\n",
        "covariance('Did you notice any artefacts with the silhouette extraction?', 'PA')"
      ],
      "metadata": {
        "colab": {
          "base_uri": "https://localhost:8080/",
          "height": 192
        },
        "id": "yrU4oT6zJP29",
        "outputId": "3f8040ae-caa9-4db1-aa2b-cd39848885b7"
      },
      "execution_count": null,
      "outputs": [
        {
          "output_type": "stream",
          "name": "stdout",
          "text": [
            "Did you notice any artefacts with the silhouette extraction?\n"
          ]
        },
        {
          "output_type": "display_data",
          "data": {
            "application/vnd.google.colaboratory.intrinsic+json": {
              "type": "string"
            },
            "text/plain": [
              "'PA'"
            ]
          },
          "metadata": {}
        },
        {
          "output_type": "display_data",
          "data": {
            "text/plain": [
              "array([3.44444444, 3.57407407, 3.40740741, 4.44444444, 4.57407407,\n",
              "       2.31481481, 3.85185185, 3.83333333, 2.01851852, 4.44444444,\n",
              "       3.68518519, 1.24074074])"
            ]
          },
          "metadata": {}
        },
        {
          "output_type": "display_data",
          "data": {
            "text/plain": [
              "array([0.99220157, 0.99281413, 0.9940631 , 0.99353649, 0.99365832,\n",
              "       0.99291667, 0.99216147, 0.99332349, 0.99186554, 0.99240394,\n",
              "       0.99265069, 0.99220479])"
            ]
          },
          "metadata": {}
        },
        {
          "output_type": "display_data",
          "data": {
            "text/plain": [
              "array([[1.07401952e+00, 3.35750235e-04],\n",
              "       [3.35750235e-04, 4.84687896e-07]])"
            ]
          },
          "metadata": {}
        }
      ]
    },
    {
      "cell_type": "code",
      "source": [
        "covariance('Did you notice any artefacts with the silhouette extraction?', 'IoU')"
      ],
      "metadata": {
        "colab": {
          "base_uri": "https://localhost:8080/",
          "height": 192
        },
        "id": "YCxKv8q2QSZg",
        "outputId": "58006711-0ea5-4202-cf3f-1cf49c7a3888"
      },
      "execution_count": null,
      "outputs": [
        {
          "output_type": "stream",
          "name": "stdout",
          "text": [
            "Did you notice any artefacts with the silhouette extraction?\n"
          ]
        },
        {
          "output_type": "display_data",
          "data": {
            "application/vnd.google.colaboratory.intrinsic+json": {
              "type": "string"
            },
            "text/plain": [
              "'IoU'"
            ]
          },
          "metadata": {}
        },
        {
          "output_type": "display_data",
          "data": {
            "text/plain": [
              "array([3.44444444, 3.57407407, 3.40740741, 4.44444444, 4.57407407,\n",
              "       2.31481481, 3.85185185, 3.83333333, 2.01851852, 4.44444444,\n",
              "       3.68518519, 1.24074074])"
            ]
          },
          "metadata": {}
        },
        {
          "output_type": "display_data",
          "data": {
            "text/plain": [
              "array([0.93590271, 0.94096822, 0.95096421, 0.94718866, 0.94812151,\n",
              "       0.94238559, 0.93908771, 0.9474851 , 0.93687389, 0.93981503,\n",
              "       0.94165478, 0.9384474 ])"
            ]
          },
          "metadata": {}
        },
        {
          "output_type": "display_data",
          "data": {
            "text/plain": [
              "array([[1.07401952e+00, 2.29301490e-03],\n",
              "       [2.29301490e-03, 2.39549751e-05]])"
            ]
          },
          "metadata": {}
        }
      ]
    },
    {
      "cell_type": "code",
      "source": [
        "data1 = [3.44444444, 3.57407407, 3.40740741, 4.44444444, 4.57407407]\n",
        "data2 = [5555555555, 7777777777, 3333333333, 8888888888, 9999999999]\n",
        "data3 = [0, 1, -1, 2, -1]\n",
        "\n",
        "np.cov(data1, data3)"
      ],
      "metadata": {
        "colab": {
          "base_uri": "https://localhost:8080/"
        },
        "id": "w-zG2GpcPYDw",
        "outputId": "da816e48-f2bb-41af-ec01-066f8e497a1e"
      },
      "execution_count": null,
      "outputs": [
        {
          "output_type": "execute_result",
          "data": {
            "text/plain": [
              "array([[0.32664609, 0.14814815],\n",
              "       [0.14814815, 1.7       ]])"
            ]
          },
          "metadata": {},
          "execution_count": 51
        }
      ]
    },
    {
      "cell_type": "markdown",
      "source": [
        "Since it is so hard to retreive more meaning from the covariance, we try to use some other measures."
      ],
      "metadata": {
        "id": "ivE9m24QoQX1"
      }
    },
    {
      "cell_type": "markdown",
      "source": [
        "### Pearson's Correlation\n",
        "If we have a normally distributed dataset, we can use the Pearson's measure.\n",
        "\n",
        "A value of 0 means no correlation. The value must be interpreted, where often a value below -0.5 or above 0.5 indicates a notable correlation, and values below those values suggests a less notable correlation."
      ],
      "metadata": {
        "id": "Tx7WqfIxULiO"
      }
    },
    {
      "cell_type": "code",
      "source": [
        "# calculate the Pearson's correlation between two variables\n",
        "from scipy.stats import pearsonr\n",
        "\n",
        "def pearsons(subjective, objective):\n",
        "  # prepare data\n",
        "  data1 = np.asarray(stats_questions(subjective), dtype=float)\n",
        "  data2 = np.asarray(stats_objective(objective), dtype=float)\n",
        "  \n",
        "  # calculate Pearson's correlation\n",
        "  corr, _ = pearsonr(data1, data2)\n",
        "  \n",
        "  print('Pearsons correlation: %.3f' % corr)"
      ],
      "metadata": {
        "id": "ocZgtgbrSArR"
      },
      "execution_count": null,
      "outputs": []
    },
    {
      "cell_type": "code",
      "source": [
        "pearsons('Did you notice any artefacts with the silhouette extraction?', 'IoU')"
      ],
      "metadata": {
        "colab": {
          "base_uri": "https://localhost:8080/",
          "height": 70
        },
        "id": "P-hvmW8hStKu",
        "outputId": "30239ccf-d884-44ca-fb39-1ef270cc763f"
      },
      "execution_count": null,
      "outputs": [
        {
          "output_type": "stream",
          "name": "stdout",
          "text": [
            "Did you notice any artefacts with the silhouette extraction?\n"
          ]
        },
        {
          "output_type": "display_data",
          "data": {
            "application/vnd.google.colaboratory.intrinsic+json": {
              "type": "string"
            },
            "text/plain": [
              "'IoU'"
            ]
          },
          "metadata": {}
        },
        {
          "output_type": "stream",
          "name": "stdout",
          "text": [
            "Pearsons correlation: 0.452\n"
          ]
        }
      ]
    },
    {
      "cell_type": "code",
      "source": [
        "pearsons('Did you notice any artefacts with the silhouette extraction?', 'DC')"
      ],
      "metadata": {
        "colab": {
          "base_uri": "https://localhost:8080/",
          "height": 70
        },
        "id": "BoaMjXsKS1uw",
        "outputId": "3f3c6891-343e-419f-de58-e2675dd0c7ed"
      },
      "execution_count": null,
      "outputs": [
        {
          "output_type": "stream",
          "name": "stdout",
          "text": [
            "Did you notice any artefacts with the silhouette extraction?\n"
          ]
        },
        {
          "output_type": "display_data",
          "data": {
            "application/vnd.google.colaboratory.intrinsic+json": {
              "type": "string"
            },
            "text/plain": [
              "'DC'"
            ]
          },
          "metadata": {}
        },
        {
          "output_type": "stream",
          "name": "stdout",
          "text": [
            "Pearsons correlation: 0.445\n"
          ]
        }
      ]
    },
    {
      "cell_type": "code",
      "source": [
        "pearsons('Did you notice any artefacts with the silhouette extraction?', 'PA')"
      ],
      "metadata": {
        "colab": {
          "base_uri": "https://localhost:8080/",
          "height": 70
        },
        "id": "doEpPmmoS3me",
        "outputId": "1716455a-7fa3-40dd-fe46-0a5d514cf037"
      },
      "execution_count": null,
      "outputs": [
        {
          "output_type": "stream",
          "name": "stdout",
          "text": [
            "Did you notice any artefacts with the silhouette extraction?\n"
          ]
        },
        {
          "output_type": "display_data",
          "data": {
            "application/vnd.google.colaboratory.intrinsic+json": {
              "type": "string"
            },
            "text/plain": [
              "'PA'"
            ]
          },
          "metadata": {}
        },
        {
          "output_type": "stream",
          "name": "stdout",
          "text": [
            "Pearsons correlation: 0.465\n"
          ]
        }
      ]
    },
    {
      "cell_type": "code",
      "source": [
        "pearsons('How satisfied are you with the quality of the silhouette extraction?', 'PA')"
      ],
      "metadata": {
        "colab": {
          "base_uri": "https://localhost:8080/",
          "height": 70
        },
        "id": "iY4o4YIITLGh",
        "outputId": "6d58ba48-f1ca-4c71-d95d-c804288d151a"
      },
      "execution_count": null,
      "outputs": [
        {
          "output_type": "stream",
          "name": "stdout",
          "text": [
            "How satisfied are you with the quality of the silhouette extraction?\n"
          ]
        },
        {
          "output_type": "display_data",
          "data": {
            "application/vnd.google.colaboratory.intrinsic+json": {
              "type": "string"
            },
            "text/plain": [
              "'PA'"
            ]
          },
          "metadata": {}
        },
        {
          "output_type": "stream",
          "name": "stdout",
          "text": [
            "Pearsons correlation: -0.451\n"
          ]
        }
      ]
    },
    {
      "cell_type": "markdown",
      "source": [
        "But since our data set is not normally distributed, we have to use something else."
      ],
      "metadata": {
        "id": "MO3DiGZ6mM4f"
      }
    },
    {
      "cell_type": "markdown",
      "source": [
        "### Spearman's Correlation\n",
        "A correlation measure for variables which may be related by a nonlinear relationship, and being considered to not have a normally distributed distribution.\n",
        "\n",
        "A value of 0 means no correlation. The value must be interpreted, where often a value below -0.5 or above 0.5 indicates a notable correlation, and values below those values suggests a less notable correlation."
      ],
      "metadata": {
        "id": "B3ge-NkAUUQs"
      }
    },
    {
      "cell_type": "code",
      "source": [
        "# calculate the Spearman's correlation between two variables\n",
        "from scipy.stats import spearmanr\n",
        "\n",
        "def spearman(subjective, objective):\n",
        "  # prepare data\n",
        "  data1 = np.asarray(stats_questions(subjective), dtype=float)\n",
        "  data2 = np.asarray(stats_objective(objective), dtype=float)\n",
        "  \n",
        "  # calculate Pearson's correlation\n",
        "  corr, _ = spearmanr(data1, data2)\n",
        "  \n",
        "  print('Spearmans correlation: %.3f' % corr)\n",
        "\n",
        "  return corr"
      ],
      "metadata": {
        "id": "j8VHz8brUZ93"
      },
      "execution_count": null,
      "outputs": []
    },
    {
      "cell_type": "markdown",
      "source": [
        "#### Question 1"
      ],
      "metadata": {
        "id": "FNTRY1XCpKQW"
      }
    },
    {
      "cell_type": "code",
      "source": [
        "spearman('How satisfied are you with the quality of the silhouette extraction?', 'IoU')"
      ],
      "metadata": {
        "colab": {
          "base_uri": "https://localhost:8080/",
          "height": 87
        },
        "id": "wJa5AKAIpPHi",
        "outputId": "8220bd9a-79c3-4b2f-f0e9-5b6b7344873f"
      },
      "execution_count": null,
      "outputs": [
        {
          "output_type": "stream",
          "name": "stdout",
          "text": [
            "How satisfied are you with the quality of the silhouette extraction?\n"
          ]
        },
        {
          "output_type": "display_data",
          "data": {
            "application/vnd.google.colaboratory.intrinsic+json": {
              "type": "string"
            },
            "text/plain": [
              "'IoU'"
            ]
          },
          "metadata": {}
        },
        {
          "output_type": "stream",
          "name": "stdout",
          "text": [
            "Spearmans correlation: -0.456\n"
          ]
        },
        {
          "output_type": "execute_result",
          "data": {
            "text/plain": [
              "-0.4561431587846275"
            ]
          },
          "metadata": {},
          "execution_count": 58
        }
      ]
    },
    {
      "cell_type": "code",
      "source": [
        "spearman('How satisfied are you with the quality of the silhouette extraction?', 'DC')"
      ],
      "metadata": {
        "colab": {
          "base_uri": "https://localhost:8080/",
          "height": 87
        },
        "id": "tgloWpDwpOPj",
        "outputId": "c04264ab-0eee-4091-8ff7-838616883eb5"
      },
      "execution_count": null,
      "outputs": [
        {
          "output_type": "stream",
          "name": "stdout",
          "text": [
            "How satisfied are you with the quality of the silhouette extraction?\n"
          ]
        },
        {
          "output_type": "display_data",
          "data": {
            "application/vnd.google.colaboratory.intrinsic+json": {
              "type": "string"
            },
            "text/plain": [
              "'DC'"
            ]
          },
          "metadata": {}
        },
        {
          "output_type": "stream",
          "name": "stdout",
          "text": [
            "Spearmans correlation: -0.456\n"
          ]
        },
        {
          "output_type": "execute_result",
          "data": {
            "text/plain": [
              "-0.4561431587846275"
            ]
          },
          "metadata": {},
          "execution_count": 116
        }
      ]
    },
    {
      "cell_type": "code",
      "source": [
        "spearman('How satisfied are you with the quality of the silhouette extraction?', 'PA')"
      ],
      "metadata": {
        "id": "kQMvskDTU_LM",
        "outputId": "1738f3a6-ae98-4f36-dba7-24725e26e549",
        "colab": {
          "base_uri": "https://localhost:8080/",
          "height": 87
        }
      },
      "execution_count": null,
      "outputs": [
        {
          "output_type": "stream",
          "name": "stdout",
          "text": [
            "How satisfied are you with the quality of the silhouette extraction?\n"
          ]
        },
        {
          "output_type": "display_data",
          "data": {
            "application/vnd.google.colaboratory.intrinsic+json": {
              "type": "string"
            },
            "text/plain": [
              "'PA'"
            ]
          },
          "metadata": {}
        },
        {
          "output_type": "stream",
          "name": "stdout",
          "text": [
            "Spearmans correlation: -0.435\n"
          ]
        },
        {
          "output_type": "execute_result",
          "data": {
            "text/plain": [
              "-0.43509039760995244"
            ]
          },
          "metadata": {},
          "execution_count": 60
        }
      ]
    },
    {
      "cell_type": "markdown",
      "source": [
        "All values are over -0.5.\n",
        "This indicates little to no correlation."
      ],
      "metadata": {
        "id": "gMSoG3p7qNWy"
      }
    },
    {
      "cell_type": "markdown",
      "source": [
        "#### Question 2"
      ],
      "metadata": {
        "id": "u_GX6T_FpGBU"
      }
    },
    {
      "cell_type": "code",
      "source": [
        "spearman('Did you notice any artefacts with the silhouette extraction?', 'IoU')"
      ],
      "metadata": {
        "colab": {
          "base_uri": "https://localhost:8080/",
          "height": 87
        },
        "id": "F4CPjavHUsTK",
        "outputId": "b8e4951c-631f-4f9a-d368-42fee25fe11d"
      },
      "execution_count": null,
      "outputs": [
        {
          "output_type": "stream",
          "name": "stdout",
          "text": [
            "Did you notice any artefacts with the silhouette extraction?\n"
          ]
        },
        {
          "output_type": "display_data",
          "data": {
            "application/vnd.google.colaboratory.intrinsic+json": {
              "type": "string"
            },
            "text/plain": [
              "'IoU'"
            ]
          },
          "metadata": {}
        },
        {
          "output_type": "stream",
          "name": "stdout",
          "text": [
            "Spearmans correlation: 0.399\n"
          ]
        },
        {
          "output_type": "execute_result",
          "data": {
            "text/plain": [
              "0.39930008695285735"
            ]
          },
          "metadata": {},
          "execution_count": 61
        }
      ]
    },
    {
      "cell_type": "code",
      "source": [
        "spearman('Did you notice any artefacts with the silhouette extraction?', 'DC')"
      ],
      "metadata": {
        "colab": {
          "base_uri": "https://localhost:8080/",
          "height": 87
        },
        "id": "Q9Kptg_VUxks",
        "outputId": "b675d0e4-1b3a-4dde-ddd5-be02f7d0648b"
      },
      "execution_count": null,
      "outputs": [
        {
          "output_type": "stream",
          "name": "stdout",
          "text": [
            "Did you notice any artefacts with the silhouette extraction?\n"
          ]
        },
        {
          "output_type": "display_data",
          "data": {
            "application/vnd.google.colaboratory.intrinsic+json": {
              "type": "string"
            },
            "text/plain": [
              "'DC'"
            ]
          },
          "metadata": {}
        },
        {
          "output_type": "stream",
          "name": "stdout",
          "text": [
            "Spearmans correlation: 0.399\n"
          ]
        },
        {
          "output_type": "execute_result",
          "data": {
            "text/plain": [
              "0.39930008695285735"
            ]
          },
          "metadata": {},
          "execution_count": 62
        }
      ]
    },
    {
      "cell_type": "code",
      "source": [
        "spearman('Did you notice any artefacts with the silhouette extraction?', 'PA')"
      ],
      "metadata": {
        "colab": {
          "base_uri": "https://localhost:8080/",
          "height": 87
        },
        "id": "PZUWBuNhU2OZ",
        "outputId": "ae1c77bb-881b-46f7-ff25-689888a6fd32"
      },
      "execution_count": null,
      "outputs": [
        {
          "output_type": "stream",
          "name": "stdout",
          "text": [
            "Did you notice any artefacts with the silhouette extraction?\n"
          ]
        },
        {
          "output_type": "display_data",
          "data": {
            "application/vnd.google.colaboratory.intrinsic+json": {
              "type": "string"
            },
            "text/plain": [
              "'PA'"
            ]
          },
          "metadata": {}
        },
        {
          "output_type": "stream",
          "name": "stdout",
          "text": [
            "Spearmans correlation: 0.347\n"
          ]
        },
        {
          "output_type": "execute_result",
          "data": {
            "text/plain": [
              "0.3467606018274814"
            ]
          },
          "metadata": {},
          "execution_count": 63
        }
      ]
    },
    {
      "cell_type": "markdown",
      "source": [
        "All values are under 0.5.\n",
        "This indicates little to no correlation."
      ],
      "metadata": {
        "id": "m9AZ0-srqaS-"
      }
    },
    {
      "cell_type": "markdown",
      "source": [
        "#### Question 3"
      ],
      "metadata": {
        "id": "j4cgdeZfpW3x"
      }
    },
    {
      "cell_type": "code",
      "source": [
        "spearman('Do you think the artefacts were annoying?', 'IoU')"
      ],
      "metadata": {
        "colab": {
          "base_uri": "https://localhost:8080/",
          "height": 87
        },
        "id": "vahv61EhpYrf",
        "outputId": "bd3f45d7-dec3-43c0-d10d-359433649a4d"
      },
      "execution_count": null,
      "outputs": [
        {
          "output_type": "stream",
          "name": "stdout",
          "text": [
            "Do you think the artefacts were annoying?\n"
          ]
        },
        {
          "output_type": "display_data",
          "data": {
            "application/vnd.google.colaboratory.intrinsic+json": {
              "type": "string"
            },
            "text/plain": [
              "'IoU'"
            ]
          },
          "metadata": {}
        },
        {
          "output_type": "stream",
          "name": "stdout",
          "text": [
            "Spearmans correlation: 0.420\n"
          ]
        },
        {
          "output_type": "execute_result",
          "data": {
            "text/plain": [
              "0.41958041958041964"
            ]
          },
          "metadata": {},
          "execution_count": 64
        }
      ]
    },
    {
      "cell_type": "code",
      "source": [
        "spearman('Do you think the artefacts were annoying?', 'DC')"
      ],
      "metadata": {
        "colab": {
          "base_uri": "https://localhost:8080/",
          "height": 87
        },
        "id": "hy64MhqZpfxR",
        "outputId": "ae4e4c21-9d5e-4277-e8f4-ec49a839f587"
      },
      "execution_count": null,
      "outputs": [
        {
          "output_type": "stream",
          "name": "stdout",
          "text": [
            "Do you think the artefacts were annoying?\n"
          ]
        },
        {
          "output_type": "display_data",
          "data": {
            "application/vnd.google.colaboratory.intrinsic+json": {
              "type": "string"
            },
            "text/plain": [
              "'DC'"
            ]
          },
          "metadata": {}
        },
        {
          "output_type": "stream",
          "name": "stdout",
          "text": [
            "Spearmans correlation: 0.420\n"
          ]
        },
        {
          "output_type": "execute_result",
          "data": {
            "text/plain": [
              "0.41958041958041964"
            ]
          },
          "metadata": {},
          "execution_count": 65
        }
      ]
    },
    {
      "cell_type": "code",
      "source": [
        "spearman('Do you think the artefacts were annoying?', 'PA')"
      ],
      "metadata": {
        "colab": {
          "base_uri": "https://localhost:8080/",
          "height": 87
        },
        "id": "58eQCgQcpg8y",
        "outputId": "2204a805-12ed-4616-c0fd-f8cd30542bd4"
      },
      "execution_count": null,
      "outputs": [
        {
          "output_type": "stream",
          "name": "stdout",
          "text": [
            "Do you think the artefacts were annoying?\n"
          ]
        },
        {
          "output_type": "display_data",
          "data": {
            "application/vnd.google.colaboratory.intrinsic+json": {
              "type": "string"
            },
            "text/plain": [
              "'PA'"
            ]
          },
          "metadata": {}
        },
        {
          "output_type": "stream",
          "name": "stdout",
          "text": [
            "Spearmans correlation: 0.392\n"
          ]
        },
        {
          "output_type": "execute_result",
          "data": {
            "text/plain": [
              "0.3916083916083916"
            ]
          },
          "metadata": {},
          "execution_count": 66
        }
      ]
    },
    {
      "cell_type": "markdown",
      "source": [
        "All values are under 0.5.\n",
        "This indicates little to no correlation."
      ],
      "metadata": {
        "id": "10kjvmsJqdBl"
      }
    },
    {
      "cell_type": "markdown",
      "source": [
        "### Significance test\n",
        "Much of the following has been learned from [Everything you need to know about interpreting correlations](https://towardsdatascience.com/eveything-you-need-to-know-about-interpreting-correlations-2c485841c0b8)\n",
        "\n",
        "As we want to know in general if there would be a correlation between the objective and subjective measures for the machine learning based foreground extractor, we can not simply draw our conclusions from our sampled Spearman's correlation tests. If we have used a different sample, in our case other videos, we would have gotten other Spearman's values. \n",
        "\n",
        "We want to draw the conclusion on the entire population, the model in general, and not just our samples, our created videos. \n",
        "\n",
        "To do this, we create a __statistical significance test__ using our previously formed hypotheses. The statistical significance test tells us if what we observe in the sample is expected to be true in the population. "
      ],
      "metadata": {
        "id": "TYvBYW8Us8vn"
      }
    },
    {
      "cell_type": "markdown",
      "source": [
        "#### T-Test\n",
        "Allows us to use sample data to generalize an assumption to an entire population.\n",
        "\n",
        "$ t = \\frac{r * \\sqrt(n-2) }{\\sqrt(1-r^2)} $, where \n",
        "> $r = sample\\ correlation\\ coefficient$\n",
        "> $n = sample\\ size$\n",
        "\n",
        "\n",
        "Bigger t-value, more likely that the correlation is repeatable\n"
      ],
      "metadata": {
        "id": "ANzrqUbyuWn8"
      }
    },
    {
      "cell_type": "code",
      "source": [
        "import math # To use math.sqrt()"
      ],
      "metadata": {
        "id": "JsYpcaNd0BnF"
      },
      "execution_count": null,
      "outputs": []
    },
    {
      "cell_type": "code",
      "source": [
        "def t_test(r, n):\n",
        "  t_test = (r * math.sqrt(n - 2))/math.sqrt(1-r*r)\n",
        "  print(\"T-test: \"+str(t_test))\n",
        "  return t_test"
      ],
      "metadata": {
        "id": "gEBB9Z6GzvLx"
      },
      "execution_count": null,
      "outputs": []
    },
    {
      "cell_type": "code",
      "source": [
        "t_test(spearman('Do you think the artefacts were annoying?', 'PA'), 12)"
      ],
      "metadata": {
        "colab": {
          "base_uri": "https://localhost:8080/",
          "height": 105
        },
        "id": "ZRj21Yt60Tke",
        "outputId": "3444469c-44a2-4302-9db4-6e767618a107"
      },
      "execution_count": null,
      "outputs": [
        {
          "output_type": "stream",
          "name": "stdout",
          "text": [
            "Do you think the artefacts were annoying?\n"
          ]
        },
        {
          "output_type": "display_data",
          "data": {
            "application/vnd.google.colaboratory.intrinsic+json": {
              "type": "string"
            },
            "text/plain": [
              "'PA'"
            ]
          },
          "metadata": {}
        },
        {
          "output_type": "stream",
          "name": "stdout",
          "text": [
            "Spearmans correlation: 0.392\n",
            "T-test: 1.3458661258529039\n"
          ]
        },
        {
          "output_type": "execute_result",
          "data": {
            "text/plain": [
              "1.3458661258529039"
            ]
          },
          "metadata": {},
          "execution_count": 85
        }
      ]
    },
    {
      "cell_type": "markdown",
      "source": [
        "#### P-value\n",
        "\n",
        "The probability that the $H_0$ is true. Our case: the probability that the correlation happend by chance or not.\n",
        "\n",
        "A P-value of $0.05$, meaning a $5\\%$ chance that the correlation happened by chance. We want this, so this gives us the significance level of $α = 0.05$\n",
        "\n",
        "We find our corresponding t-value for our selected P-value by looking it up in a [t-table](https://www.sjsu.edu/faculty/gerstman/StatPrimer/t-table.pdf), but to find the t-value we need to know our number of degrees of freedom.\n",
        "$ DF = n -2 $\n",
        "With our sample size of $12$, we get a $DF = 10$\n",
        "\n",
        "And finally we get our t-score: $t=1.8125$"
      ],
      "metadata": {
        "id": "2HzximAax0gH"
      }
    },
    {
      "cell_type": "code",
      "source": [
        "t = 1.8125"
      ],
      "metadata": {
        "id": "pBPT-q5K2Z1K"
      },
      "execution_count": null,
      "outputs": []
    },
    {
      "cell_type": "markdown",
      "source": [
        "\n",
        "\n",
        "---\n",
        "\n",
        "\n",
        "Let's make a final function which takes the sample correlation value and tells us if there is statistically significance.\n",
        "\n",
        "In this case statstical significance __TRUE__, means that our sample data is representative for the entire population. \n"
      ],
      "metadata": {
        "id": "PjJsqjmK1D_Y"
      }
    },
    {
      "cell_type": "code",
      "source": [
        "def significance(corr_value, sample_size, t_value):\n",
        "  t_test_value = t_test(corr_value, sample_size)\n",
        "\n",
        "  if t_test_value > t_value:\n",
        "    significance = False\n",
        "  elif t_test_value < t_value:\n",
        "    significance = True\n",
        "\n",
        "  print(\"Correlation: \"+str(corr_value))\n",
        "  print(\"Sample size: \"+str(sample_size))\n",
        "  print(\"T-value: \"+str(t_value))\n",
        "  print(\"-------------------------\")\n",
        "  print(\"Significance: \"+str(significance))\n",
        "\n",
        "  return significance, t_test_value"
      ],
      "metadata": {
        "id": "dR2VT91C1Qd4"
      },
      "execution_count": null,
      "outputs": []
    },
    {
      "cell_type": "markdown",
      "source": [
        "\n",
        "\n",
        "---\n",
        "\n"
      ],
      "metadata": {
        "id": "NaVeA1kn6fvL"
      }
    },
    {
      "cell_type": "markdown",
      "source": [
        "### Questions"
      ],
      "metadata": {
        "id": "ej2dwcgw8Lzt"
      }
    },
    {
      "cell_type": "markdown",
      "source": [
        "#### Question 1"
      ],
      "metadata": {
        "id": "-IildqzS6ot7"
      }
    },
    {
      "cell_type": "code",
      "source": [
        "significance(spearman('How satisfied are you with the quality of the silhouette extraction?', 'IoU'), 12, t)"
      ],
      "metadata": {
        "colab": {
          "base_uri": "https://localhost:8080/",
          "height": 192
        },
        "id": "eK-L3o236sfe",
        "outputId": "e7f994de-ee1a-4cc1-fdf7-03dc8a6f07f6"
      },
      "execution_count": null,
      "outputs": [
        {
          "output_type": "stream",
          "name": "stdout",
          "text": [
            "How satisfied are you with the quality of the silhouette extraction?\n"
          ]
        },
        {
          "output_type": "display_data",
          "data": {
            "application/vnd.google.colaboratory.intrinsic+json": {
              "type": "string"
            },
            "text/plain": [
              "'IoU'"
            ]
          },
          "metadata": {}
        },
        {
          "output_type": "stream",
          "name": "stdout",
          "text": [
            "Spearmans correlation: -0.456\n",
            "T-test: -1.620902270768468\n",
            "Correlation: -0.4561431587846275\n",
            "Sample size: 12\n",
            "T-value: 1.8125\n",
            "-------------------------\n",
            "Significance: True\n"
          ]
        },
        {
          "output_type": "execute_result",
          "data": {
            "text/plain": [
              "(True, -1.620902270768468)"
            ]
          },
          "metadata": {},
          "execution_count": 102
        }
      ]
    },
    {
      "cell_type": "code",
      "source": [
        "significance(spearman('How satisfied are you with the quality of the silhouette extraction?', 'DC'), 12, t)"
      ],
      "metadata": {
        "colab": {
          "base_uri": "https://localhost:8080/",
          "height": 192
        },
        "id": "VgqJ38cn61TQ",
        "outputId": "b4d662a3-1cf8-4add-f8db-48e44ed4385b"
      },
      "execution_count": null,
      "outputs": [
        {
          "output_type": "stream",
          "name": "stdout",
          "text": [
            "How satisfied are you with the quality of the silhouette extraction?\n"
          ]
        },
        {
          "output_type": "display_data",
          "data": {
            "application/vnd.google.colaboratory.intrinsic+json": {
              "type": "string"
            },
            "text/plain": [
              "'DC'"
            ]
          },
          "metadata": {}
        },
        {
          "output_type": "stream",
          "name": "stdout",
          "text": [
            "Spearmans correlation: -0.456\n",
            "T-test: -1.620902270768468\n",
            "Correlation: -0.4561431587846275\n",
            "Sample size: 12\n",
            "T-value: 1.8125\n",
            "-------------------------\n",
            "Significance: True\n"
          ]
        },
        {
          "output_type": "execute_result",
          "data": {
            "text/plain": [
              "(True, -1.620902270768468)"
            ]
          },
          "metadata": {},
          "execution_count": 103
        }
      ]
    },
    {
      "cell_type": "code",
      "source": [
        "significance(spearman('How satisfied are you with the quality of the silhouette extraction?', 'PA'), 12, t)"
      ],
      "metadata": {
        "colab": {
          "base_uri": "https://localhost:8080/",
          "height": 192
        },
        "id": "z1W_wSLv603W",
        "outputId": "87a37c90-6b99-4935-bda9-2853ef91f687"
      },
      "execution_count": null,
      "outputs": [
        {
          "output_type": "stream",
          "name": "stdout",
          "text": [
            "How satisfied are you with the quality of the silhouette extraction?\n"
          ]
        },
        {
          "output_type": "display_data",
          "data": {
            "application/vnd.google.colaboratory.intrinsic+json": {
              "type": "string"
            },
            "text/plain": [
              "'PA'"
            ]
          },
          "metadata": {}
        },
        {
          "output_type": "stream",
          "name": "stdout",
          "text": [
            "Spearmans correlation: -0.435\n",
            "T-test: -1.528095127121111\n",
            "Correlation: -0.43509039760995244\n",
            "Sample size: 12\n",
            "T-value: 1.8125\n",
            "-------------------------\n",
            "Significance: True\n"
          ]
        },
        {
          "output_type": "execute_result",
          "data": {
            "text/plain": [
              "(True, -1.528095127121111)"
            ]
          },
          "metadata": {},
          "execution_count": 104
        }
      ]
    },
    {
      "cell_type": "markdown",
      "source": [
        "#### Question 2"
      ],
      "metadata": {
        "id": "ECad7kKW7DVp"
      }
    },
    {
      "cell_type": "code",
      "source": [
        "significance(spearman('Did you notice any artefacts with the silhouette extraction?', 'IoU'), 12, t)"
      ],
      "metadata": {
        "colab": {
          "base_uri": "https://localhost:8080/",
          "height": 192
        },
        "id": "Z4YDlWlF7Ewm",
        "outputId": "fcbb85d8-3ef3-43b6-cbae-91f671d9a04d"
      },
      "execution_count": null,
      "outputs": [
        {
          "output_type": "stream",
          "name": "stdout",
          "text": [
            "Did you notice any artefacts with the silhouette extraction?\n"
          ]
        },
        {
          "output_type": "display_data",
          "data": {
            "application/vnd.google.colaboratory.intrinsic+json": {
              "type": "string"
            },
            "text/plain": [
              "'IoU'"
            ]
          },
          "metadata": {}
        },
        {
          "output_type": "stream",
          "name": "stdout",
          "text": [
            "Spearmans correlation: 0.399\n",
            "T-test: 1.377257638326777\n",
            "Correlation: 0.39930008695285735\n",
            "Sample size: 12\n",
            "T-value: 1.8125\n",
            "-------------------------\n",
            "Significance: True\n"
          ]
        },
        {
          "output_type": "execute_result",
          "data": {
            "text/plain": [
              "(True, 1.377257638326777)"
            ]
          },
          "metadata": {},
          "execution_count": 105
        }
      ]
    },
    {
      "cell_type": "code",
      "source": [
        "significance(spearman('Did you notice any artefacts with the silhouette extraction?', 'DC'), 12, t)"
      ],
      "metadata": {
        "colab": {
          "base_uri": "https://localhost:8080/",
          "height": 192
        },
        "id": "FTEDJXMO7L_Z",
        "outputId": "46a396cb-147f-4d45-aad5-8e60c78cdaf6"
      },
      "execution_count": null,
      "outputs": [
        {
          "output_type": "stream",
          "name": "stdout",
          "text": [
            "Did you notice any artefacts with the silhouette extraction?\n"
          ]
        },
        {
          "output_type": "display_data",
          "data": {
            "application/vnd.google.colaboratory.intrinsic+json": {
              "type": "string"
            },
            "text/plain": [
              "'DC'"
            ]
          },
          "metadata": {}
        },
        {
          "output_type": "stream",
          "name": "stdout",
          "text": [
            "Spearmans correlation: 0.399\n",
            "T-test: 1.377257638326777\n",
            "Correlation: 0.39930008695285735\n",
            "Sample size: 12\n",
            "T-value: 1.8125\n",
            "-------------------------\n",
            "Significance: True\n"
          ]
        },
        {
          "output_type": "execute_result",
          "data": {
            "text/plain": [
              "(True, 1.377257638326777)"
            ]
          },
          "metadata": {},
          "execution_count": 106
        }
      ]
    },
    {
      "cell_type": "code",
      "source": [
        "significance(spearman('Did you notice any artefacts with the silhouette extraction?', 'PA'), 12, t)"
      ],
      "metadata": {
        "colab": {
          "base_uri": "https://localhost:8080/",
          "height": 192
        },
        "id": "5Vb4HvWl7LvE",
        "outputId": "b1190ba1-5356-4a5c-cbca-7d7dc48343eb"
      },
      "execution_count": null,
      "outputs": [
        {
          "output_type": "stream",
          "name": "stdout",
          "text": [
            "Did you notice any artefacts with the silhouette extraction?\n"
          ]
        },
        {
          "output_type": "display_data",
          "data": {
            "application/vnd.google.colaboratory.intrinsic+json": {
              "type": "string"
            },
            "text/plain": [
              "'PA'"
            ]
          },
          "metadata": {}
        },
        {
          "output_type": "stream",
          "name": "stdout",
          "text": [
            "Spearmans correlation: 0.347\n",
            "T-test: 1.1690911192456053\n",
            "Correlation: 0.3467606018274814\n",
            "Sample size: 12\n",
            "T-value: 1.8125\n",
            "-------------------------\n",
            "Significance: True\n"
          ]
        },
        {
          "output_type": "execute_result",
          "data": {
            "text/plain": [
              "(True, 1.1690911192456053)"
            ]
          },
          "metadata": {},
          "execution_count": 107
        }
      ]
    },
    {
      "cell_type": "markdown",
      "source": [
        "#### Question 3"
      ],
      "metadata": {
        "id": "471P_Qhw6GGz"
      }
    },
    {
      "cell_type": "code",
      "source": [
        "significance(spearman('Do you think the artefacts were annoying?', 'IoU'), 12, t)"
      ],
      "metadata": {
        "colab": {
          "base_uri": "https://localhost:8080/",
          "height": 192
        },
        "id": "75TZPqdv6jAQ",
        "outputId": "64e49402-6f95-483b-ecf4-b0f5d1e800c2"
      },
      "execution_count": null,
      "outputs": [
        {
          "output_type": "stream",
          "name": "stdout",
          "text": [
            "Do you think the artefacts were annoying?\n"
          ]
        },
        {
          "output_type": "display_data",
          "data": {
            "application/vnd.google.colaboratory.intrinsic+json": {
              "type": "string"
            },
            "text/plain": [
              "'IoU'"
            ]
          },
          "metadata": {}
        },
        {
          "output_type": "stream",
          "name": "stdout",
          "text": [
            "Spearmans correlation: 0.420\n",
            "T-test: 1.461719986526158\n",
            "Correlation: 0.41958041958041964\n",
            "Sample size: 12\n",
            "T-value: 1.8125\n",
            "-------------------------\n",
            "Significance: True\n"
          ]
        },
        {
          "output_type": "execute_result",
          "data": {
            "text/plain": [
              "(True, 1.461719986526158)"
            ]
          },
          "metadata": {},
          "execution_count": 108
        }
      ]
    },
    {
      "cell_type": "code",
      "source": [
        "significance(spearman('Do you think the artefacts were annoying?', 'DC'), 12, t)"
      ],
      "metadata": {
        "colab": {
          "base_uri": "https://localhost:8080/",
          "height": 192
        },
        "id": "Y9pXj0lw6ig-",
        "outputId": "4eb2c948-ea6c-4d3d-d006-4bab9ddb1c10"
      },
      "execution_count": null,
      "outputs": [
        {
          "output_type": "stream",
          "name": "stdout",
          "text": [
            "Do you think the artefacts were annoying?\n"
          ]
        },
        {
          "output_type": "display_data",
          "data": {
            "application/vnd.google.colaboratory.intrinsic+json": {
              "type": "string"
            },
            "text/plain": [
              "'DC'"
            ]
          },
          "metadata": {}
        },
        {
          "output_type": "stream",
          "name": "stdout",
          "text": [
            "Spearmans correlation: 0.420\n",
            "T-test: 1.461719986526158\n",
            "Correlation: 0.41958041958041964\n",
            "Sample size: 12\n",
            "T-value: 1.8125\n",
            "-------------------------\n",
            "Significance: True\n"
          ]
        },
        {
          "output_type": "execute_result",
          "data": {
            "text/plain": [
              "(True, 1.461719986526158)"
            ]
          },
          "metadata": {},
          "execution_count": 109
        }
      ]
    },
    {
      "cell_type": "code",
      "source": [
        "significance(spearman('Do you think the artefacts were annoying?', 'PA'), 12, t)"
      ],
      "metadata": {
        "colab": {
          "base_uri": "https://localhost:8080/",
          "height": 192
        },
        "id": "yVEE4ZYj2Ucq",
        "outputId": "d8432eb4-9ea6-4334-e501-a4db5acd2015"
      },
      "execution_count": null,
      "outputs": [
        {
          "output_type": "stream",
          "name": "stdout",
          "text": [
            "Do you think the artefacts were annoying?\n"
          ]
        },
        {
          "output_type": "display_data",
          "data": {
            "application/vnd.google.colaboratory.intrinsic+json": {
              "type": "string"
            },
            "text/plain": [
              "'PA'"
            ]
          },
          "metadata": {}
        },
        {
          "output_type": "stream",
          "name": "stdout",
          "text": [
            "Spearmans correlation: 0.392\n",
            "T-test: 1.3458661258529039\n",
            "Correlation: 0.3916083916083916\n",
            "Sample size: 12\n",
            "T-value: 1.8125\n",
            "-------------------------\n",
            "Significance: True\n"
          ]
        },
        {
          "output_type": "execute_result",
          "data": {
            "text/plain": [
              "(True, 1.3458661258529039)"
            ]
          },
          "metadata": {},
          "execution_count": 110
        }
      ]
    },
    {
      "cell_type": "markdown",
      "source": [
        "\n",
        "\n",
        "---\n",
        "### Conclusion  😃\n",
        "\n",
        "All of our statistical significance tests resulted in __TRUE__, meaning that all of our sampled data testing, stastitically makes up for a good represention of an entire population.\n",
        "\n",
        "___We can therefore conclude, that statistically, there is no correlation between the objective and subjective measures for the machine learning based foreground extractor.___"
      ],
      "metadata": {
        "id": "OZ88NEEp7SJR"
      }
    }
  ]
}