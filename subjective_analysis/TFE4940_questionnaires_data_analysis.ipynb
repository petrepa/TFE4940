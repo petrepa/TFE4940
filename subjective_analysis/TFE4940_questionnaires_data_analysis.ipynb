{
  "nbformat": 4,
  "nbformat_minor": 0,
  "metadata": {
    "colab": {
      "name": "TFE4940_questionnaires_data_analysis.ipynb",
      "provenance": [],
      "collapsed_sections": []
    },
    "kernelspec": {
      "name": "python3",
      "display_name": "Python 3"
    },
    "language_info": {
      "name": "python"
    }
  },
  "cells": [
    {
      "cell_type": "markdown",
      "metadata": {
        "id": "ozZJz8tWgM4h"
      },
      "source": [
        "# TFE4940 Questionnaires Data Analysis 📊❓💻\n",
        "\n",
        "This notebook 📒 is a part of Peter Remøy Paulsens🙋‍♂️ master thesis, TFE4940.\n",
        "\n",
        "Here you can see the code used for the resulting subjective analysis part, used in the final project report 📚📖\n",
        "\n",
        "The participants of this experiment filled out a questionnaire where they saw 12 different videos processed by a machine learning based foreground extractor. They were asked to some questions for each video used to collect data on the quality of their experience.\n",
        "* How satisfied are you with the quality of the silhouette extraction?\n",
        "* Did you notice any artefacts with the silhouette extraction?\n",
        "* Do you think the artefacts were annoying?\n",
        "\n",
        "---\n",
        "We are going to utilize a CSV file export from this questionnaire. We are going to have to place this file in this directory each time we want to create a new runtime of this notebook. Upload it if it isn't in the directory.\n",
        "\n",
        "Lets check if the files are placed in our directory\n",
        "\n"
      ]
    },
    {
      "cell_type": "code",
      "metadata": {
        "colab": {
          "base_uri": "https://localhost:8080/"
        },
        "id": "85fS7tkRDYGf",
        "outputId": "bc39ff09-68de-42f1-ea6f-b18cb628f1ca"
      },
      "source": [
        "import os\n",
        "\n",
        "print(os.getcwd())      # Tells us which directory we are in\n",
        "print(os.listdir())     # Lists all of the contents in our directory"
      ],
      "execution_count": null,
      "outputs": [
        {
          "output_type": "stream",
          "name": "stdout",
          "text": [
            "/content\n",
            "['.config', 'average_objective_stats.csv', 'questionnaire_numerical.csv', '30nov2021_final.csv', '.ipynb_checkpoints', 'age_plot.pdf', 'gender_plot.pdf', 'sample_data']\n"
          ]
        }
      ]
    },
    {
      "cell_type": "markdown",
      "metadata": {
        "id": "g7r4Cz3QGSGA"
      },
      "source": [
        "You should see something like this printed out:\n",
        "```\n",
        "['.config', 'questionnaire.csv', 'sampledata']\n",
        "```\n",
        "---\n",
        "## Analyzing Tool 🕵️‍♀️🐼🔎\n",
        "### Importing Data 🤏\n",
        "We will use [pandas](https://pandas.pydata.org) as our analyzing tool. We import this and name it **pd**."
      ]
    },
    {
      "cell_type": "code",
      "metadata": {
        "id": "jTBI3xFIF5js"
      },
      "source": [
        "import pandas as pd"
      ],
      "execution_count": null,
      "outputs": []
    },
    {
      "cell_type": "markdown",
      "metadata": {
        "id": "pjd_uRpoGFZn"
      },
      "source": [
        "From here we make a panda DataFrame which reads our csv file.\n",
        "\n",
        "We read the csv file and checks if it outputs the correct data"
      ]
    },
    {
      "cell_type": "code",
      "metadata": {
        "colab": {
          "base_uri": "https://localhost:8080/",
          "height": 695
        },
        "id": "gaN7TOYsGObI",
        "outputId": "90182c9f-3269-446b-ee6e-785f75ce261f"
      },
      "source": [
        "df = pd.read_csv('30nov2021_final.csv')\n",
        "df.head()"
      ],
      "execution_count": null,
      "outputs": [
        {
          "output_type": "execute_result",
          "data": {
            "text/html": [
              "<div>\n",
              "<style scoped>\n",
              "    .dataframe tbody tr th:only-of-type {\n",
              "        vertical-align: middle;\n",
              "    }\n",
              "\n",
              "    .dataframe tbody tr th {\n",
              "        vertical-align: top;\n",
              "    }\n",
              "\n",
              "    .dataframe thead th {\n",
              "        text-align: right;\n",
              "    }\n",
              "</style>\n",
              "<table border=\"1\" class=\"dataframe\">\n",
              "  <thead>\n",
              "    <tr style=\"text-align: right;\">\n",
              "      <th></th>\n",
              "      <th>Tidsmerke</th>\n",
              "      <th>Have you signed the consent form?</th>\n",
              "      <th>How old are you?</th>\n",
              "      <th>Gender</th>\n",
              "      <th>Education</th>\n",
              "      <th>What is your occupation? If you are a student, please state the category most fitting to your study. Don't answer if you're not working.</th>\n",
              "      <th>How satisfied are you with the quality of the silhouette extraction?</th>\n",
              "      <th>Did you notice any artefacts with the silhouette extraction?</th>\n",
              "      <th>Do you think the artefacts were annoying?</th>\n",
              "      <th>How satisfied are you with the quality of the silhouette extraction?.1</th>\n",
              "      <th>Did you notice any artefacts with the silhouette extraction?.1</th>\n",
              "      <th>Do you think the artefacts were annoying?.1</th>\n",
              "      <th>How satisfied are you with the quality of the silhouette extraction?.2</th>\n",
              "      <th>Did you notice any artefacts with the silhouette extraction?.2</th>\n",
              "      <th>Do you think the artefacts were annoying?.2</th>\n",
              "      <th>How satisfied are you with the quality of the silhouette extraction?.3</th>\n",
              "      <th>Did you notice any artefacts with the silhouette extraction?.3</th>\n",
              "      <th>Do you think the artefacts were annoying?.3</th>\n",
              "      <th>How satisfied are you with the quality of the silhouette extraction?.4</th>\n",
              "      <th>Did you notice any artefacts with the silhouette extraction?.4</th>\n",
              "      <th>Do you think the artefacts were annoying?.4</th>\n",
              "      <th>How satisfied are you with the quality of the silhouette extraction?.5</th>\n",
              "      <th>Did you notice any artefacts with the silhouette extraction?.5</th>\n",
              "      <th>Do you think the artefacts were annoying?.5</th>\n",
              "      <th>How satisfied are you with the quality of the silhouette extraction?.6</th>\n",
              "      <th>Did you notice any artefacts with the silhouette extraction?.6</th>\n",
              "      <th>Do you think the artefacts were annoying?.6</th>\n",
              "      <th>How satisfied are you with the quality of the silhouette extraction?.7</th>\n",
              "      <th>Did you notice any artefacts with the silhouette extraction?.7</th>\n",
              "      <th>Do you think the artefacts were annoying?.7</th>\n",
              "      <th>How satisfied are you with the quality of the silhouette extraction?.8</th>\n",
              "      <th>Did you notice any artefacts with the silhouette extraction?.8</th>\n",
              "      <th>Do you think the artefacts were annoying?.8</th>\n",
              "      <th>How satisfied are you with the quality of the silhouette extraction?.9</th>\n",
              "      <th>Did you notice any artefacts with the silhouette extraction?.9</th>\n",
              "      <th>Do you think the artefacts were annoying?.9</th>\n",
              "      <th>How satisfied are you with the quality of the silhouette extraction?.10</th>\n",
              "      <th>Did you notice any artefacts with the silhouette extraction?.10</th>\n",
              "      <th>Do you think the artefacts were annoying?.10</th>\n",
              "      <th>How satisfied are you with the quality of the silhouette extraction?.11</th>\n",
              "      <th>Did you notice any artefacts with the silhouette extraction?.11</th>\n",
              "      <th>Do you think the artefacts were annoying?.11</th>\n",
              "      <th>Do you have any additional feedback on the contents of the videos? What is your general impression? Any feedback is welcome. Du kan skrive på norsk om du vil.</th>\n",
              "    </tr>\n",
              "  </thead>\n",
              "  <tbody>\n",
              "    <tr>\n",
              "      <th>0</th>\n",
              "      <td>2021/11/15 11:15:03 a.m. CET</td>\n",
              "      <td>Yes</td>\n",
              "      <td>35 - 44</td>\n",
              "      <td>Male</td>\n",
              "      <td>Higher than master's degree</td>\n",
              "      <td>IT and computers</td>\n",
              "      <td>Slightly satisfied</td>\n",
              "      <td>Very noticable</td>\n",
              "      <td>Very annoying</td>\n",
              "      <td>Very satisfied</td>\n",
              "      <td>Slightly noticable</td>\n",
              "      <td>Slightly annoying</td>\n",
              "      <td>Very satisfied</td>\n",
              "      <td>Slightly noticable</td>\n",
              "      <td>Slightly annoying</td>\n",
              "      <td>Moderately satisfied</td>\n",
              "      <td>Very noticable</td>\n",
              "      <td>Moderately annoying</td>\n",
              "      <td>Very satisfied</td>\n",
              "      <td>Not at all noticable</td>\n",
              "      <td>Not at all annoying</td>\n",
              "      <td>Slightly satisfied</td>\n",
              "      <td>Very noticable</td>\n",
              "      <td>Very annoying</td>\n",
              "      <td>Moderately satisfied</td>\n",
              "      <td>Very noticable</td>\n",
              "      <td>Very annoying</td>\n",
              "      <td>Very satisfied</td>\n",
              "      <td>Slightly noticable</td>\n",
              "      <td>Not at all annoying</td>\n",
              "      <td>Moderately satisfied</td>\n",
              "      <td>Moderately noticable</td>\n",
              "      <td>Moderately annoying</td>\n",
              "      <td>Moderately satisfied</td>\n",
              "      <td>Very noticable</td>\n",
              "      <td>Moderately annoying</td>\n",
              "      <td>Moderately satisfied</td>\n",
              "      <td>Very noticable</td>\n",
              "      <td>Very annoying</td>\n",
              "      <td>Moderately satisfied</td>\n",
              "      <td>Very noticable</td>\n",
              "      <td>Moderately annoying</td>\n",
              "      <td>The examples are good</td>\n",
              "    </tr>\n",
              "    <tr>\n",
              "      <th>1</th>\n",
              "      <td>2021/11/15 4:42:21 p.m. CET</td>\n",
              "      <td>Yes</td>\n",
              "      <td>25 - 34</td>\n",
              "      <td>Male</td>\n",
              "      <td>Master's degree</td>\n",
              "      <td>Electronics</td>\n",
              "      <td>Slightly satisfied</td>\n",
              "      <td>Extremely noticable</td>\n",
              "      <td>Very annoying</td>\n",
              "      <td>Moderately satisfied</td>\n",
              "      <td>Very noticable</td>\n",
              "      <td>Moderately annoying</td>\n",
              "      <td>Slightly satisfied</td>\n",
              "      <td>Extremely noticable</td>\n",
              "      <td>Very annoying</td>\n",
              "      <td>Not at all satisfied</td>\n",
              "      <td>Extremely noticable</td>\n",
              "      <td>Extremely annoying</td>\n",
              "      <td>Very satisfied</td>\n",
              "      <td>Slightly noticable</td>\n",
              "      <td>Slightly annoying</td>\n",
              "      <td>Not at all satisfied</td>\n",
              "      <td>Extremely noticable</td>\n",
              "      <td>Extremely annoying</td>\n",
              "      <td>Not at all satisfied</td>\n",
              "      <td>Extremely noticable</td>\n",
              "      <td>Extremely annoying</td>\n",
              "      <td>Very satisfied</td>\n",
              "      <td>Slightly noticable</td>\n",
              "      <td>Slightly annoying</td>\n",
              "      <td>Slightly satisfied</td>\n",
              "      <td>Very noticable</td>\n",
              "      <td>Very annoying</td>\n",
              "      <td>Slightly satisfied</td>\n",
              "      <td>Extremely noticable</td>\n",
              "      <td>Very annoying</td>\n",
              "      <td>Slightly satisfied</td>\n",
              "      <td>Extremely noticable</td>\n",
              "      <td>Very annoying</td>\n",
              "      <td>Slightly satisfied</td>\n",
              "      <td>Extremely noticable</td>\n",
              "      <td>Very annoying</td>\n",
              "      <td>NaN</td>\n",
              "    </tr>\n",
              "    <tr>\n",
              "      <th>2</th>\n",
              "      <td>2021/11/15 5:43:32 p.m. CET</td>\n",
              "      <td>Yes</td>\n",
              "      <td>18 - 24</td>\n",
              "      <td>Male</td>\n",
              "      <td>Some higher education, no degree</td>\n",
              "      <td>Science</td>\n",
              "      <td>Moderately satisfied</td>\n",
              "      <td>Very noticable</td>\n",
              "      <td>Moderately annoying</td>\n",
              "      <td>Very satisfied</td>\n",
              "      <td>Slightly noticable</td>\n",
              "      <td>Slightly annoying</td>\n",
              "      <td>Moderately satisfied</td>\n",
              "      <td>Very noticable</td>\n",
              "      <td>Moderately annoying</td>\n",
              "      <td>Not at all satisfied</td>\n",
              "      <td>Extremely noticable</td>\n",
              "      <td>Very annoying</td>\n",
              "      <td>Completely satisfied</td>\n",
              "      <td>Not at all noticable</td>\n",
              "      <td>Not at all annoying</td>\n",
              "      <td>Not at all satisfied</td>\n",
              "      <td>Extremely noticable</td>\n",
              "      <td>Very annoying</td>\n",
              "      <td>Slightly satisfied</td>\n",
              "      <td>Extremely noticable</td>\n",
              "      <td>Moderately annoying</td>\n",
              "      <td>Very satisfied</td>\n",
              "      <td>Moderately noticable</td>\n",
              "      <td>Not at all annoying</td>\n",
              "      <td>Slightly satisfied</td>\n",
              "      <td>Extremely noticable</td>\n",
              "      <td>Moderately annoying</td>\n",
              "      <td>Moderately satisfied</td>\n",
              "      <td>Very noticable</td>\n",
              "      <td>Slightly annoying</td>\n",
              "      <td>Slightly satisfied</td>\n",
              "      <td>Very noticable</td>\n",
              "      <td>Very annoying</td>\n",
              "      <td>Slightly satisfied</td>\n",
              "      <td>Extremely noticable</td>\n",
              "      <td>Very annoying</td>\n",
              "      <td>Likte dansen</td>\n",
              "    </tr>\n",
              "    <tr>\n",
              "      <th>3</th>\n",
              "      <td>2021/11/15 7:42:10 p.m. CET</td>\n",
              "      <td>Yes</td>\n",
              "      <td>45 - 54</td>\n",
              "      <td>Male</td>\n",
              "      <td>Bachelor's degree</td>\n",
              "      <td>Oil, gass and energy</td>\n",
              "      <td>Moderately satisfied</td>\n",
              "      <td>Moderately noticable</td>\n",
              "      <td>Moderately annoying</td>\n",
              "      <td>Moderately satisfied</td>\n",
              "      <td>Moderately noticable</td>\n",
              "      <td>Moderately annoying</td>\n",
              "      <td>Slightly satisfied</td>\n",
              "      <td>Very noticable</td>\n",
              "      <td>Very annoying</td>\n",
              "      <td>Slightly satisfied</td>\n",
              "      <td>Very noticable</td>\n",
              "      <td>Very annoying</td>\n",
              "      <td>Completely satisfied</td>\n",
              "      <td>Not at all noticable</td>\n",
              "      <td>Not at all annoying</td>\n",
              "      <td>Slightly satisfied</td>\n",
              "      <td>Extremely noticable</td>\n",
              "      <td>Very annoying</td>\n",
              "      <td>Slightly satisfied</td>\n",
              "      <td>Very noticable</td>\n",
              "      <td>Very annoying</td>\n",
              "      <td>Completely satisfied</td>\n",
              "      <td>Not at all noticable</td>\n",
              "      <td>Not at all annoying</td>\n",
              "      <td>Slightly satisfied</td>\n",
              "      <td>Very noticable</td>\n",
              "      <td>Very annoying</td>\n",
              "      <td>Moderately satisfied</td>\n",
              "      <td>Very noticable</td>\n",
              "      <td>Moderately annoying</td>\n",
              "      <td>Slightly satisfied</td>\n",
              "      <td>Very noticable</td>\n",
              "      <td>Very annoying</td>\n",
              "      <td>Moderately satisfied</td>\n",
              "      <td>Very noticable</td>\n",
              "      <td>Very annoying</td>\n",
              "      <td>NaN</td>\n",
              "    </tr>\n",
              "    <tr>\n",
              "      <th>4</th>\n",
              "      <td>2021/11/15 7:43:37 p.m. CET</td>\n",
              "      <td>Yes</td>\n",
              "      <td>18 - 24</td>\n",
              "      <td>Female</td>\n",
              "      <td>High school or equivalent</td>\n",
              "      <td>NaN</td>\n",
              "      <td>Very satisfied</td>\n",
              "      <td>Moderately noticable</td>\n",
              "      <td>Slightly annoying</td>\n",
              "      <td>Completely satisfied</td>\n",
              "      <td>Slightly noticable</td>\n",
              "      <td>Not at all annoying</td>\n",
              "      <td>Moderately satisfied</td>\n",
              "      <td>Very noticable</td>\n",
              "      <td>Slightly annoying</td>\n",
              "      <td>Moderately satisfied</td>\n",
              "      <td>Very noticable</td>\n",
              "      <td>Moderately annoying</td>\n",
              "      <td>Completely satisfied</td>\n",
              "      <td>Not at all noticable</td>\n",
              "      <td>Not at all annoying</td>\n",
              "      <td>Moderately satisfied</td>\n",
              "      <td>Extremely noticable</td>\n",
              "      <td>Very annoying</td>\n",
              "      <td>Slightly satisfied</td>\n",
              "      <td>Extremely noticable</td>\n",
              "      <td>Very annoying</td>\n",
              "      <td>Completely satisfied</td>\n",
              "      <td>Not at all noticable</td>\n",
              "      <td>Not at all annoying</td>\n",
              "      <td>Very satisfied</td>\n",
              "      <td>Slightly noticable</td>\n",
              "      <td>Slightly annoying</td>\n",
              "      <td>Very satisfied</td>\n",
              "      <td>Moderately noticable</td>\n",
              "      <td>Slightly annoying</td>\n",
              "      <td>Moderately satisfied</td>\n",
              "      <td>Moderately noticable</td>\n",
              "      <td>Slightly annoying</td>\n",
              "      <td>Moderately satisfied</td>\n",
              "      <td>Moderately noticable</td>\n",
              "      <td>Slightly annoying</td>\n",
              "      <td>NaN</td>\n",
              "    </tr>\n",
              "  </tbody>\n",
              "</table>\n",
              "</div>"
            ],
            "text/plain": [
              "                      Tidsmerke  ... Do you have any additional feedback on the contents of the videos? What is your general impression? Any feedback is welcome. Du kan skrive på norsk om du vil.\n",
              "0  2021/11/15 11:15:03 a.m. CET  ...                              The examples are good                                                                                                            \n",
              "1   2021/11/15 4:42:21 p.m. CET  ...                                                NaN                                                                                                            \n",
              "2   2021/11/15 5:43:32 p.m. CET  ...                                       Likte dansen                                                                                                            \n",
              "3   2021/11/15 7:42:10 p.m. CET  ...                                                NaN                                                                                                            \n",
              "4   2021/11/15 7:43:37 p.m. CET  ...                                                NaN                                                                                                            \n",
              "\n",
              "[5 rows x 43 columns]"
            ]
          },
          "metadata": {},
          "execution_count": 24
        }
      ]
    },
    {
      "cell_type": "markdown",
      "metadata": {
        "id": "wKH0IdBcGqs5"
      },
      "source": [
        "### Demographic (pre-testing) 💁‍♂️👵🌍👧🙋‍♀️\n",
        "Lets see the demographic of the participants in the experimentation.\n",
        "\n",
        "##### Distribution of Age"
      ]
    },
    {
      "cell_type": "markdown",
      "metadata": {
        "id": "l4t5KQ5cLTwB"
      },
      "source": [
        "Here we will count the number of participants of different age ranges. \n",
        "By default, pandas sort by the highest number, but we want the ages to be shown from lowest age to highest age. That's why we are reindexing the age."
      ]
    },
    {
      "cell_type": "code",
      "metadata": {
        "colab": {
          "base_uri": "https://localhost:8080/"
        },
        "id": "mgLrsp0gG5ER",
        "outputId": "0fb13690-bd2f-42f9-f1aa-f7cd9058f3d4"
      },
      "source": [
        "age = df['How old are you?'].value_counts()\n",
        "\n",
        "age_sorted = age.reindex(['Under 18', '18 - 24', '25 - 34', '35 - 44', '45 - 54', '55 - 64', 'Older than 65'])\n",
        "\n",
        "print(age_sorted)"
      ],
      "execution_count": null,
      "outputs": [
        {
          "output_type": "stream",
          "name": "stdout",
          "text": [
            "Under 18          1\n",
            "18 - 24          17\n",
            "25 - 34          17\n",
            "35 - 44           3\n",
            "45 - 54           6\n",
            "55 - 64           9\n",
            "Older than 65     1\n",
            "Name: How old are you?, dtype: int64\n"
          ]
        }
      ]
    },
    {
      "cell_type": "markdown",
      "metadata": {
        "id": "XIhnCBNOPbnQ"
      },
      "source": [
        "We want the plot axis to be less crowded. That's why we rename some of the indices to shorten them"
      ]
    },
    {
      "cell_type": "code",
      "metadata": {
        "colab": {
          "base_uri": "https://localhost:8080/"
        },
        "id": "_UCsXlEmPcqJ",
        "outputId": "ae9b19b6-2d3e-45f2-c966-876116694fed"
      },
      "source": [
        "\n",
        "age_sorted = age_sorted.rename(index={'Under 18': '<18'}) \n",
        "age_sorted = age_sorted.rename(index={'Older than 65': '>65'}) \n",
        "\n",
        "print(age_sorted)"
      ],
      "execution_count": null,
      "outputs": [
        {
          "output_type": "stream",
          "name": "stdout",
          "text": [
            "<18         1\n",
            "18 - 24    17\n",
            "25 - 34    17\n",
            "35 - 44     3\n",
            "45 - 54     6\n",
            "55 - 64     9\n",
            ">65         1\n",
            "Name: How old are you?, dtype: int64\n"
          ]
        }
      ]
    },
    {
      "cell_type": "markdown",
      "metadata": {
        "id": "raHLf-tRPsjs"
      },
      "source": [
        "Now we can plot the ages"
      ]
    },
    {
      "cell_type": "code",
      "metadata": {
        "colab": {
          "base_uri": "https://localhost:8080/",
          "height": 295
        },
        "id": "7flSdNhLPSx5",
        "outputId": "01d9cbb4-d411-4085-d792-46e64422ba8e"
      },
      "source": [
        "age_plot = age_sorted.plot(kind=\"bar\", title=\"Age Distribution\", ylabel=\"Number of participants\", xlabel=\"Age\", rot=0)\n"
      ],
      "execution_count": null,
      "outputs": [
        {
          "output_type": "display_data",
          "data": {
            "image/png": "[encoded data removed]",
            "text/plain": [
              "<Figure size 432x288 with 1 Axes>"
            ]
          },
          "metadata": {
            "needs_background": "light"
          }
        }
      ]
    },
    {
      "cell_type": "markdown",
      "metadata": {
        "id": "5ittwbxZPv5e"
      },
      "source": [
        "And save the figure"
      ]
    },
    {
      "cell_type": "code",
      "metadata": {
        "id": "UdSNo546PUL3"
      },
      "source": [
        "age_plot.figure.savefig('age_plot.pdf')"
      ],
      "execution_count": null,
      "outputs": []
    },
    {
      "cell_type": "markdown",
      "metadata": {
        "id": "4q-J6kagQdyE"
      },
      "source": [
        "##### Distribution of gender"
      ]
    },
    {
      "cell_type": "code",
      "metadata": {
        "colab": {
          "base_uri": "https://localhost:8080/"
        },
        "id": "V0Ztx5awQeXD",
        "outputId": "9518e0a4-6876-4b16-d212-8d8ce34aa995"
      },
      "source": [
        "gender = df['Gender'].value_counts()\n",
        "\n",
        "print(gender)\n",
        "\n"
      ],
      "execution_count": null,
      "outputs": [
        {
          "output_type": "stream",
          "name": "stdout",
          "text": [
            "Male      29\n",
            "Female    25\n",
            "Name: Gender, dtype: int64\n"
          ]
        }
      ]
    },
    {
      "cell_type": "code",
      "metadata": {
        "colab": {
          "base_uri": "https://localhost:8080/",
          "height": 295
        },
        "id": "06tB3mj_UfRN",
        "outputId": "79617533-3b97-404b-e4bd-093840dadfd6"
      },
      "source": [
        "gender_plot = gender.plot(kind=\"bar\", title=\"Gender Distribution\", ylabel=\"Number of participants\", xlabel=\"Gender\", rot=0, x=\"Gender\", y=\"Number of participants\")\n",
        "gender_plot.locator_params(nbins=20, axis='y')"
      ],
      "execution_count": null,
      "outputs": [
        {
          "output_type": "display_data",
          "data": {
            "image/png": "[encoded data removed]",
            "text/plain": [
              "<Figure size 432x288 with 1 Axes>"
            ]
          },
          "metadata": {
            "needs_background": "light"
          }
        }
      ]
    },
    {
      "cell_type": "code",
      "metadata": {
        "id": "2svAOKyTUhwj"
      },
      "source": [
        "gender_plot.figure.savefig('gender_plot.pdf')"
      ],
      "execution_count": null,
      "outputs": []
    },
    {
      "cell_type": "markdown",
      "metadata": {
        "id": "1CUQOs24VK91"
      },
      "source": [
        "##### Distribution of education and work"
      ]
    },
    {
      "cell_type": "code",
      "metadata": {
        "colab": {
          "base_uri": "https://localhost:8080/"
        },
        "id": "Ukqp2ZcGVd_r",
        "outputId": "7d7ad470-3295-49dd-f3a0-54bb45daba60"
      },
      "source": [
        "education = df['Education'].value_counts()\n",
        "\n",
        "print(education)"
      ],
      "execution_count": null,
      "outputs": [
        {
          "output_type": "stream",
          "name": "stdout",
          "text": [
            "Master's degree                     19\n",
            "Bachelor's degree                   17\n",
            "Some higher education, no degree    10\n",
            "High school or equivalent            4\n",
            "Two year-degree                      2\n",
            "Primary school                       1\n",
            "Higher than master's degree          1\n",
            "Name: Education, dtype: int64\n"
          ]
        }
      ]
    },
    {
      "cell_type": "code",
      "metadata": {
        "colab": {
          "base_uri": "https://localhost:8080/",
          "height": 264
        },
        "id": "uT92HWa7WcU0",
        "outputId": "cc1a1268-5d9e-4edf-eafd-a219ae18b82c"
      },
      "source": [
        "education_plot = education.plot(kind=\"pie\", title=\"Education Distribution\", ylabel=\"\")\n",
        "\n",
        "education_plot.figure.savefig('education.pdf')"
      ],
      "execution_count": null,
      "outputs": [
        {
          "output_type": "display_data",
          "data": {
            "image/png": "[encoded data removed]",
            "text/plain": [
              "<Figure size 432x288 with 1 Axes>"
            ]
          },
          "metadata": {}
        }
      ]
    },
    {
      "cell_type": "code",
      "metadata": {
        "colab": {
          "base_uri": "https://localhost:8080/"
        },
        "id": "FSYCvqq-WB4x",
        "outputId": "1cb19139-4235-4705-a3b1-72121cf19ee1"
      },
      "source": [
        "occupation = df[\"What is your occupation? If you are a student, please state the category most fitting to your study. Don't answer if you're not working.\"].value_counts()\n",
        "\n",
        "print(occupation)"
      ],
      "execution_count": null,
      "outputs": [
        {
          "output_type": "stream",
          "name": "stdout",
          "text": [
            "Electronics                  10\n",
            "IT and computers              7\n",
            "Health                        6\n",
            "Pedagogy                      4\n",
            "Oil, gass and energy          4\n",
            "Design                        2\n",
            "Shipping                      2\n",
            "Technology                    2\n",
            "Industry                      2\n",
            "Children                      2\n",
            "Economics                     2\n",
            "Sales and service             2\n",
            "Office and administration     1\n",
            "History                       1\n",
            "Construction                  1\n",
            "Science                       1\n",
            "People                        1\n",
            "Climate and environment       1\n",
            "Aviation                      1\n",
            "Fishing and aquaculture       1\n",
            "Name: What is your occupation? If you are a student, please state the category most fitting to your study. Don't answer if you're not working., dtype: int64\n"
          ]
        }
      ]
    },
    {
      "cell_type": "code",
      "metadata": {
        "colab": {
          "base_uri": "https://localhost:8080/",
          "height": 264
        },
        "id": "SgVejsyzWufq",
        "outputId": "f44ca5b2-fa4f-4144-c545-de95a99c9053"
      },
      "source": [
        "occupation_plot = occupation.plot(kind=\"pie\", title=\"Occupation Distribution\", ylabel=\"\", xlabel=\"\")\n",
        "#autopct='%1.1f%%' if you want to add percentage to the pie chart, add this to the plot()\n",
        "\n",
        "occupation_plot.figure.savefig('occupations.pdf')\n"
      ],
      "execution_count": null,
      "outputs": [
        {
          "output_type": "display_data",
          "data": {
            "image/png": "[encoded data removed]",
            "text/plain": [
              "<Figure size 432x288 with 1 Axes>"
            ]
          },
          "metadata": {}
        }
      ]
    },
    {
      "cell_type": "markdown",
      "metadata": {
        "id": "Mbv4V6U9XuSh"
      },
      "source": [
        "## Video rating 🧐🤯🤔\n",
        "\n",
        "Lets now take a look on the questionnaire answers for the rating of the videos.\n",
        "\n",
        "#### Making answers numerical 🔢\n",
        "A small problem with the original answers, is that the answers has text answers. This was to make it easier for the participants to answer the questionnaire. But, to make it easier to analyze the , we'll have to convert the data to numerical values\n",
        "\n",
        "| Number | Question 1           | Question 2           | Question 3          |\n",
        "|--------|----------------------|----------------------|---------------------|\n",
        "| 1      | Completely satisfied | Extremely noticeable | Extremely annoying  |\n",
        "| 2      | Very satisfied       | Very noticeable      | Very annoying       |\n",
        "| 3      | Moderately satisfied | Moderately noticeable| Moderately annoying |\n",
        "| 4      | Slightly satisfied   | Slightly noticeable  | Slightly annoying   |\n",
        "| 5      | Not at all satisfied | Not at all noticeable| Not at all annoying |\n",
        "\n",
        "\n",
        "We will export this to a new CSV file with numerical values, to not ruin the original CSV file"
      ]
    },
    {
      "cell_type": "code",
      "metadata": {
        "id": "dVTcByjeOEuS"
      },
      "source": [
        "# Converting the text answers from Question 1 to numbers\n",
        "df.replace(to_replace=\"Completely satisfied\", value=5, inplace=True)\n",
        "df.replace(to_replace=\"Very satisfied\", value=4, inplace=True)\n",
        "df.replace(to_replace=\"Moderately satisfied\", value=3, inplace=True)\n",
        "df.replace(to_replace=\"Slightly satisfied\", value=2, inplace=True)\n",
        "df.replace(to_replace=\"Not at all satisfied\", value=1, inplace=True)\n",
        "\n",
        "# Converting the text answers from Question 2 to numbers\n",
        "# BTW the questionnaire has a writing error in it. Noticeable have been written noticable\n",
        "df.replace(to_replace=\"Extremely noticable\", value=5, inplace=True)\n",
        "df.replace(to_replace=\"Very noticable\", value=4, inplace=True)\n",
        "df.replace(to_replace=\"Moderately noticable\", value=3, inplace=True)\n",
        "df.replace(to_replace=\"Slightly noticable\", value=2, inplace=True)\n",
        "df.replace(to_replace=\"Not at all noticable\", value=1, inplace=True)\n",
        "\n",
        "# Converting the text answers from Question 3 to numbers\n",
        "# BTW the questionnaire has a writing error in it. Noticeable have been written noticable\n",
        "df.replace(to_replace=\"Extremely annoying\", value=5, inplace=True)\n",
        "df.replace(to_replace=\"Very annoying\", value=4, inplace=True)\n",
        "df.replace(to_replace=\"Moderately annoying\", value=3, inplace=True)\n",
        "df.replace(to_replace=\"Slightly annoying\", value=2, inplace=True)\n",
        "df.replace(to_replace=\"Not at all annoying\", value=1, inplace=True)\n",
        "\n",
        "\n",
        "# Exporting to a new numerical csv file\n",
        "df.to_csv('questionnaire_numerical.csv', index=False)"
      ],
      "execution_count": null,
      "outputs": []
    },
    {
      "cell_type": "markdown",
      "metadata": {
        "id": "YEJ-IjooPSo2"
      },
      "source": [
        "Let's make a new DataFrame with the numerical CSV sheet"
      ]
    },
    {
      "cell_type": "code",
      "metadata": {
        "id": "KS7VsLOcPZFF"
      },
      "source": [
        "df_num = pd.read_csv('questionnaire_numerical.csv')"
      ],
      "execution_count": null,
      "outputs": []
    },
    {
      "cell_type": "code",
      "metadata": {
        "colab": {
          "base_uri": "https://localhost:8080/",
          "height": 298
        },
        "id": "MpVitek4QRUE",
        "outputId": "76a0de1d-bd18-47ad-a12e-0a6890cb3396"
      },
      "source": [
        "df_num.plot(kind=\"bar\", title=\"Rating Numerical\", ylabel=\"Rating\", rot=0, legend=False)"
      ],
      "execution_count": null,
      "outputs": [
        {
          "output_type": "execute_result",
          "data": {
            "text/plain": [
              "<matplotlib.axes._subplots.AxesSubplot at 0x7fcc15f98d10>"
            ]
          },
          "metadata": {},
          "execution_count": 38
        },
        {
          "output_type": "display_data",
          "data": {
            "image/png": "[encoded data removed]",
            "text/plain": [
              "<Figure size 432x288 with 1 Axes>"
            ]
          },
          "metadata": {
            "needs_background": "light"
          }
        }
      ]
    },
    {
      "cell_type": "markdown",
      "metadata": {
        "id": "P-dWMONBxlXr"
      },
      "source": [
        "### Analysis\n",
        "We will now plot all of the questions to each video"
      ]
    },
    {
      "cell_type": "markdown",
      "metadata": {
        "id": "s43Epj0siyW-"
      },
      "source": [
        "We import numpy to easier manipulate the dataframes to be able to retrieve the coloumns in our dataframe to get the corresponding questions for the videos\n",
        "\n",
        "---\n",
        "\n"
      ]
    },
    {
      "cell_type": "code",
      "metadata": {
        "id": "RLwdLvXsRt8T"
      },
      "source": [
        "import numpy as np"
      ],
      "execution_count": null,
      "outputs": []
    },
    {
      "cell_type": "markdown",
      "metadata": {
        "id": "9vP8VQOhjUPy"
      },
      "source": [
        "We also need to remember that the videos were randomized in the Google Forms sheet. This table shows the order in the questionnaire\n",
        "\n",
        "|               |         |         |         |         |         |        |       |         |         |         |         |         |\n",
        "|---------------|---------|---------|---------|---------|---------|--------|-------|---------|---------|---------|---------|---------|\n",
        "| Original List | 1       | 2       | 3       | 4       | 5       | 6      | 7     | 8       | 9       | 10      | 11      | 12      |\n",
        "| Shuffled List | 10      | 9       | 3       | 7       | 6       | 2      | 1     | 12      | 8       | 4       | 11      | 5       |\n",
        "| Coloumn Range | [33:36] | [30:33] | [12:15] | [24:27] | [21:24] | [9:12] | [6:9] | [39:42] | [27:30] | [15:18] | [36:39] | [18:21] |\n",
        "\n",
        "\n",
        "The next code block creates an arranged version of our dataframe."
      ]
    },
    {
      "cell_type": "code",
      "metadata": {
        "id": "4IER4I6iHyd7"
      },
      "source": [
        "df_arranged = df.iloc[:,np.r_[33:36,30:33,12:15,24:27,21:24,9:12,6:9,39:42,27:30,15:18,36:39,18:21]]\n",
        "#display(df_arranged)"
      ],
      "execution_count": null,
      "outputs": []
    },
    {
      "cell_type": "markdown",
      "metadata": {
        "id": "Ub4m4X1ot_iF"
      },
      "source": [
        "We will make the folder where our objective plots will be placed"
      ]
    },
    {
      "cell_type": "code",
      "metadata": {
        "id": "ocFrwIpGuDgc"
      },
      "source": [
        "import os\n",
        "\n",
        "if not os.path.exists('rating'):\n",
        "  os.mkdir('rating')"
      ],
      "execution_count": null,
      "outputs": []
    },
    {
      "cell_type": "markdown",
      "metadata": {
        "id": "1IF1nPMri2F0"
      },
      "source": [
        "Let's make a function which will be able to plot our selected questions from the dataset by defining which ranges of coloums we want to have plotted. The video index parameter let us set the video title index of the plot."
      ]
    },
    {
      "cell_type": "code",
      "metadata": {
        "id": "Zv70kqUmfrBx"
      },
      "source": [
        "def plot_videoQ(coloumn_start, coloumn_end, video_index):\n",
        "  xlabels = []\n",
        "\n",
        "  for i in range(1, 4):\n",
        "    xlabels.append(\"Q\"+str(i))\n",
        "  \n",
        "  video = df_num.iloc[:, coloumn_start:coloumn_end]\n",
        "  video_trans_mean = video.transpose().mean(axis=1)\n",
        "\n",
        "  print(list(video.columns.values))\n",
        "\n",
        "  plt = video_trans_mean.plot(kind=\"bar\", yerr=std_dev(coloumn_start, coloumn_end)) \n",
        "\n",
        "  plt.set_title(\"Mean scores from video \" + str(video_index))\n",
        "  plt.set_xlabel(\"Questions\")\n",
        "  plt.set_ylabel(\"Score\")\n",
        "  plt.set_ylim(0, 5)\n",
        "  plt.set_xticklabels( xlabels, rotation=0 )\n",
        "\n",
        "  plot = plt.figure\n",
        "  plot.savefig('rating/video_'+str(video_index)+'.pdf')\n",
        "  \n",
        "  plot.show()\n",
        "  return True\n"
      ],
      "execution_count": null,
      "outputs": []
    },
    {
      "cell_type": "markdown",
      "metadata": {
        "id": "dcAm9cpquRZQ"
      },
      "source": [
        "We also need to know the standard deviation for our answers to see the spread in them."
      ]
    },
    {
      "cell_type": "code",
      "metadata": {
        "id": "DNLynqawuVlY"
      },
      "source": [
        "def std_dev(coloumn_start, coloumn_end):\n",
        "  std = df_num.iloc[:, coloumn_start:coloumn_end].std()\n",
        "\n",
        "  return std"
      ],
      "execution_count": null,
      "outputs": []
    },
    {
      "cell_type": "code",
      "metadata": {
        "id": "moskoYif0zWE"
      },
      "source": [
        "def rating_stats(coloumn_start, coloumn_end):\n",
        "  video = df_num.iloc[:, coloumn_start:coloumn_end]\n",
        "  video_trans_mean = video.transpose().mean(axis=1)\n",
        "\n",
        "  stats_series = video_trans_mean.rename(\"Mean\")\n",
        "\n",
        "  stats_series_percentage = stats_series.iloc[:]/5*100\n",
        "  percentage = stats_series_percentage.rename(\"Percentage of 5\")\n",
        "\n",
        "  standard_deviation_series = std_dev(coloumn_start, coloumn_end)\n",
        "  standard_dev = standard_deviation_series.rename(\"Standard Deviation\")\n",
        "\n",
        "  stats = pd.concat([stats_series, percentage, standard_dev], axis=1)\n",
        "  \n",
        "  return display(stats)"
      ],
      "execution_count": null,
      "outputs": []
    },
    {
      "cell_type": "code",
      "metadata": {
        "id": "N0xtC523uqAc"
      },
      "source": [
        "def analysis(coloumn_start, coloumn_end, video_index):\n",
        "  std_dev(coloumn_start, coloumn_end)\n",
        "  plot_videoQ(coloumn_start, coloumn_end, video_index)\n",
        "  #print(rating_stats(coloumn_start, coloumn_end))\n",
        "  rating_stats(coloumn_start, coloumn_end)\n",
        "\n",
        "  return True"
      ],
      "execution_count": null,
      "outputs": []
    },
    {
      "cell_type": "markdown",
      "metadata": {
        "id": "8ErC1edcqIlO"
      },
      "source": [
        "#### Analysis of video 1\n",
        "The questions for video 1 is in coloumn 33, 34 and 35"
      ]
    },
    {
      "cell_type": "code",
      "metadata": {
        "colab": {
          "base_uri": "https://localhost:8080/",
          "height": 476
        },
        "id": "X1Y5WbNUqO6U",
        "outputId": "d45b79f2-74f0-4d5e-e98b-cefc7f4c7b26"
      },
      "source": [
        "analysis(33, 36, 1)"
      ],
      "execution_count": null,
      "outputs": [
        {
          "output_type": "stream",
          "name": "stdout",
          "text": [
            "['How satisfied are you with the quality of the silhouette extraction?.9', 'Did you notice any artefacts with the silhouette extraction?.9', 'Do you think the artefacts were annoying?.9']\n"
          ]
        },
        {
          "output_type": "display_data",
          "data": {
            "text/html": [
              "<div>\n",
              "<style scoped>\n",
              "    .dataframe tbody tr th:only-of-type {\n",
              "        vertical-align: middle;\n",
              "    }\n",
              "\n",
              "    .dataframe tbody tr th {\n",
              "        vertical-align: top;\n",
              "    }\n",
              "\n",
              "    .dataframe thead th {\n",
              "        text-align: right;\n",
              "    }\n",
              "</style>\n",
              "<table border=\"1\" class=\"dataframe\">\n",
              "  <thead>\n",
              "    <tr style=\"text-align: right;\">\n",
              "      <th></th>\n",
              "      <th>Mean</th>\n",
              "      <th>Percentage of 5</th>\n",
              "      <th>Standard Deviation</th>\n",
              "    </tr>\n",
              "  </thead>\n",
              "  <tbody>\n",
              "    <tr>\n",
              "      <th>How satisfied are you with the quality of the silhouette extraction?.9</th>\n",
              "      <td>2.759259</td>\n",
              "      <td>55.185185</td>\n",
              "      <td>0.775453</td>\n",
              "    </tr>\n",
              "    <tr>\n",
              "      <th>Did you notice any artefacts with the silhouette extraction?.9</th>\n",
              "      <td>3.444444</td>\n",
              "      <td>68.888889</td>\n",
              "      <td>0.839287</td>\n",
              "    </tr>\n",
              "    <tr>\n",
              "      <th>Do you think the artefacts were annoying?.9</th>\n",
              "      <td>3.055556</td>\n",
              "      <td>61.111111</td>\n",
              "      <td>0.919735</td>\n",
              "    </tr>\n",
              "  </tbody>\n",
              "</table>\n",
              "</div>"
            ],
            "text/plain": [
              "                                                        Mean  ...  Standard Deviation\n",
              "How satisfied are you with the quality of the s...  2.759259  ...            0.775453\n",
              "Did you notice any artefacts with the silhouett...  3.444444  ...            0.839287\n",
              "Do you think the artefacts were annoying?.9         3.055556  ...            0.919735\n",
              "\n",
              "[3 rows x 3 columns]"
            ]
          },
          "metadata": {}
        },
        {
          "output_type": "execute_result",
          "data": {
            "text/plain": [
              "True"
            ]
          },
          "metadata": {},
          "execution_count": 46
        },
        {
          "output_type": "display_data",
          "data": {
            "image/png": "[encoded data removed]",
            "text/plain": [
              "<Figure size 432x288 with 1 Axes>"
            ]
          },
          "metadata": {
            "needs_background": "light"
          }
        }
      ]
    },
    {
      "cell_type": "markdown",
      "metadata": {
        "id": "IXeVeMtfq6fL"
      },
      "source": [
        "#### Analysis of video 2\n",
        "The questions for video 2 is in coloumn 30, 31 and 32"
      ]
    },
    {
      "cell_type": "code",
      "metadata": {
        "colab": {
          "base_uri": "https://localhost:8080/",
          "height": 476
        },
        "id": "DRmxDs1brFeJ",
        "outputId": "8b66b6a3-8fa8-42fe-b99c-520f95a7bcfa"
      },
      "source": [
        "analysis(30, 33, 2)"
      ],
      "execution_count": null,
      "outputs": [
        {
          "output_type": "stream",
          "name": "stdout",
          "text": [
            "['How satisfied are you with the quality of the silhouette extraction?.8', 'Did you notice any artefacts with the silhouette extraction?.8', 'Do you think the artefacts were annoying?.8']\n"
          ]
        },
        {
          "output_type": "display_data",
          "data": {
            "text/html": [
              "<div>\n",
              "<style scoped>\n",
              "    .dataframe tbody tr th:only-of-type {\n",
              "        vertical-align: middle;\n",
              "    }\n",
              "\n",
              "    .dataframe tbody tr th {\n",
              "        vertical-align: top;\n",
              "    }\n",
              "\n",
              "    .dataframe thead th {\n",
              "        text-align: right;\n",
              "    }\n",
              "</style>\n",
              "<table border=\"1\" class=\"dataframe\">\n",
              "  <thead>\n",
              "    <tr style=\"text-align: right;\">\n",
              "      <th></th>\n",
              "      <th>Mean</th>\n",
              "      <th>Percentage of 5</th>\n",
              "      <th>Standard Deviation</th>\n",
              "    </tr>\n",
              "  </thead>\n",
              "  <tbody>\n",
              "    <tr>\n",
              "      <th>How satisfied are you with the quality of the silhouette extraction?.8</th>\n",
              "      <td>2.592593</td>\n",
              "      <td>51.851852</td>\n",
              "      <td>0.789519</td>\n",
              "    </tr>\n",
              "    <tr>\n",
              "      <th>Did you notice any artefacts with the silhouette extraction?.8</th>\n",
              "      <td>3.574074</td>\n",
              "      <td>71.481481</td>\n",
              "      <td>0.716434</td>\n",
              "    </tr>\n",
              "    <tr>\n",
              "      <th>Do you think the artefacts were annoying?.8</th>\n",
              "      <td>2.981481</td>\n",
              "      <td>59.629630</td>\n",
              "      <td>0.835323</td>\n",
              "    </tr>\n",
              "  </tbody>\n",
              "</table>\n",
              "</div>"
            ],
            "text/plain": [
              "                                                        Mean  ...  Standard Deviation\n",
              "How satisfied are you with the quality of the s...  2.592593  ...            0.789519\n",
              "Did you notice any artefacts with the silhouett...  3.574074  ...            0.716434\n",
              "Do you think the artefacts were annoying?.8         2.981481  ...            0.835323\n",
              "\n",
              "[3 rows x 3 columns]"
            ]
          },
          "metadata": {}
        },
        {
          "output_type": "execute_result",
          "data": {
            "text/plain": [
              "True"
            ]
          },
          "metadata": {},
          "execution_count": 47
        },
        {
          "output_type": "display_data",
          "data": {
            "image/png": "[encoded data removed]",
            "text/plain": [
              "<Figure size 432x288 with 1 Axes>"
            ]
          },
          "metadata": {
            "needs_background": "light"
          }
        }
      ]
    },
    {
      "cell_type": "markdown",
      "metadata": {
        "id": "-GKiHZOcrLgc"
      },
      "source": [
        "#### Analysis of video 3\n",
        "The questions for video 3 is in coloumn 12, 13 and 14"
      ]
    },
    {
      "cell_type": "code",
      "metadata": {
        "colab": {
          "base_uri": "https://localhost:8080/",
          "height": 476
        },
        "id": "KBkYKqxgrPxz",
        "outputId": "141f651f-c130-4479-af24-81b99f2ebbb0"
      },
      "source": [
        "analysis(12, 15, 3)"
      ],
      "execution_count": null,
      "outputs": [
        {
          "output_type": "stream",
          "name": "stdout",
          "text": [
            "['How satisfied are you with the quality of the silhouette extraction?.2', 'Did you notice any artefacts with the silhouette extraction?.2', 'Do you think the artefacts were annoying?.2']\n"
          ]
        },
        {
          "output_type": "display_data",
          "data": {
            "text/html": [
              "<div>\n",
              "<style scoped>\n",
              "    .dataframe tbody tr th:only-of-type {\n",
              "        vertical-align: middle;\n",
              "    }\n",
              "\n",
              "    .dataframe tbody tr th {\n",
              "        vertical-align: top;\n",
              "    }\n",
              "\n",
              "    .dataframe thead th {\n",
              "        text-align: right;\n",
              "    }\n",
              "</style>\n",
              "<table border=\"1\" class=\"dataframe\">\n",
              "  <thead>\n",
              "    <tr style=\"text-align: right;\">\n",
              "      <th></th>\n",
              "      <th>Mean</th>\n",
              "      <th>Percentage of 5</th>\n",
              "      <th>Standard Deviation</th>\n",
              "    </tr>\n",
              "  </thead>\n",
              "  <tbody>\n",
              "    <tr>\n",
              "      <th>How satisfied are you with the quality of the silhouette extraction?.2</th>\n",
              "      <td>2.870370</td>\n",
              "      <td>57.407407</td>\n",
              "      <td>0.847778</td>\n",
              "    </tr>\n",
              "    <tr>\n",
              "      <th>Did you notice any artefacts with the silhouette extraction?.2</th>\n",
              "      <td>3.407407</td>\n",
              "      <td>68.148148</td>\n",
              "      <td>0.921822</td>\n",
              "    </tr>\n",
              "    <tr>\n",
              "      <th>Do you think the artefacts were annoying?.2</th>\n",
              "      <td>2.925926</td>\n",
              "      <td>58.518519</td>\n",
              "      <td>0.928619</td>\n",
              "    </tr>\n",
              "  </tbody>\n",
              "</table>\n",
              "</div>"
            ],
            "text/plain": [
              "                                                        Mean  ...  Standard Deviation\n",
              "How satisfied are you with the quality of the s...  2.870370  ...            0.847778\n",
              "Did you notice any artefacts with the silhouett...  3.407407  ...            0.921822\n",
              "Do you think the artefacts were annoying?.2         2.925926  ...            0.928619\n",
              "\n",
              "[3 rows x 3 columns]"
            ]
          },
          "metadata": {}
        },
        {
          "output_type": "execute_result",
          "data": {
            "text/plain": [
              "True"
            ]
          },
          "metadata": {},
          "execution_count": 48
        },
        {
          "output_type": "display_data",
          "data": {
            "image/png": "[encoded data removed]",
            "text/plain": [
              "<Figure size 432x288 with 1 Axes>"
            ]
          },
          "metadata": {
            "needs_background": "light"
          }
        }
      ]
    },
    {
      "cell_type": "markdown",
      "metadata": {
        "id": "e8c3cQq8rq9p"
      },
      "source": [
        "#### Analysis of video 4\n",
        "The questions for video 4 is in coloumn 24, 25 and 26"
      ]
    },
    {
      "cell_type": "code",
      "metadata": {
        "colab": {
          "base_uri": "https://localhost:8080/",
          "height": 476
        },
        "id": "iVrb0C_mrx1T",
        "outputId": "0f598a03-ce97-4151-c989-74701d460d9c"
      },
      "source": [
        "analysis(24, 27, 4)"
      ],
      "execution_count": null,
      "outputs": [
        {
          "output_type": "stream",
          "name": "stdout",
          "text": [
            "['How satisfied are you with the quality of the silhouette extraction?.6', 'Did you notice any artefacts with the silhouette extraction?.6', 'Do you think the artefacts were annoying?.6']\n"
          ]
        },
        {
          "output_type": "display_data",
          "data": {
            "text/html": [
              "<div>\n",
              "<style scoped>\n",
              "    .dataframe tbody tr th:only-of-type {\n",
              "        vertical-align: middle;\n",
              "    }\n",
              "\n",
              "    .dataframe tbody tr th {\n",
              "        vertical-align: top;\n",
              "    }\n",
              "\n",
              "    .dataframe thead th {\n",
              "        text-align: right;\n",
              "    }\n",
              "</style>\n",
              "<table border=\"1\" class=\"dataframe\">\n",
              "  <thead>\n",
              "    <tr style=\"text-align: right;\">\n",
              "      <th></th>\n",
              "      <th>Mean</th>\n",
              "      <th>Percentage of 5</th>\n",
              "      <th>Standard Deviation</th>\n",
              "    </tr>\n",
              "  </thead>\n",
              "  <tbody>\n",
              "    <tr>\n",
              "      <th>How satisfied are you with the quality of the silhouette extraction?.6</th>\n",
              "      <td>1.685185</td>\n",
              "      <td>33.703704</td>\n",
              "      <td>0.796788</td>\n",
              "    </tr>\n",
              "    <tr>\n",
              "      <th>Did you notice any artefacts with the silhouette extraction?.6</th>\n",
              "      <td>4.444444</td>\n",
              "      <td>88.888889</td>\n",
              "      <td>0.743948</td>\n",
              "    </tr>\n",
              "    <tr>\n",
              "      <th>Do you think the artefacts were annoying?.6</th>\n",
              "      <td>3.981481</td>\n",
              "      <td>79.629630</td>\n",
              "      <td>0.980773</td>\n",
              "    </tr>\n",
              "  </tbody>\n",
              "</table>\n",
              "</div>"
            ],
            "text/plain": [
              "                                                        Mean  ...  Standard Deviation\n",
              "How satisfied are you with the quality of the s...  1.685185  ...            0.796788\n",
              "Did you notice any artefacts with the silhouett...  4.444444  ...            0.743948\n",
              "Do you think the artefacts were annoying?.6         3.981481  ...            0.980773\n",
              "\n",
              "[3 rows x 3 columns]"
            ]
          },
          "metadata": {}
        },
        {
          "output_type": "execute_result",
          "data": {
            "text/plain": [
              "True"
            ]
          },
          "metadata": {},
          "execution_count": 49
        },
        {
          "output_type": "display_data",
          "data": {
            "image/png": "[encoded data removed]",
            "text/plain": [
              "<Figure size 432x288 with 1 Axes>"
            ]
          },
          "metadata": {
            "needs_background": "light"
          }
        }
      ]
    },
    {
      "cell_type": "markdown",
      "metadata": {
        "id": "8moKtB9ar8Av"
      },
      "source": [
        "#### Analysis of video 5\n",
        "The questions for video 5 is in coloumn 21, 22 and 23"
      ]
    },
    {
      "cell_type": "code",
      "metadata": {
        "colab": {
          "base_uri": "https://localhost:8080/",
          "height": 476
        },
        "id": "bZd3x_5dsAW8",
        "outputId": "0e5ed58d-1abf-4858-c482-8d58f9d902f5"
      },
      "source": [
        "analysis(21, 24, 5)"
      ],
      "execution_count": null,
      "outputs": [
        {
          "output_type": "stream",
          "name": "stdout",
          "text": [
            "['How satisfied are you with the quality of the silhouette extraction?.5', 'Did you notice any artefacts with the silhouette extraction?.5', 'Do you think the artefacts were annoying?.5']\n"
          ]
        },
        {
          "output_type": "display_data",
          "data": {
            "text/html": [
              "<div>\n",
              "<style scoped>\n",
              "    .dataframe tbody tr th:only-of-type {\n",
              "        vertical-align: middle;\n",
              "    }\n",
              "\n",
              "    .dataframe tbody tr th {\n",
              "        vertical-align: top;\n",
              "    }\n",
              "\n",
              "    .dataframe thead th {\n",
              "        text-align: right;\n",
              "    }\n",
              "</style>\n",
              "<table border=\"1\" class=\"dataframe\">\n",
              "  <thead>\n",
              "    <tr style=\"text-align: right;\">\n",
              "      <th></th>\n",
              "      <th>Mean</th>\n",
              "      <th>Percentage of 5</th>\n",
              "      <th>Standard Deviation</th>\n",
              "    </tr>\n",
              "  </thead>\n",
              "  <tbody>\n",
              "    <tr>\n",
              "      <th>How satisfied are you with the quality of the silhouette extraction?.5</th>\n",
              "      <td>1.685185</td>\n",
              "      <td>33.703704</td>\n",
              "      <td>0.772745</td>\n",
              "    </tr>\n",
              "    <tr>\n",
              "      <th>Did you notice any artefacts with the silhouette extraction?.5</th>\n",
              "      <td>4.574074</td>\n",
              "      <td>91.481481</td>\n",
              "      <td>0.569735</td>\n",
              "    </tr>\n",
              "    <tr>\n",
              "      <th>Do you think the artefacts were annoying?.5</th>\n",
              "      <td>4.113208</td>\n",
              "      <td>82.264151</td>\n",
              "      <td>0.776094</td>\n",
              "    </tr>\n",
              "  </tbody>\n",
              "</table>\n",
              "</div>"
            ],
            "text/plain": [
              "                                                        Mean  ...  Standard Deviation\n",
              "How satisfied are you with the quality of the s...  1.685185  ...            0.772745\n",
              "Did you notice any artefacts with the silhouett...  4.574074  ...            0.569735\n",
              "Do you think the artefacts were annoying?.5         4.113208  ...            0.776094\n",
              "\n",
              "[3 rows x 3 columns]"
            ]
          },
          "metadata": {}
        },
        {
          "output_type": "execute_result",
          "data": {
            "text/plain": [
              "True"
            ]
          },
          "metadata": {},
          "execution_count": 50
        },
        {
          "output_type": "display_data",
          "data": {
            "image/png": "[encoded data removed]",
            "text/plain": [
              "<Figure size 432x288 with 1 Axes>"
            ]
          },
          "metadata": {
            "needs_background": "light"
          }
        }
      ]
    },
    {
      "cell_type": "markdown",
      "metadata": {
        "id": "y4854cgEsHRF"
      },
      "source": [
        "#### Analysis of video 6\n",
        "The questions for video 6 is in coloumn 9, 10 and 11"
      ]
    },
    {
      "cell_type": "code",
      "metadata": {
        "colab": {
          "base_uri": "https://localhost:8080/",
          "height": 476
        },
        "id": "VEpgY1vIsTPb",
        "outputId": "fbe70705-1a22-443d-a0df-eafcd51cbebe"
      },
      "source": [
        "analysis(9, 12, 6)"
      ],
      "execution_count": null,
      "outputs": [
        {
          "output_type": "stream",
          "name": "stdout",
          "text": [
            "['How satisfied are you with the quality of the silhouette extraction?.1', 'Did you notice any artefacts with the silhouette extraction?.1', 'Do you think the artefacts were annoying?.1']\n"
          ]
        },
        {
          "output_type": "display_data",
          "data": {
            "text/html": [
              "<div>\n",
              "<style scoped>\n",
              "    .dataframe tbody tr th:only-of-type {\n",
              "        vertical-align: middle;\n",
              "    }\n",
              "\n",
              "    .dataframe tbody tr th {\n",
              "        vertical-align: top;\n",
              "    }\n",
              "\n",
              "    .dataframe thead th {\n",
              "        text-align: right;\n",
              "    }\n",
              "</style>\n",
              "<table border=\"1\" class=\"dataframe\">\n",
              "  <thead>\n",
              "    <tr style=\"text-align: right;\">\n",
              "      <th></th>\n",
              "      <th>Mean</th>\n",
              "      <th>Percentage of 5</th>\n",
              "      <th>Standard Deviation</th>\n",
              "    </tr>\n",
              "  </thead>\n",
              "  <tbody>\n",
              "    <tr>\n",
              "      <th>How satisfied are you with the quality of the silhouette extraction?.1</th>\n",
              "      <td>3.814815</td>\n",
              "      <td>76.296296</td>\n",
              "      <td>0.778825</td>\n",
              "    </tr>\n",
              "    <tr>\n",
              "      <th>Did you notice any artefacts with the silhouette extraction?.1</th>\n",
              "      <td>2.314815</td>\n",
              "      <td>46.296296</td>\n",
              "      <td>0.842818</td>\n",
              "    </tr>\n",
              "    <tr>\n",
              "      <th>Do you think the artefacts were annoying?.1</th>\n",
              "      <td>1.796296</td>\n",
              "      <td>35.925926</td>\n",
              "      <td>0.855165</td>\n",
              "    </tr>\n",
              "  </tbody>\n",
              "</table>\n",
              "</div>"
            ],
            "text/plain": [
              "                                                        Mean  ...  Standard Deviation\n",
              "How satisfied are you with the quality of the s...  3.814815  ...            0.778825\n",
              "Did you notice any artefacts with the silhouett...  2.314815  ...            0.842818\n",
              "Do you think the artefacts were annoying?.1         1.796296  ...            0.855165\n",
              "\n",
              "[3 rows x 3 columns]"
            ]
          },
          "metadata": {}
        },
        {
          "output_type": "execute_result",
          "data": {
            "text/plain": [
              "True"
            ]
          },
          "metadata": {},
          "execution_count": 51
        },
        {
          "output_type": "display_data",
          "data": {
            "image/png": "[encoded data removed]",
            "text/plain": [
              "<Figure size 432x288 with 1 Axes>"
            ]
          },
          "metadata": {
            "needs_background": "light"
          }
        }
      ]
    },
    {
      "cell_type": "markdown",
      "metadata": {
        "id": "QGvBZPefjF8U"
      },
      "source": [
        "#### Analysis of video 7\n",
        "The questions for video 7 is in coloumn 6, 7 and 8"
      ]
    },
    {
      "cell_type": "code",
      "metadata": {
        "colab": {
          "base_uri": "https://localhost:8080/",
          "height": 476
        },
        "id": "9Yl7s5UYh_Uk",
        "outputId": "3d1b9b6d-7df7-40c4-cfe9-d63cf4370ed7"
      },
      "source": [
        "analysis(6, 9, 7) # Video 1"
      ],
      "execution_count": null,
      "outputs": [
        {
          "output_type": "stream",
          "name": "stdout",
          "text": [
            "['How satisfied are you with the quality of the silhouette extraction?', 'Did you notice any artefacts with the silhouette extraction?', 'Do you think the artefacts were annoying?']\n"
          ]
        },
        {
          "output_type": "display_data",
          "data": {
            "text/html": [
              "<div>\n",
              "<style scoped>\n",
              "    .dataframe tbody tr th:only-of-type {\n",
              "        vertical-align: middle;\n",
              "    }\n",
              "\n",
              "    .dataframe tbody tr th {\n",
              "        vertical-align: top;\n",
              "    }\n",
              "\n",
              "    .dataframe thead th {\n",
              "        text-align: right;\n",
              "    }\n",
              "</style>\n",
              "<table border=\"1\" class=\"dataframe\">\n",
              "  <thead>\n",
              "    <tr style=\"text-align: right;\">\n",
              "      <th></th>\n",
              "      <th>Mean</th>\n",
              "      <th>Percentage of 5</th>\n",
              "      <th>Standard Deviation</th>\n",
              "    </tr>\n",
              "  </thead>\n",
              "  <tbody>\n",
              "    <tr>\n",
              "      <th>How satisfied are you with the quality of the silhouette extraction?</th>\n",
              "      <td>2.592593</td>\n",
              "      <td>51.851852</td>\n",
              "      <td>0.858224</td>\n",
              "    </tr>\n",
              "    <tr>\n",
              "      <th>Did you notice any artefacts with the silhouette extraction?</th>\n",
              "      <td>3.851852</td>\n",
              "      <td>77.037037</td>\n",
              "      <td>0.939840</td>\n",
              "    </tr>\n",
              "    <tr>\n",
              "      <th>Do you think the artefacts were annoying?</th>\n",
              "      <td>3.185185</td>\n",
              "      <td>63.703704</td>\n",
              "      <td>0.912680</td>\n",
              "    </tr>\n",
              "  </tbody>\n",
              "</table>\n",
              "</div>"
            ],
            "text/plain": [
              "                                                        Mean  ...  Standard Deviation\n",
              "How satisfied are you with the quality of the s...  2.592593  ...            0.858224\n",
              "Did you notice any artefacts with the silhouett...  3.851852  ...            0.939840\n",
              "Do you think the artefacts were annoying?           3.185185  ...            0.912680\n",
              "\n",
              "[3 rows x 3 columns]"
            ]
          },
          "metadata": {}
        },
        {
          "output_type": "execute_result",
          "data": {
            "text/plain": [
              "True"
            ]
          },
          "metadata": {},
          "execution_count": 52
        },
        {
          "output_type": "display_data",
          "data": {
            "image/png": "[encoded data removed]",
            "text/plain": [
              "<Figure size 432x288 with 1 Axes>"
            ]
          },
          "metadata": {
            "needs_background": "light"
          }
        }
      ]
    },
    {
      "cell_type": "markdown",
      "metadata": {
        "id": "_FFpMWPisakh"
      },
      "source": [
        "#### Analysis of video 8\n",
        "The questions for video 8 is in coloumn 39, 40 and 41"
      ]
    },
    {
      "cell_type": "code",
      "metadata": {
        "colab": {
          "base_uri": "https://localhost:8080/",
          "height": 476
        },
        "id": "p9BpJYOVmoy1",
        "outputId": "9fe17772-65d7-4fbd-f221-da0fb8b365f5"
      },
      "source": [
        "analysis(39, 42, 8)"
      ],
      "execution_count": null,
      "outputs": [
        {
          "output_type": "stream",
          "name": "stdout",
          "text": [
            "['How satisfied are you with the quality of the silhouette extraction?.11', 'Did you notice any artefacts with the silhouette extraction?.11', 'Do you think the artefacts were annoying?.11']\n"
          ]
        },
        {
          "output_type": "display_data",
          "data": {
            "text/html": [
              "<div>\n",
              "<style scoped>\n",
              "    .dataframe tbody tr th:only-of-type {\n",
              "        vertical-align: middle;\n",
              "    }\n",
              "\n",
              "    .dataframe tbody tr th {\n",
              "        vertical-align: top;\n",
              "    }\n",
              "\n",
              "    .dataframe thead th {\n",
              "        text-align: right;\n",
              "    }\n",
              "</style>\n",
              "<table border=\"1\" class=\"dataframe\">\n",
              "  <thead>\n",
              "    <tr style=\"text-align: right;\">\n",
              "      <th></th>\n",
              "      <th>Mean</th>\n",
              "      <th>Percentage of 5</th>\n",
              "      <th>Standard Deviation</th>\n",
              "    </tr>\n",
              "  </thead>\n",
              "  <tbody>\n",
              "    <tr>\n",
              "      <th>How satisfied are you with the quality of the silhouette extraction?.11</th>\n",
              "      <td>2.500000</td>\n",
              "      <td>50.000000</td>\n",
              "      <td>0.841158</td>\n",
              "    </tr>\n",
              "    <tr>\n",
              "      <th>Did you notice any artefacts with the silhouette extraction?.11</th>\n",
              "      <td>3.833333</td>\n",
              "      <td>76.666667</td>\n",
              "      <td>0.746059</td>\n",
              "    </tr>\n",
              "    <tr>\n",
              "      <th>Do you think the artefacts were annoying?.11</th>\n",
              "      <td>3.314815</td>\n",
              "      <td>66.296296</td>\n",
              "      <td>0.948168</td>\n",
              "    </tr>\n",
              "  </tbody>\n",
              "</table>\n",
              "</div>"
            ],
            "text/plain": [
              "                                                        Mean  ...  Standard Deviation\n",
              "How satisfied are you with the quality of the s...  2.500000  ...            0.841158\n",
              "Did you notice any artefacts with the silhouett...  3.833333  ...            0.746059\n",
              "Do you think the artefacts were annoying?.11        3.314815  ...            0.948168\n",
              "\n",
              "[3 rows x 3 columns]"
            ]
          },
          "metadata": {}
        },
        {
          "output_type": "execute_result",
          "data": {
            "text/plain": [
              "True"
            ]
          },
          "metadata": {},
          "execution_count": 53
        },
        {
          "output_type": "display_data",
          "data": {
            "image/png": "[encoded data removed]",
            "text/plain": [
              "<Figure size 432x288 with 1 Axes>"
            ]
          },
          "metadata": {
            "needs_background": "light"
          }
        }
      ]
    },
    {
      "cell_type": "markdown",
      "metadata": {
        "id": "4zIdYWiVsiXd"
      },
      "source": [
        "#### Analysis of video 9\n",
        "The questions for video 9 is in coloumn 27, 28 and 29"
      ]
    },
    {
      "cell_type": "code",
      "metadata": {
        "colab": {
          "base_uri": "https://localhost:8080/",
          "height": 476
        },
        "id": "FdSna7-ysoIC",
        "outputId": "7ac2a78b-3793-446a-f9c1-af7096c4554d"
      },
      "source": [
        "analysis(27, 30, 9)"
      ],
      "execution_count": null,
      "outputs": [
        {
          "output_type": "stream",
          "name": "stdout",
          "text": [
            "['How satisfied are you with the quality of the silhouette extraction?.7', 'Did you notice any artefacts with the silhouette extraction?.7', 'Do you think the artefacts were annoying?.7']\n"
          ]
        },
        {
          "output_type": "display_data",
          "data": {
            "text/html": [
              "<div>\n",
              "<style scoped>\n",
              "    .dataframe tbody tr th:only-of-type {\n",
              "        vertical-align: middle;\n",
              "    }\n",
              "\n",
              "    .dataframe tbody tr th {\n",
              "        vertical-align: top;\n",
              "    }\n",
              "\n",
              "    .dataframe thead th {\n",
              "        text-align: right;\n",
              "    }\n",
              "</style>\n",
              "<table border=\"1\" class=\"dataframe\">\n",
              "  <thead>\n",
              "    <tr style=\"text-align: right;\">\n",
              "      <th></th>\n",
              "      <th>Mean</th>\n",
              "      <th>Percentage of 5</th>\n",
              "      <th>Standard Deviation</th>\n",
              "    </tr>\n",
              "  </thead>\n",
              "  <tbody>\n",
              "    <tr>\n",
              "      <th>How satisfied are you with the quality of the silhouette extraction?.7</th>\n",
              "      <td>3.907407</td>\n",
              "      <td>78.148148</td>\n",
              "      <td>0.807244</td>\n",
              "    </tr>\n",
              "    <tr>\n",
              "      <th>Did you notice any artefacts with the silhouette extraction?.7</th>\n",
              "      <td>2.018519</td>\n",
              "      <td>40.370370</td>\n",
              "      <td>0.788855</td>\n",
              "    </tr>\n",
              "    <tr>\n",
              "      <th>Do you think the artefacts were annoying?.7</th>\n",
              "      <td>1.481481</td>\n",
              "      <td>29.629630</td>\n",
              "      <td>0.794812</td>\n",
              "    </tr>\n",
              "  </tbody>\n",
              "</table>\n",
              "</div>"
            ],
            "text/plain": [
              "                                                        Mean  ...  Standard Deviation\n",
              "How satisfied are you with the quality of the s...  3.907407  ...            0.807244\n",
              "Did you notice any artefacts with the silhouett...  2.018519  ...            0.788855\n",
              "Do you think the artefacts were annoying?.7         1.481481  ...            0.794812\n",
              "\n",
              "[3 rows x 3 columns]"
            ]
          },
          "metadata": {}
        },
        {
          "output_type": "execute_result",
          "data": {
            "text/plain": [
              "True"
            ]
          },
          "metadata": {},
          "execution_count": 54
        },
        {
          "output_type": "display_data",
          "data": {
            "image/png": "[encoded data removed]",
            "text/plain": [
              "<Figure size 432x288 with 1 Axes>"
            ]
          },
          "metadata": {
            "needs_background": "light"
          }
        }
      ]
    },
    {
      "cell_type": "markdown",
      "metadata": {
        "id": "EsDBi5m0ssTM"
      },
      "source": [
        "#### Analysis of video 10\n",
        "The questions for video 10 is in coloumn 15, 16 and 17"
      ]
    },
    {
      "cell_type": "code",
      "metadata": {
        "colab": {
          "base_uri": "https://localhost:8080/",
          "height": 476
        },
        "id": "vnN6KLmhsv0N",
        "outputId": "11b29f2a-16f2-4468-9d0e-2316913011ec"
      },
      "source": [
        "analysis(15, 18, 10)"
      ],
      "execution_count": null,
      "outputs": [
        {
          "output_type": "stream",
          "name": "stdout",
          "text": [
            "['How satisfied are you with the quality of the silhouette extraction?.3', 'Did you notice any artefacts with the silhouette extraction?.3', 'Do you think the artefacts were annoying?.3']\n"
          ]
        },
        {
          "output_type": "display_data",
          "data": {
            "text/html": [
              "<div>\n",
              "<style scoped>\n",
              "    .dataframe tbody tr th:only-of-type {\n",
              "        vertical-align: middle;\n",
              "    }\n",
              "\n",
              "    .dataframe tbody tr th {\n",
              "        vertical-align: top;\n",
              "    }\n",
              "\n",
              "    .dataframe thead th {\n",
              "        text-align: right;\n",
              "    }\n",
              "</style>\n",
              "<table border=\"1\" class=\"dataframe\">\n",
              "  <thead>\n",
              "    <tr style=\"text-align: right;\">\n",
              "      <th></th>\n",
              "      <th>Mean</th>\n",
              "      <th>Percentage of 5</th>\n",
              "      <th>Standard Deviation</th>\n",
              "    </tr>\n",
              "  </thead>\n",
              "  <tbody>\n",
              "    <tr>\n",
              "      <th>How satisfied are you with the quality of the silhouette extraction?.3</th>\n",
              "      <td>1.759259</td>\n",
              "      <td>35.185185</td>\n",
              "      <td>0.698656</td>\n",
              "    </tr>\n",
              "    <tr>\n",
              "      <th>Did you notice any artefacts with the silhouette extraction?.3</th>\n",
              "      <td>4.444444</td>\n",
              "      <td>88.888889</td>\n",
              "      <td>0.718139</td>\n",
              "    </tr>\n",
              "    <tr>\n",
              "      <th>Do you think the artefacts were annoying?.3</th>\n",
              "      <td>3.962963</td>\n",
              "      <td>79.259259</td>\n",
              "      <td>0.776129</td>\n",
              "    </tr>\n",
              "  </tbody>\n",
              "</table>\n",
              "</div>"
            ],
            "text/plain": [
              "                                                        Mean  ...  Standard Deviation\n",
              "How satisfied are you with the quality of the s...  1.759259  ...            0.698656\n",
              "Did you notice any artefacts with the silhouett...  4.444444  ...            0.718139\n",
              "Do you think the artefacts were annoying?.3         3.962963  ...            0.776129\n",
              "\n",
              "[3 rows x 3 columns]"
            ]
          },
          "metadata": {}
        },
        {
          "output_type": "execute_result",
          "data": {
            "text/plain": [
              "True"
            ]
          },
          "metadata": {},
          "execution_count": 55
        },
        {
          "output_type": "display_data",
          "data": {
            "image/png": "[encoded data removed]",
            "text/plain": [
              "<Figure size 432x288 with 1 Axes>"
            ]
          },
          "metadata": {
            "needs_background": "light"
          }
        }
      ]
    },
    {
      "cell_type": "markdown",
      "metadata": {
        "id": "Y4ue205Hszfi"
      },
      "source": [
        "#### Analysis of video 11\n",
        "The questions for video 11 is in coloumn 36, 37 and 38"
      ]
    },
    {
      "cell_type": "code",
      "metadata": {
        "colab": {
          "base_uri": "https://localhost:8080/",
          "height": 476
        },
        "id": "YKDIMQCus6A8",
        "outputId": "eeafb9cc-068d-47d3-9cd7-e1e0be1b7a07"
      },
      "source": [
        "analysis(36, 39, 11)"
      ],
      "execution_count": null,
      "outputs": [
        {
          "output_type": "stream",
          "name": "stdout",
          "text": [
            "['How satisfied are you with the quality of the silhouette extraction?.10', 'Did you notice any artefacts with the silhouette extraction?.10', 'Do you think the artefacts were annoying?.10']\n"
          ]
        },
        {
          "output_type": "display_data",
          "data": {
            "text/html": [
              "<div>\n",
              "<style scoped>\n",
              "    .dataframe tbody tr th:only-of-type {\n",
              "        vertical-align: middle;\n",
              "    }\n",
              "\n",
              "    .dataframe tbody tr th {\n",
              "        vertical-align: top;\n",
              "    }\n",
              "\n",
              "    .dataframe thead th {\n",
              "        text-align: right;\n",
              "    }\n",
              "</style>\n",
              "<table border=\"1\" class=\"dataframe\">\n",
              "  <thead>\n",
              "    <tr style=\"text-align: right;\">\n",
              "      <th></th>\n",
              "      <th>Mean</th>\n",
              "      <th>Percentage of 5</th>\n",
              "      <th>Standard Deviation</th>\n",
              "    </tr>\n",
              "  </thead>\n",
              "  <tbody>\n",
              "    <tr>\n",
              "      <th>How satisfied are you with the quality of the silhouette extraction?.10</th>\n",
              "      <td>2.370370</td>\n",
              "      <td>47.407407</td>\n",
              "      <td>0.830919</td>\n",
              "    </tr>\n",
              "    <tr>\n",
              "      <th>Did you notice any artefacts with the silhouette extraction?.10</th>\n",
              "      <td>3.685185</td>\n",
              "      <td>73.703704</td>\n",
              "      <td>0.796788</td>\n",
              "    </tr>\n",
              "    <tr>\n",
              "      <th>Do you think the artefacts were annoying?.10</th>\n",
              "      <td>3.351852</td>\n",
              "      <td>67.037037</td>\n",
              "      <td>0.893528</td>\n",
              "    </tr>\n",
              "  </tbody>\n",
              "</table>\n",
              "</div>"
            ],
            "text/plain": [
              "                                                        Mean  ...  Standard Deviation\n",
              "How satisfied are you with the quality of the s...  2.370370  ...            0.830919\n",
              "Did you notice any artefacts with the silhouett...  3.685185  ...            0.796788\n",
              "Do you think the artefacts were annoying?.10        3.351852  ...            0.893528\n",
              "\n",
              "[3 rows x 3 columns]"
            ]
          },
          "metadata": {}
        },
        {
          "output_type": "execute_result",
          "data": {
            "text/plain": [
              "True"
            ]
          },
          "metadata": {},
          "execution_count": 56
        },
        {
          "output_type": "display_data",
          "data": {
            "image/png": "[encoded data removed]",
            "text/plain": [
              "<Figure size 432x288 with 1 Axes>"
            ]
          },
          "metadata": {
            "needs_background": "light"
          }
        }
      ]
    },
    {
      "cell_type": "markdown",
      "metadata": {
        "id": "7qSAwLpLs_dV"
      },
      "source": [
        "#### Analysis of video 12\n",
        "The questions for video 12 is in coloumn 18, 19 and 20"
      ]
    },
    {
      "cell_type": "code",
      "metadata": {
        "colab": {
          "base_uri": "https://localhost:8080/",
          "height": 476
        },
        "id": "zqEHK5aZtChS",
        "outputId": "0ad9445f-cb29-4959-bdcb-1f9d39ba0634"
      },
      "source": [
        "analysis(18, 21, 12)"
      ],
      "execution_count": null,
      "outputs": [
        {
          "output_type": "stream",
          "name": "stdout",
          "text": [
            "['How satisfied are you with the quality of the silhouette extraction?.4', 'Did you notice any artefacts with the silhouette extraction?.4', 'Do you think the artefacts were annoying?.4']\n"
          ]
        },
        {
          "output_type": "display_data",
          "data": {
            "text/html": [
              "<div>\n",
              "<style scoped>\n",
              "    .dataframe tbody tr th:only-of-type {\n",
              "        vertical-align: middle;\n",
              "    }\n",
              "\n",
              "    .dataframe tbody tr th {\n",
              "        vertical-align: top;\n",
              "    }\n",
              "\n",
              "    .dataframe thead th {\n",
              "        text-align: right;\n",
              "    }\n",
              "</style>\n",
              "<table border=\"1\" class=\"dataframe\">\n",
              "  <thead>\n",
              "    <tr style=\"text-align: right;\">\n",
              "      <th></th>\n",
              "      <th>Mean</th>\n",
              "      <th>Percentage of 5</th>\n",
              "      <th>Standard Deviation</th>\n",
              "    </tr>\n",
              "  </thead>\n",
              "  <tbody>\n",
              "    <tr>\n",
              "      <th>How satisfied are you with the quality of the silhouette extraction?.4</th>\n",
              "      <td>4.685185</td>\n",
              "      <td>93.703704</td>\n",
              "      <td>0.507457</td>\n",
              "    </tr>\n",
              "    <tr>\n",
              "      <th>Did you notice any artefacts with the silhouette extraction?.4</th>\n",
              "      <td>1.240741</td>\n",
              "      <td>24.814815</td>\n",
              "      <td>0.580669</td>\n",
              "    </tr>\n",
              "    <tr>\n",
              "      <th>Do you think the artefacts were annoying?.4</th>\n",
              "      <td>1.074074</td>\n",
              "      <td>21.481481</td>\n",
              "      <td>0.328050</td>\n",
              "    </tr>\n",
              "  </tbody>\n",
              "</table>\n",
              "</div>"
            ],
            "text/plain": [
              "                                                        Mean  ...  Standard Deviation\n",
              "How satisfied are you with the quality of the s...  4.685185  ...            0.507457\n",
              "Did you notice any artefacts with the silhouett...  1.240741  ...            0.580669\n",
              "Do you think the artefacts were annoying?.4         1.074074  ...            0.328050\n",
              "\n",
              "[3 rows x 3 columns]"
            ]
          },
          "metadata": {}
        },
        {
          "output_type": "execute_result",
          "data": {
            "text/plain": [
              "True"
            ]
          },
          "metadata": {},
          "execution_count": 57
        },
        {
          "output_type": "display_data",
          "data": {
            "image/png": "[encoded data removed]",
            "text/plain": [
              "<Figure size 432x288 with 1 Axes>"
            ]
          },
          "metadata": {
            "needs_background": "light"
          }
        }
      ]
    },
    {
      "cell_type": "markdown",
      "metadata": {
        "id": "g3veBj0XBDSh"
      },
      "source": [
        "### Comparison of videos\n",
        "\n",
        "We want to plot each question for each of the videos to easily see which videos got the best score"
      ]
    },
    {
      "cell_type": "code",
      "metadata": {
        "id": "ENd3LDJnBS9i"
      },
      "source": [
        "def plot_questions(question):\n",
        "  \n",
        "  if question == 'How satisfied are you with the quality of the silhouette extraction?':\n",
        "    question_number = '1'\n",
        "  if question == 'Did you notice any artefacts with the silhouette extraction?':\n",
        "    question_number = '2'\n",
        "  if question == 'Do you think the artefacts were annoying?':\n",
        "    question_number = '3'\n",
        "\n",
        "  xlabels = []\n",
        "\n",
        "  for i in range(1, 12+1):\n",
        "    xlabels.append(str(i))\n",
        "  \n",
        "  Q = df_arranged.filter(regex=question).mean()\n",
        "\n",
        "  display(Q)\n",
        "  plt = Q.plot(kind=\"bar\", legend=False)\n",
        "\n",
        "  plt.set_title(\"Mean scores of question \" + str(question_number) + \" on all videos\")\n",
        "  plt.set_xlabel(\"Video number\")\n",
        "  plt.set_ylabel(\"Score\")\n",
        "  plt.set_ylim(0, 5)\n",
        "  plt.set_xticklabels( xlabels, rotation=0 )\n",
        "\n",
        "  plot = plt.figure\n",
        "  plot.savefig('rating/question_' + str(question_number) + '.pdf')\n",
        "  \n",
        "  plot.show()\n",
        "  return True\n",
        "\n"
      ],
      "execution_count": null,
      "outputs": []
    },
    {
      "cell_type": "markdown",
      "metadata": {
        "id": "n9n1ZInWdSVI"
      },
      "source": [
        "#### Mean score of question 1\n",
        "'How satisfied are you with the quality of the silhouette extraction?'"
      ]
    },
    {
      "cell_type": "code",
      "metadata": {
        "colab": {
          "base_uri": "https://localhost:8080/",
          "height": 538
        },
        "id": "FtSXfg4uR2uI",
        "outputId": "faef7d1d-ad4f-4ddf-92ca-f56741abe40c"
      },
      "source": [
        "plot_questions('How satisfied are you with the quality of the silhouette extraction?')\n"
      ],
      "execution_count": null,
      "outputs": [
        {
          "output_type": "display_data",
          "data": {
            "text/plain": [
              "How satisfied are you with the quality of the silhouette extraction?.9     2.759259\n",
              "How satisfied are you with the quality of the silhouette extraction?.8     2.592593\n",
              "How satisfied are you with the quality of the silhouette extraction?.2     2.870370\n",
              "How satisfied are you with the quality of the silhouette extraction?.6     1.685185\n",
              "How satisfied are you with the quality of the silhouette extraction?.5     1.685185\n",
              "How satisfied are you with the quality of the silhouette extraction?.1     3.814815\n",
              "How satisfied are you with the quality of the silhouette extraction?       2.592593\n",
              "How satisfied are you with the quality of the silhouette extraction?.11    2.500000\n",
              "How satisfied are you with the quality of the silhouette extraction?.7     3.907407\n",
              "How satisfied are you with the quality of the silhouette extraction?.3     1.759259\n",
              "How satisfied are you with the quality of the silhouette extraction?.10    2.370370\n",
              "How satisfied are you with the quality of the silhouette extraction?.4     4.685185\n",
              "dtype: float64"
            ]
          },
          "metadata": {}
        },
        {
          "output_type": "execute_result",
          "data": {
            "text/plain": [
              "True"
            ]
          },
          "metadata": {},
          "execution_count": 59
        },
        {
          "output_type": "display_data",
          "data": {
            "image/png": "[encoded data removed]",
            "text/plain": [
              "<Figure size 432x288 with 1 Axes>"
            ]
          },
          "metadata": {
            "needs_background": "light"
          }
        }
      ]
    },
    {
      "cell_type": "markdown",
      "metadata": {
        "id": "gKBwjUdadaq-"
      },
      "source": [
        "#### Mean score of quesiton 2 \n",
        "'Did you notice any artefacts with the silhouette extraction?'"
      ]
    },
    {
      "cell_type": "code",
      "metadata": {
        "colab": {
          "base_uri": "https://localhost:8080/",
          "height": 538
        },
        "id": "Vlh_3DXLR5zU",
        "outputId": "8e4b3c71-d051-4d33-99b5-3ed90cafb4a2"
      },
      "source": [
        "plot_questions('Did you notice any artefacts with the silhouette extraction?')"
      ],
      "execution_count": null,
      "outputs": [
        {
          "output_type": "display_data",
          "data": {
            "text/plain": [
              "Did you notice any artefacts with the silhouette extraction?.9     3.444444\n",
              "Did you notice any artefacts with the silhouette extraction?.8     3.574074\n",
              "Did you notice any artefacts with the silhouette extraction?.2     3.407407\n",
              "Did you notice any artefacts with the silhouette extraction?.6     4.444444\n",
              "Did you notice any artefacts with the silhouette extraction?.5     4.574074\n",
              "Did you notice any artefacts with the silhouette extraction?.1     2.314815\n",
              "Did you notice any artefacts with the silhouette extraction?       3.851852\n",
              "Did you notice any artefacts with the silhouette extraction?.11    3.833333\n",
              "Did you notice any artefacts with the silhouette extraction?.7     2.018519\n",
              "Did you notice any artefacts with the silhouette extraction?.3     4.444444\n",
              "Did you notice any artefacts with the silhouette extraction?.10    3.685185\n",
              "Did you notice any artefacts with the silhouette extraction?.4     1.240741\n",
              "dtype: float64"
            ]
          },
          "metadata": {}
        },
        {
          "output_type": "execute_result",
          "data": {
            "text/plain": [
              "True"
            ]
          },
          "metadata": {},
          "execution_count": 60
        },
        {
          "output_type": "display_data",
          "data": {
            "image/png": "[encoded data removed]",
            "text/plain": [
              "<Figure size 432x288 with 1 Axes>"
            ]
          },
          "metadata": {
            "needs_background": "light"
          }
        }
      ]
    },
    {
      "cell_type": "markdown",
      "metadata": {
        "id": "fXn7FibYdfs9"
      },
      "source": [
        "#### Mean score of question 3\n",
        "'Do you think the artefacts were annoying?'"
      ]
    },
    {
      "cell_type": "code",
      "metadata": {
        "colab": {
          "base_uri": "https://localhost:8080/",
          "height": 538
        },
        "id": "EhUa3eUCR8pU",
        "outputId": "014a563e-1eb5-4e4b-b4c3-7fcbdaf807cb"
      },
      "source": [
        "plot_questions('Do you think the artefacts were annoying?') "
      ],
      "execution_count": null,
      "outputs": [
        {
          "output_type": "display_data",
          "data": {
            "text/plain": [
              "Do you think the artefacts were annoying?.9     3.055556\n",
              "Do you think the artefacts were annoying?.8     2.981481\n",
              "Do you think the artefacts were annoying?.2     2.925926\n",
              "Do you think the artefacts were annoying?.6     3.981481\n",
              "Do you think the artefacts were annoying?.5     4.113208\n",
              "Do you think the artefacts were annoying?.1     1.796296\n",
              "Do you think the artefacts were annoying?       3.185185\n",
              "Do you think the artefacts were annoying?.11    3.314815\n",
              "Do you think the artefacts were annoying?.7     1.481481\n",
              "Do you think the artefacts were annoying?.3     3.962963\n",
              "Do you think the artefacts were annoying?.10    3.351852\n",
              "Do you think the artefacts were annoying?.4     1.074074\n",
              "dtype: float64"
            ]
          },
          "metadata": {}
        },
        {
          "output_type": "execute_result",
          "data": {
            "text/plain": [
              "True"
            ]
          },
          "metadata": {},
          "execution_count": 61
        },
        {
          "output_type": "display_data",
          "data": {
            "image/png": "[encoded data removed]",
            "text/plain": [
              "<Figure size 432x288 with 1 Axes>"
            ]
          },
          "metadata": {
            "needs_background": "light"
          }
        }
      ]
    },
    {
      "cell_type": "markdown",
      "metadata": {
        "id": "2jM5jpNZdue1"
      },
      "source": [
        "### Objective Measures\n"
      ]
    },
    {
      "cell_type": "code",
      "metadata": {
        "colab": {
          "base_uri": "https://localhost:8080/",
          "height": 206
        },
        "id": "gdu0PdmDdy2O",
        "outputId": "9356b510-a02d-4a6b-ca2e-88770adb7f63"
      },
      "source": [
        "df_objective = pd.read_csv('average_objective_stats.csv')\n",
        "df_objective.head()"
      ],
      "execution_count": null,
      "outputs": [
        {
          "output_type": "execute_result",
          "data": {
            "text/html": [
              "<div>\n",
              "<style scoped>\n",
              "    .dataframe tbody tr th:only-of-type {\n",
              "        vertical-align: middle;\n",
              "    }\n",
              "\n",
              "    .dataframe tbody tr th {\n",
              "        vertical-align: top;\n",
              "    }\n",
              "\n",
              "    .dataframe thead th {\n",
              "        text-align: right;\n",
              "    }\n",
              "</style>\n",
              "<table border=\"1\" class=\"dataframe\">\n",
              "  <thead>\n",
              "    <tr style=\"text-align: right;\">\n",
              "      <th></th>\n",
              "      <th>video_number</th>\n",
              "      <th>IoU</th>\n",
              "      <th>DC</th>\n",
              "      <th>PA</th>\n",
              "      <th>TP</th>\n",
              "      <th>TN</th>\n",
              "      <th>FPN</th>\n",
              "    </tr>\n",
              "  </thead>\n",
              "  <tbody>\n",
              "    <tr>\n",
              "      <th>0</th>\n",
              "      <td>1</td>\n",
              "      <td>0.935903</td>\n",
              "      <td>0.966676</td>\n",
              "      <td>0.992202</td>\n",
              "      <td>232890.245847</td>\n",
              "      <td>1.824539e+06</td>\n",
              "      <td>16170.830565</td>\n",
              "    </tr>\n",
              "    <tr>\n",
              "      <th>1</th>\n",
              "      <td>2</td>\n",
              "      <td>0.940968</td>\n",
              "      <td>0.969439</td>\n",
              "      <td>0.992814</td>\n",
              "      <td>234287.923588</td>\n",
              "      <td>1.824411e+06</td>\n",
              "      <td>14900.611296</td>\n",
              "    </tr>\n",
              "    <tr>\n",
              "      <th>2</th>\n",
              "      <td>3</td>\n",
              "      <td>0.950964</td>\n",
              "      <td>0.974862</td>\n",
              "      <td>0.994063</td>\n",
              "      <td>237918.983389</td>\n",
              "      <td>1.823370e+06</td>\n",
              "      <td>12310.750831</td>\n",
              "    </tr>\n",
              "    <tr>\n",
              "      <th>3</th>\n",
              "      <td>4</td>\n",
              "      <td>0.947189</td>\n",
              "      <td>0.972868</td>\n",
              "      <td>0.993536</td>\n",
              "      <td>240444.003322</td>\n",
              "      <td>1.819753e+06</td>\n",
              "      <td>13402.730897</td>\n",
              "    </tr>\n",
              "    <tr>\n",
              "      <th>4</th>\n",
              "      <td>5</td>\n",
              "      <td>0.948122</td>\n",
              "      <td>0.973362</td>\n",
              "      <td>0.993658</td>\n",
              "      <td>240427.262458</td>\n",
              "      <td>1.820023e+06</td>\n",
              "      <td>13150.106312</td>\n",
              "    </tr>\n",
              "  </tbody>\n",
              "</table>\n",
              "</div>"
            ],
            "text/plain": [
              "   video_number       IoU        DC  ...             TP            TN           FPN\n",
              "0             1  0.935903  0.966676  ...  232890.245847  1.824539e+06  16170.830565\n",
              "1             2  0.940968  0.969439  ...  234287.923588  1.824411e+06  14900.611296\n",
              "2             3  0.950964  0.974862  ...  237918.983389  1.823370e+06  12310.750831\n",
              "3             4  0.947189  0.972868  ...  240444.003322  1.819753e+06  13402.730897\n",
              "4             5  0.948122  0.973362  ...  240427.262458  1.820023e+06  13150.106312\n",
              "\n",
              "[5 rows x 7 columns]"
            ]
          },
          "metadata": {},
          "execution_count": 62
        }
      ]
    },
    {
      "cell_type": "code",
      "metadata": {
        "id": "ZMl0fbY-eBB7"
      },
      "source": [
        "def plot_objective(parameter):\n",
        "  xlabels = []\n",
        "  offset = 0.0025\n",
        "\n",
        "  for i in range(1, 12+1):\n",
        "    xlabels.append(str(i))\n",
        "  \n",
        "  param = df_objective[parameter]  \n",
        "  max_value = param.max()\n",
        "  min_value = param.min()\n",
        "\n",
        "  display(param)\n",
        "  plt = param.plot(kind=\"bar\", legend=False)\n",
        "\n",
        "  plt.set_title(str(parameter) + \" scores\")\n",
        "  plt.set_xlabel(\"Video number\")\n",
        "  plt.set_ylabel(\"Score\")\n",
        "  plt.set_ylim(min_value-offset, max_value+offset)\n",
        "  plt.set_xticklabels( xlabels, rotation=0 )\n",
        "\n",
        "  plot = plt.figure\n",
        "  plot.savefig('rating/' + str(parameter) + '.pdf')\n",
        "  \n",
        "  plot.show()\n",
        "  return True"
      ],
      "execution_count": null,
      "outputs": []
    },
    {
      "cell_type": "code",
      "metadata": {
        "colab": {
          "base_uri": "https://localhost:8080/",
          "height": 538
        },
        "id": "EQQh24vEiE_O",
        "outputId": "3cc7dac6-0228-4bb1-84e4-b684b7c3e93a"
      },
      "source": [
        "plot_objective(\"IoU\")\n"
      ],
      "execution_count": null,
      "outputs": [
        {
          "output_type": "display_data",
          "data": {
            "text/plain": [
              "0     0.935903\n",
              "1     0.940968\n",
              "2     0.950964\n",
              "3     0.947189\n",
              "4     0.948122\n",
              "5     0.942386\n",
              "6     0.939088\n",
              "7     0.947485\n",
              "8     0.936874\n",
              "9     0.939815\n",
              "10    0.941655\n",
              "11    0.938447\n",
              "Name: IoU, dtype: float64"
            ]
          },
          "metadata": {}
        },
        {
          "output_type": "execute_result",
          "data": {
            "text/plain": [
              "True"
            ]
          },
          "metadata": {},
          "execution_count": 64
        },
        {
          "output_type": "display_data",
          "data": {
            "image/png": "[encoded data removed]",
            "text/plain": [
              "<Figure size 432x288 with 1 Axes>"
            ]
          },
          "metadata": {
            "needs_background": "light"
          }
        }
      ]
    },
    {
      "cell_type": "code",
      "metadata": {
        "colab": {
          "base_uri": "https://localhost:8080/",
          "height": 538
        },
        "id": "tuW8xbC5iF-f",
        "outputId": "504a48c2-df42-4eea-cc58-ac7ecb2feadb"
      },
      "source": [
        "plot_objective(\"DC\")\n"
      ],
      "execution_count": null,
      "outputs": [
        {
          "output_type": "display_data",
          "data": {
            "text/plain": [
              "0     0.966676\n",
              "1     0.969439\n",
              "2     0.974862\n",
              "3     0.972868\n",
              "4     0.973362\n",
              "5     0.970329\n",
              "6     0.968551\n",
              "7     0.973031\n",
              "8     0.967404\n",
              "9     0.968972\n",
              "10    0.969947\n",
              "11    0.968245\n",
              "Name: DC, dtype: float64"
            ]
          },
          "metadata": {}
        },
        {
          "output_type": "execute_result",
          "data": {
            "text/plain": [
              "True"
            ]
          },
          "metadata": {},
          "execution_count": 65
        },
        {
          "output_type": "display_data",
          "data": {
            "image/png": "[encoded data removed]",
            "text/plain": [
              "<Figure size 432x288 with 1 Axes>"
            ]
          },
          "metadata": {
            "needs_background": "light"
          }
        }
      ]
    },
    {
      "cell_type": "code",
      "metadata": {
        "colab": {
          "base_uri": "https://localhost:8080/",
          "height": 538
        },
        "id": "T_vLTIl2iHdM",
        "outputId": "9e1a86bf-ba08-43dc-fb4d-52992a6f6252"
      },
      "source": [
        "plot_objective(\"PA\")\n"
      ],
      "execution_count": null,
      "outputs": [
        {
          "output_type": "display_data",
          "data": {
            "text/plain": [
              "0     0.992202\n",
              "1     0.992814\n",
              "2     0.994063\n",
              "3     0.993536\n",
              "4     0.993658\n",
              "5     0.992917\n",
              "6     0.992161\n",
              "7     0.993323\n",
              "8     0.991866\n",
              "9     0.992404\n",
              "10    0.992651\n",
              "11    0.992205\n",
              "Name: PA, dtype: float64"
            ]
          },
          "metadata": {}
        },
        {
          "output_type": "execute_result",
          "data": {
            "text/plain": [
              "True"
            ]
          },
          "metadata": {},
          "execution_count": 66
        },
        {
          "output_type": "display_data",
          "data": {
            "image/png": "[encoded data removed]",
            "text/plain": [
              "<Figure size 432x288 with 1 Axes>"
            ]
          },
          "metadata": {
            "needs_background": "light"
          }
        }
      ]
    },
    {
      "cell_type": "code",
      "metadata": {
        "colab": {
          "base_uri": "https://localhost:8080/"
        },
        "id": "wISR3-cY6Rkh",
        "outputId": "7a2ff280-e9f6-4708-fbe5-2d73bba54106"
      },
      "source": [
        "!zip -r rating.zip rating\n"
      ],
      "execution_count": null,
      "outputs": [
        {
          "output_type": "stream",
          "name": "stdout",
          "text": [
            "  adding: rating/ (stored 0%)\n",
            "  adding: rating/video_9.pdf (deflated 32%)\n",
            "  adding: rating/video_11.pdf (deflated 33%)\n",
            "  adding: rating/question_3.pdf (deflated 31%)\n",
            "  adding: rating/video_12.pdf (deflated 33%)\n",
            "  adding: rating/PA.pdf (deflated 31%)\n",
            "  adding: rating/question_2.pdf (deflated 31%)\n",
            "  adding: rating/video_6.pdf (deflated 32%)\n",
            "  adding: rating/video_4.pdf (deflated 33%)\n",
            "  adding: rating/video_5.pdf (deflated 33%)\n",
            "  adding: rating/video_7.pdf (deflated 33%)\n",
            "  adding: rating/question_1.pdf (deflated 31%)\n",
            "  adding: rating/DC.pdf (deflated 31%)\n",
            "  adding: rating/IoU.pdf (deflated 31%)\n",
            "  adding: rating/video_2.pdf (deflated 33%)\n",
            "  adding: rating/video_3.pdf (deflated 33%)\n",
            "  adding: rating/video_10.pdf (deflated 33%)\n",
            "  adding: rating/video_1.pdf (deflated 33%)\n",
            "  adding: rating/video_8.pdf (deflated 32%)\n"
          ]
        }
      ]
    },
    {
      "cell_type": "code",
      "metadata": {
        "id": "Qo8gM3sHjjO4",
        "colab": {
          "base_uri": "https://localhost:8080/",
          "height": 17
        },
        "outputId": "b7efcb36-9d37-4597-ea39-116e05cd3650"
      },
      "source": [
        "from google.colab import files\n",
        "files.download('rating.zip') "
      ],
      "execution_count": null,
      "outputs": [
        {
          "output_type": "display_data",
          "data": {
            "application/javascript": [
              "\n",
              "    async function download(id, filename, size) {\n",
              "      if (!google.colab.kernel.accessAllowed) {\n",
              "        return;\n",
              "      }\n",
              "      const div = document.createElement('div');\n",
              "      const label = document.createElement('label');\n",
              "      label.textContent = `Downloading \"${filename}\": `;\n",
              "      div.appendChild(label);\n",
              "      const progress = document.createElement('progress');\n",
              "      progress.max = size;\n",
              "      div.appendChild(progress);\n",
              "      document.body.appendChild(div);\n",
              "\n",
              "      const buffers = [];\n",
              "      let downloaded = 0;\n",
              "\n",
              "      const channel = await google.colab.kernel.comms.open(id);\n",
              "      // Send a message to notify the kernel that we're ready.\n",
              "      channel.send({})\n",
              "\n",
              "      for await (const message of channel.messages) {\n",
              "        // Send a message to notify the kernel that we're ready.\n",
              "        channel.send({})\n",
              "        if (message.buffers) {\n",
              "          for (const buffer of message.buffers) {\n",
              "            buffers.push(buffer);\n",
              "            downloaded += buffer.byteLength;\n",
              "            progress.value = downloaded;\n",
              "          }\n",
              "        }\n",
              "      }\n",
              "      const blob = new Blob(buffers, {type: 'application/binary'});\n",
              "      const a = document.createElement('a');\n",
              "      a.href = window.URL.createObjectURL(blob);\n",
              "      a.download = filename;\n",
              "      div.appendChild(a);\n",
              "      a.click();\n",
              "      div.remove();\n",
              "    }\n",
              "  "
            ],
            "text/plain": [
              "<IPython.core.display.Javascript object>"
            ]
          },
          "metadata": {}
        },
        {
          "output_type": "display_data",
          "data": {
            "application/javascript": [
              "download(\"download_db689c3b-ed49-44f1-89e3-29f49c92c7cf\", \"rating.zip\", 143923)"
            ],
            "text/plain": [
              "<IPython.core.display.Javascript object>"
            ]
          },
          "metadata": {}
        }
      ]
    }
  ]
}